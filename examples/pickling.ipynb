{
 "cells": [
  {
   "cell_type": "markdown",
   "metadata": {},
   "source": [
    "## Saving systems and atoms to file"
   ]
  },
  {
   "cell_type": "markdown",
   "metadata": {},
   "source": [
    "pyscal offers tools to save ``System`` and ``Atom`` classes to file. This makes use of ``numpy.save`` and ``numpy.load`` methods to save the information. Information including calculated neighbors, q values, solidity, voronoi volume etc are all saved. Saving this information is beneficial in systems with a large number of atoms as it saves time which would otherwise be spent recalculating information. This example illustrates the use of ``pyscal.pickle`` module."
   ]
  },
  {
   "cell_type": "code",
   "execution_count": 1,
   "metadata": {},
   "outputs": [],
   "source": [
    "import pyscal.core as pc\n",
    "import pyscal.traj_process as ptp"
   ]
  },
  {
   "cell_type": "markdown",
   "metadata": {},
   "source": [
    "First a system is set up using an input file"
   ]
  },
  {
   "cell_type": "code",
   "execution_count": 16,
   "metadata": {},
   "outputs": [],
   "source": [
    "sys = pc.System()\n",
    "sys.read_inputfile('examples/conf.dump')"
   ]
  },
  {
   "cell_type": "markdown",
   "metadata": {},
   "source": [
    "In the next step,  the neighbors are calculated, and $\\bar{q}_4$ and $\\bar{q}_6$ are also calculated. "
   ]
  },
  {
   "cell_type": "code",
   "execution_count": 18,
   "metadata": {},
   "outputs": [],
   "source": [
    "sys.find_neighbors(method='cutoff', cutoff=3.6)\n",
    "sys.calculate_q([4, 6], averaged=True)"
   ]
  },
  {
   "cell_type": "markdown",
   "metadata": {},
   "source": [
    "In order to prevent recalculation of neighbors, for example if later we need to calculate $\\bar{q}_8$ and $\\bar{q}_{10}$, we can save the set of systems to a file."
   ]
  },
  {
   "cell_type": "markdown",
   "metadata": {},
   "source": [
    "### Saving individual system"
   ]
  },
  {
   "cell_type": "markdown",
   "metadata": {},
   "source": [
    "Single System instances can be saved without ``pyscal.pickle`` module directly, similar to how pandas DataFrames are saved to file. "
   ]
  },
  {
   "cell_type": "code",
   "execution_count": 19,
   "metadata": {},
   "outputs": [],
   "source": [
    "sys.to_file('test_system.npy')"
   ]
  },
  {
   "cell_type": "markdown",
   "metadata": {},
   "source": [
    "Thats it! The information is saved in the while. Once again, ``pyscal.pickle.read_systems`` can be used to read the System instance. Alternatively, a new System can be created and the information can be read in from a file."
   ]
  },
  {
   "cell_type": "code",
   "execution_count": 20,
   "metadata": {},
   "outputs": [],
   "source": [
    "new_sys = pc.System()\n",
    "new_sys.from_file('test_system.npy')"
   ]
  },
  {
   "cell_type": "markdown",
   "metadata": {},
   "source": [
    "This system retains all the information and hence it can be used for further calculations"
   ]
  },
  {
   "cell_type": "code",
   "execution_count": 21,
   "metadata": {},
   "outputs": [],
   "source": [
    "new_sys.calculate_q([8, 10], averaged=True)"
   ]
  },
  {
   "cell_type": "markdown",
   "metadata": {},
   "source": [
    "Here $\\bar{q}_8$ and $\\bar{q}_{10}$ were calculated without having to find neighbors again."
   ]
  },
  {
   "cell_type": "markdown",
   "metadata": {},
   "source": [
    "### Saving atoms"
   ]
  },
  {
   "cell_type": "markdown",
   "metadata": {},
   "source": [
    "Alternatively, a list of atoms can also be saved to file."
   ]
  },
  {
   "cell_type": "code",
   "execution_count": 12,
   "metadata": {},
   "outputs": [],
   "source": [
    "atoms = new_sys.get_atoms()"
   ]
  },
  {
   "cell_type": "markdown",
   "metadata": {},
   "source": [
    "This list of atoms can be saved to file using,"
   ]
  },
  {
   "cell_type": "code",
   "execution_count": 13,
   "metadata": {},
   "outputs": [],
   "source": [
    "pp.write_atoms('atoms.npy', atoms)"
   ]
  },
  {
   "cell_type": "markdown",
   "metadata": {},
   "source": [
    "Similar to Systems, atoms can also be read in from the file,"
   ]
  },
  {
   "cell_type": "code",
   "execution_count": 14,
   "metadata": {},
   "outputs": [],
   "source": [
    "natoms = pp.read_atoms('atoms.npy')"
   ]
  }
 ],
 "metadata": {
  "kernelspec": {
   "display_name": "ml",
   "language": "python",
   "name": "ml"
  },
  "language_info": {
   "codemirror_mode": {
    "name": "ipython",
    "version": 3
   },
   "file_extension": ".py",
   "mimetype": "text/x-python",
   "name": "python",
   "nbconvert_exporter": "python",
   "pygments_lexer": "ipython3",
   "version": "3.7.3"
  }
 },
 "nbformat": 4,
 "nbformat_minor": 4
}
