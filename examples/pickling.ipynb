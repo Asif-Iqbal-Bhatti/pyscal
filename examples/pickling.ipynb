{
 "cells": [
  {
   "cell_type": "markdown",
   "metadata": {},
   "source": [
    "## Saving systems and atoms to file"
   ]
  },
  {
   "cell_type": "markdown",
   "metadata": {},
   "source": [
    "pyscal offers tools to save ``System`` and ``Atom`` classes to file. This makes use of ``numpy.save`` and ``numpy.load`` methods to save the information. Information including calculated neighbors, q values, solidity, voronoi volume etc are all saved. Saving this information is beneficial in systems with a large number of atoms as it saves time which would otherwise be spent recalculating information. This example illustrates the use of ``pyscal.pickle`` module."
   ]
  },
  {
   "cell_type": "markdown",
   "metadata": {},
   "source": [
    "First an input file - an md trajectory of 10 time slices, each containing 500 atoms is used. The trajectory is split into individual time slices using ``pyscal.traj_process`` module. "
   ]
  },
  {
   "cell_type": "code",
   "execution_count": 1,
   "metadata": {},
   "outputs": [],
   "source": [
    "import pyscal.core as pc\n",
    "import pyscal.traj_process as ptp"
   ]
  },
  {
   "cell_type": "markdown",
   "metadata": {},
   "source": [
    "### Saving a list of systems"
   ]
  },
  {
   "cell_type": "code",
   "execution_count": 2,
   "metadata": {},
   "outputs": [],
   "source": [
    "files = ptp.split_trajectory('traj.light')"
   ]
  },
  {
   "cell_type": "markdown",
   "metadata": {},
   "source": [
    "In the next step, each of the individual files are read into a system, the neighbors are calculated, and $\\bar{q}_4$ and $\\bar{q}_6$ are also calculated. The systems are then stored in an array."
   ]
  },
  {
   "cell_type": "code",
   "execution_count": 4,
   "metadata": {},
   "outputs": [],
   "source": [
    "systems = []\n",
    "for file in files:\n",
    "    sys = pc.System()\n",
    "    sys.read_inputfile(file)\n",
    "    sys.get_neighbors(method='cutoff', cutoff=3.6)\n",
    "    sys.calculate_q([4, 6], averaged=True)\n",
    "    systems.append(sys)"
   ]
  },
  {
   "cell_type": "markdown",
   "metadata": {},
   "source": [
    "In order to prevent recalculation of neighbors, for example if later we need to calculate $\\bar{q}_8$ and $\\bar{q}_{10}$, we can save the set of systems to a file."
   ]
  },
  {
   "cell_type": "code",
   "execution_count": 5,
   "metadata": {},
   "outputs": [],
   "source": [
    "import pyscal.pickle as pp"
   ]
  },
  {
   "cell_type": "code",
   "execution_count": 6,
   "metadata": {},
   "outputs": [],
   "source": [
    "pp.write_systems('systems.npy', systems)"
   ]
  },
  {
   "cell_type": "markdown",
   "metadata": {},
   "source": [
    "All the information from the system are stored in this file. At a later point, the systems can be read in using,"
   ]
  },
  {
   "cell_type": "code",
   "execution_count": 7,
   "metadata": {},
   "outputs": [],
   "source": [
    "rsystems = pp.read_systems('systems.npy')"
   ]
  },
  {
   "cell_type": "markdown",
   "metadata": {},
   "source": [
    "Now further calculations can be carried out without starting over again! "
   ]
  },
  {
   "cell_type": "code",
   "execution_count": 8,
   "metadata": {},
   "outputs": [],
   "source": [
    "for sys in rsystems:\n",
    "    sys.calculate_q([8, 10], averaged=True)"
   ]
  },
  {
   "cell_type": "markdown",
   "metadata": {},
   "source": [
    "### Saving individual system"
   ]
  },
  {
   "cell_type": "markdown",
   "metadata": {},
   "source": [
    "Instead of saving a whole list of systems, single System instances can also be saved. This can be done without ``pyscal.pickle`` module, similar to how pandas DataFrames are saved to file. First, select one system for testing,"
   ]
  },
  {
   "cell_type": "code",
   "execution_count": 9,
   "metadata": {},
   "outputs": [],
   "source": [
    "test_system = rsystems[0]"
   ]
  },
  {
   "cell_type": "markdown",
   "metadata": {},
   "source": [
    "This test system can be saved to a file by,"
   ]
  },
  {
   "cell_type": "code",
   "execution_count": 10,
   "metadata": {},
   "outputs": [],
   "source": [
    "test_system.to_file('test_system.npy')"
   ]
  },
  {
   "cell_type": "markdown",
   "metadata": {},
   "source": [
    "Thats it! The information is saved in the while. Once again, ``pyscal.pickle.read_systems`` can be used to read the System instance. Alternatively, a new System can be created and the information can be read in from a file."
   ]
  },
  {
   "cell_type": "code",
   "execution_count": 11,
   "metadata": {},
   "outputs": [],
   "source": [
    "new_sys = pc.System()\n",
    "new_sys.from_file('test_system.npy')"
   ]
  },
  {
   "cell_type": "markdown",
   "metadata": {},
   "source": [
    "### Saving atoms"
   ]
  },
  {
   "cell_type": "markdown",
   "metadata": {},
   "source": [
    "Alternatively, a list of atoms can also be saved to file."
   ]
  },
  {
   "cell_type": "code",
   "execution_count": 12,
   "metadata": {},
   "outputs": [],
   "source": [
    "atoms = new_sys.get_atoms()"
   ]
  },
  {
   "cell_type": "markdown",
   "metadata": {},
   "source": [
    "This list of atoms can be saved to file using,"
   ]
  },
  {
   "cell_type": "code",
   "execution_count": 13,
   "metadata": {},
   "outputs": [],
   "source": [
    "pp.write_atoms('atoms.npy', atoms)"
   ]
  },
  {
   "cell_type": "markdown",
   "metadata": {},
   "source": [
    "Similar to Systems, atoms can also be read in from the file,"
   ]
  },
  {
   "cell_type": "code",
   "execution_count": 14,
   "metadata": {},
   "outputs": [],
   "source": [
    "natoms = pp.read_atoms('atoms.npy')"
   ]
  }
 ],
 "metadata": {
  "kernelspec": {
   "display_name": "Python (myenv)",
   "language": "python",
   "name": "myenv"
  },
  "language_info": {
   "codemirror_mode": {
    "name": "ipython",
    "version": 3
   },
   "file_extension": ".py",
   "mimetype": "text/x-python",
   "name": "python",
   "nbconvert_exporter": "python",
   "pygments_lexer": "ipython3",
   "version": "3.7.4"
  }
 },
 "nbformat": 4,
 "nbformat_minor": 4
}
