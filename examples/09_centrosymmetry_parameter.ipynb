{
 "cells": [
  {
   "cell_type": "markdown",
   "metadata": {},
   "source": [
    "# Centrosymmetry parameter\n"
   ]
  },
  {
   "cell_type": "markdown",
   "metadata": {},
   "source": [
    "Centrosymmetry parameter (CSP) was introduced by [*Kelchner et al.*](https://journals.aps.org/prb/abstract/10.1103/PhysRevB.58.11085) to identify defects in crystals. The parameter measures the loss of local symmetry. For an atom with $N$ nearest neighbors, the parameter is given by,\n",
    "\n",
    "$$\n",
    "\\mathrm{CSP} = \\sum_{i=1}^{N/2} \\big | \\textbf{r}_i + \\textbf{r}_{i+N/2} \\big |^2\n",
    "$$\n",
    "\n",
    "$\\textbf{r}_i$ and $\\textbf{r}_{i+N/2}$ are vectors from the central atom to two opposite pairs of neighbors. There are two main methods to identify the opposite pairs of neighbors as described in [this publication](https://arxiv.org/abs/2003.08879). Pyscal uses the first approach called [*Greedy Edge Selection*](https://iopscience.iop.org/article/10.1088/0965-0393/20/4/045021/meta)(GES) and is implemented in [LAMMPS](https://lammps.sandia.gov/) and [Ovito](https://www.ovito.org/). GES algorithm calculates a weight $w_{ij} = |\\textbf{r}_i + \\textbf{r}_j|$ for all combinations of neighbors around an atom and calculates CSP over the smallest $N/2$ weights.  \n",
    "\n",
    "A centrosymmetry parameter calculation using GES algorithm can be carried out as follows. First we can try a perfect crystal.\n"
   ]
  },
  {
   "cell_type": "code",
   "execution_count": 4,
   "metadata": {},
   "outputs": [],
   "source": [
    "import pyscal as pc\n",
    "import pyscal.crystal_structures as pcs\n",
    "\n",
    "import matplotlib.pyplot as plt"
   ]
  },
  {
   "cell_type": "code",
   "execution_count": 5,
   "metadata": {},
   "outputs": [],
   "source": [
    "atoms, box = pcs.make_crystal(structure='fcc', lattice_constant=4.0, repetitions=(3,3,3))"
   ]
  },
  {
   "cell_type": "code",
   "execution_count": 6,
   "metadata": {},
   "outputs": [],
   "source": [
    "sys = pc.System()\n",
    "sys.box = box\n",
    "sys.atoms = atoms\n",
    "csm = sys.calculate_centrosymmetry(nmax = 12)"
   ]
  },
  {
   "cell_type": "code",
   "execution_count": 8,
   "metadata": {},
   "outputs": [
    {
     "data": {
      "text/plain": [
       "[<matplotlib.lines.Line2D at 0x7fdb95d78370>]"
      ]
     },
     "execution_count": 8,
     "metadata": {},
     "output_type": "execute_result"
    },
    {
     "data": {
      "image/png": "[encoded data removed]",
      "text/plain": [
       "<Figure size 432x288 with 1 Axes>"
      ]
     },
     "metadata": {
      "needs_background": "light"
     },
     "output_type": "display_data"
    }
   ],
   "source": [
    "plt.plot(csm, 'o')"
   ]
  },
  {
   "cell_type": "markdown",
   "metadata": {},
   "source": [
    "You can see all values are zero, as expected. Now lets add some noise to the structure and see how the centrosymmetry parameter changes."
   ]
  },
  {
   "cell_type": "code",
   "execution_count": 9,
   "metadata": {},
   "outputs": [],
   "source": [
    "atoms, box = pcs.make_crystal(structure='fcc', lattice_constant=4.0, repetitions=(3,3,3), noise=0.1)"
   ]
  },
  {
   "cell_type": "code",
   "execution_count": 10,
   "metadata": {},
   "outputs": [],
   "source": [
    "sys = pc.System()\n",
    "sys.box = box\n",
    "sys.atoms = atoms\n",
    "csm = sys.calculate_centrosymmetry(nmax = 12)"
   ]
  },
  {
   "cell_type": "code",
   "execution_count": 11,
   "metadata": {},
   "outputs": [
    {
     "data": {
      "text/plain": [
       "[<matplotlib.lines.Line2D at 0x7fdb95cfc9d0>]"
      ]
     },
     "execution_count": 11,
     "metadata": {},
     "output_type": "execute_result"
    },
    {
     "data": {
      "image/png": "[encoded data removed]",
      "text/plain": [
       "<Figure size 432x288 with 1 Axes>"
      ]
     },
     "metadata": {
      "needs_background": "light"
     },
     "output_type": "display_data"
    }
   ],
   "source": [
    "plt.plot(csm, 'o')"
   ]
  },
  {
   "cell_type": "markdown",
   "metadata": {},
   "source": [
    "The centrosymmetry parameter shows a distribution, owing to the thermal vibrations."
   ]
  },
  {
   "cell_type": "markdown",
   "metadata": {},
   "source": [
    "`nmax` parameter specifies the number of nearest neighbors to be considered for the calculation of CSP. If bcc structure is used, this should be changed to either 8 or 14."
   ]
  }
 ],
 "metadata": {
  "kernelspec": {
   "display_name": "pyscal-test",
   "language": "python",
   "name": "pyscal-test"
  },
  "language_info": {
   "codemirror_mode": {
    "name": "ipython",
    "version": 3
   },
   "file_extension": ".py",
   "mimetype": "text/x-python",
   "name": "python",
   "nbconvert_exporter": "python",
   "pygments_lexer": "ipython3",
   "version": "3.9.7"
  }
 },
 "nbformat": 4,
 "nbformat_minor": 4
}
