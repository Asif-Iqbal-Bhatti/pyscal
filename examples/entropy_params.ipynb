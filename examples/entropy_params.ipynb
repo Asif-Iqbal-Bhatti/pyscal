{
 "cells": [
  {
   "cell_type": "markdown",
   "metadata": {},
   "source": [
    "## Entropy parameters\n",
    "\n",
    "In this example, the entropy parameters are calculated and used for distinction of solid and liquid. For a description of entropy parameters, see [here](http://pyscal.com/en/latest/methods/entropy_parameters/entropy_parameters.html). "
   ]
  },
  {
   "cell_type": "code",
   "execution_count": 1,
   "metadata": {},
   "outputs": [],
   "source": [
    "import pyscal.core as pc\n",
    "import matplotlib.pyplot as plt\n",
    "import numpy as np"
   ]
  },
  {
   "cell_type": "markdown",
   "metadata": {},
   "source": [
    "We have two test configurations for Al at 900 K, one is fcc structured and the other one is in liquid state. We calculate the entropy parameters for each of these configurations. First we start by reading in the fcc configuration. For entropy parameters, the values of the integration limit $r_m$ is chosen as 1.4, based on the [original publication](https://aip.scitation.org/doi/10.1063/1.4998408). "
   ]
  },
  {
   "cell_type": "code",
   "execution_count": 2,
   "metadata": {},
   "outputs": [],
   "source": [
    "sys = pc.System()\n",
    "sys.read_inputfile(\"../tests/conf.fcc.Al.dump\")\n",
    "sys.find_neighbors(method=\"cutoff\", cutoff=0)"
   ]
  },
  {
   "cell_type": "markdown",
   "metadata": {},
   "source": [
    "The values of $r_m$ and $r_a$ are in units of lattice constant, so we need to calculate the lattice constant first. Since is a cubic box, we can do this by,"
   ]
  },
  {
   "cell_type": "code",
   "execution_count": 3,
   "metadata": {},
   "outputs": [],
   "source": [
    "lat = (sys.box[0][1]-sys.box[0][0])/5"
   ]
  },
  {
   "cell_type": "markdown",
   "metadata": {},
   "source": [
    "Now we calculate the entropy parameter and its averaged version."
   ]
  },
  {
   "cell_type": "code",
   "execution_count": 4,
   "metadata": {},
   "outputs": [],
   "source": [
    "sys.calculate_entropy(1.4*lat, ra=0.9*lat, averaged=True)"
   ]
  },
  {
   "cell_type": "markdown",
   "metadata": {},
   "source": [
    "The calculated values are stored for each atom. This can be accessed as follows,"
   ]
  },
  {
   "cell_type": "code",
   "execution_count": 5,
   "metadata": {},
   "outputs": [],
   "source": [
    "atoms = sys.atoms\n",
    "solid_entropy = [atom.entropy for atom in atoms]\n",
    "solid_avg_entropy = [atom.avg_entropy for atom in atoms]"
   ]
  },
  {
   "cell_type": "markdown",
   "metadata": {},
   "source": [
    "Now we can quickly repeat the calculation for the liquid structure."
   ]
  },
  {
   "cell_type": "code",
   "execution_count": 6,
   "metadata": {},
   "outputs": [],
   "source": [
    "sys = pc.System()\n",
    "sys.read_inputfile(\"../tests/conf.lqd.Al.dump\")\n",
    "sys.find_neighbors(method=\"cutoff\", cutoff=0)\n",
    "lat = (sys.box[0][1]-sys.box[0][0])/5\n",
    "sys.calculate_entropy(1.4*lat, ra=0.9*lat, averaged=True)\n",
    "atoms = sys.atoms\n",
    "liquid_entropy = [atom.entropy for atom in atoms]\n",
    "liquid_avg_entropy = [atom.avg_entropy for atom in atoms]"
   ]
  },
  {
   "cell_type": "markdown",
   "metadata": {},
   "source": [
    "Finally we can plot the results"
   ]
  },
  {
   "cell_type": "code",
   "execution_count": 7,
   "metadata": {},
   "outputs": [
    {
     "data": {
      "text/plain": [
       "Text(0.5, 0, '$s_s^i$')"
      ]
     },
     "execution_count": 7,
     "metadata": {},
     "output_type": "execute_result"
    },
    {
     "data": {
      "image/png": "[encoded data removed]",
      "text/plain": [
       "<Figure size 432x288 with 1 Axes>"
      ]
     },
     "metadata": {
      "needs_background": "light"
     },
     "output_type": "display_data"
    }
   ],
   "source": [
    "xmin = -3.55\n",
    "xmax = -2.9\n",
    "bins = np.arange(xmin, xmax, 0.01)\n",
    "x = plt.hist(solid_entropy, bins=bins, density=True, alpha=0.5, color=\"#EF9A9A\")\n",
    "x = plt.hist(solid_avg_entropy, bins=bins, density=True, alpha=0.5, color=\"#B71C1C\")\n",
    "x = plt.hist(liquid_entropy, bins=bins, density=True, alpha=0.5, color=\"#90CAF9\")\n",
    "x = plt.hist(liquid_avg_entropy, bins=bins, density=True, alpha=0.5, color=\"#0D47A1\")\n",
    "plt.xlabel(r\"$s_s^i$\")"
   ]
  },
  {
   "cell_type": "markdown",
   "metadata": {},
   "source": [
    "The distributions of $s_s^i$ given in light red and light blue are fairly distinct but show some overlap. The averaged entropy parameter, $\\bar{s}_s^i$ show distinct peaks which can distinguish solid and liquid very well."
   ]
  },
  {
   "cell_type": "code",
   "execution_count": 11,
   "metadata": {},
   "outputs": [
    {
     "data": {
      "text/plain": [
       "(-3.4724999280857927, -3.4725409093884396)"
      ]
     },
     "execution_count": 11,
     "metadata": {},
     "output_type": "execute_result"
    }
   ],
   "source": [
    "np.mean(solid_entropy), np.mean(solid_avg_entropy)"
   ]
  }
 ],
 "metadata": {
  "kernelspec": {
   "display_name": "Python 3",
   "language": "python",
   "name": "python3"
  },
  "language_info": {
   "codemirror_mode": {
    "name": "ipython",
    "version": 3
   },
   "file_extension": ".py",
   "mimetype": "text/x-python",
   "name": "python",
   "nbconvert_exporter": "python",
   "pygments_lexer": "ipython3",
   "version": "3.8.3"
  }
 },
 "nbformat": 4,
 "nbformat_minor": 4
}
