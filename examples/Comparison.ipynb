{
 "cells": [
  {
   "cell_type": "markdown",
   "metadata": {
    "nbpresent": {
     "id": "a1aca7c8-bd61-487a-bd0c-1766515a774d"
    }
   },
   "source": [
    "### Comparison of different methods"
   ]
  },
  {
   "cell_type": "markdown",
   "metadata": {
    "nbpresent": {
     "id": "8c843e38-da91-4647-94f4-278908fe0c43"
    }
   },
   "source": [
    "The various codes that were used for calculation are-  \n",
    "* code 1 : The FAST cluster calculation code called as subprocess from python\n",
    "* code 2 : Steinhardt module called as library from python\n",
    "* code 3 : Traj files read in through python and passed to steinhardt module called as library\n",
    "* code 4 : Traj files read in through memory mapped file and passed to steinhardt module called as library\n",
    "* code 5 : Python is used to split files which are read in through c++.\n",
    "  \n",
    "They were tested on three different types of trajectories-  \n",
    "* traj 1 : short 10 slice, 500 atom per snapshot trajectory\n",
    "* traj 2 : long 10000 slice, 500 atom per snapshot trajectory"
   ]
  },
  {
   "cell_type": "markdown",
   "metadata": {},
   "source": [
    "### Performance for traj 1"
   ]
  },
  {
   "cell_type": "code",
   "execution_count": 5,
   "metadata": {
    "scrolled": false
   },
   "outputs": [],
   "source": [
    "import matplotlib.pyplot as plt\n",
    "import numpy as np"
   ]
  },
  {
   "cell_type": "code",
   "execution_count": 6,
   "metadata": {},
   "outputs": [],
   "source": [
    "%matplotlib inline"
   ]
  },
  {
   "cell_type": "code",
   "execution_count": 7,
   "metadata": {},
   "outputs": [
    {
     "data": {
      "text/plain": [
       "<matplotlib.text.Text at 0x7f4ae5ef3790>"
      ]
     },
     "execution_count": 7,
     "metadata": {},
     "output_type": "execute_result"
    },
    {
     "data": {
      "image/png": "[encoded data removed]",
      "text/plain": [
       "<matplotlib.figure.Figure at 0x7f4ae64cb1d0>"
      ]
     },
     "metadata": {},
     "output_type": "display_data"
    }
   ],
   "source": [
    "objects = ('code 1', 'code 2', 'code 3', 'code 4', 'code 5')\n",
    "y_pos = np.arange(len(objects))\n",
    "performance = [629,548,575,559,600]\n",
    " \n",
    "plt.bar(y_pos, performance, align='center', alpha=0.5,color='#880E4F')\n",
    "plt.xticks(y_pos, objects)\n",
    "plt.ylabel('Time (ms)')\n",
    "plt.title('Performance for traj 1')"
   ]
  },
  {
   "cell_type": "markdown",
   "metadata": {},
   "source": [
    "### Performance of traj 2"
   ]
  },
  {
   "cell_type": "code",
   "execution_count": 8,
   "metadata": {},
   "outputs": [
    {
     "data": {
      "text/plain": [
       "<matplotlib.text.Text at 0x7f4ae5e37590>"
      ]
     },
     "execution_count": 8,
     "metadata": {},
     "output_type": "execute_result"
    },
    {
     "data": {
      "image/png": "[encoded data removed]",
      "text/plain": [
       "<matplotlib.figure.Figure at 0x7f4ae5edfcd0>"
      ]
     },
     "metadata": {},
     "output_type": "display_data"
    }
   ],
   "source": [
    "objects = ('code 1', 'code 2', 'code 3', 'code 4', 'code 5')\n",
    "y_pos = np.arange(len(objects))\n",
    "performance = [37,22,26,25,28]\n",
    " \n",
    "plt.bar(y_pos, performance, align='center', alpha=0.5,color='#880E4F')\n",
    "plt.xticks(y_pos, objects)\n",
    "plt.ylabel('Time (s)')\n",
    "plt.title('Performance for traj 2')"
   ]
  },
  {
   "cell_type": "markdown",
   "metadata": {},
   "source": [
    "## Implementing 'lazy' calculation with Dask"
   ]
  },
  {
   "cell_type": "markdown",
   "metadata": {},
   "source": [
    "Dask is a python library which provides laptop-cluster scalable easy calculations. Dask also allows lazy objects, which prepare the recipe for calculations and then iplement it. Dask will show a lower memory footprint because of the delayed reading. It reads in just enough of the data."
   ]
  },
  {
   "cell_type": "code",
   "execution_count": 40,
   "metadata": {},
   "outputs": [],
   "source": [
    "import steinhardt as st\n",
    "import os\n",
    "import sys\n",
    "import subprocess as sub\n",
    "from dask import delayed"
   ]
  },
  {
   "cell_type": "code",
   "execution_count": 41,
   "metadata": {},
   "outputs": [],
   "source": [
    "# function to read a file and calculate nucsize\n",
    "\n",
    "def getQTrajectory(filename):\n",
    "        #create Steinhardt system objects\n",
    "        sys = st.System()\n",
    "        #set inout file and read it\n",
    "        sys.set_inputfile(filename)\n",
    "        sys.read_particle_file()\n",
    "        #set nucsize parameters\n",
    "        sys.set_neighbordistance(3.63)\n",
    "        sys.set_nucsize_parameters(7,0.5,0.5)\n",
    "        #now calculate nucsize\n",
    "        nuc = sys.calculate_nucsize()\n",
    "        return nuc"
   ]
  },
  {
   "cell_type": "code",
   "execution_count": 42,
   "metadata": {},
   "outputs": [],
   "source": [
    "#function to calculate nucsuze over a traj\n",
    "\n",
    "def calculate_nuctraj(trajname,nop):\n",
    "    x = []\n",
    "    filename = trajname\n",
    "    natoms=nop\n",
    "    nblock = natoms+9\n",
    "    startblock = 0\n",
    "    count=1\n",
    "    files = []\n",
    "    #convert file to snaps\n",
    "    with open(filename) as infile:\n",
    "        for line in infile:\n",
    "            if(count==1):\n",
    "                ff = 'snap.'+str(startblock)+'.dat'\n",
    "                files.append(ff)\n",
    "                fout = open(ff,'w')\n",
    "                fout.write(line)\n",
    "                #count+=1\n",
    "            elif(count<nblock):\n",
    "                fout.write(line)\n",
    "                #count+=1\n",
    "\n",
    "            else:\n",
    "                fout.close()\n",
    "                count=0\n",
    "                startblock+=1\n",
    "            count+=1\n",
    "    for ff in files:\n",
    "        x.append(delayed (getQTrajectory)(ff))\n",
    "    return x"
   ]
  },
  {
   "cell_type": "markdown",
   "metadata": {},
   "source": [
    "## How the  Dask object works"
   ]
  },
  {
   "cell_type": "markdown",
   "metadata": {},
   "source": [
    "First, run the function above, as we can see it returns a delayed list"
   ]
  },
  {
   "cell_type": "code",
   "execution_count": 47,
   "metadata": {},
   "outputs": [
    {
     "name": "stdout",
     "output_type": "stream",
     "text": [
      "10 loops, best of 3: 33.9 ms per loop\n"
     ]
    }
   ],
   "source": [
    "%%timeit\n",
    "delayed_traj = calculate_nuctraj('traj.light',500)\n",
    "delayed_traj"
   ]
  },
  {
   "cell_type": "markdown",
   "metadata": {},
   "source": [
    "The calculation did not really happen yet. It just returned a delayed object."
   ]
  },
  {
   "cell_type": "code",
   "execution_count": 48,
   "metadata": {},
   "outputs": [
    {
     "name": "stdout",
     "output_type": "stream",
     "text": [
      "1 loop, best of 3: 761 ms per loop\n"
     ]
    }
   ],
   "source": [
    "%%timeit\n",
    "nucs = []\n",
    "for i in range(len(delayed_traj)):\n",
    "    nucs.append(delayed_traj[i].compute())"
   ]
  },
  {
   "cell_type": "markdown",
   "metadata": {},
   "source": [
    "The calculation is completed now, and it gave faster results that any of the code we tested. Now testing with the longer trajectory."
   ]
  },
  {
   "cell_type": "code",
   "execution_count": 49,
   "metadata": {},
   "outputs": [
    {
     "data": {
      "text/plain": [
       "[Delayed('getQTrajectory-1ca720bb-5951-44d7-9324-1c4fff338351'),\n",
       " Delayed('getQTrajectory-75d10c60-f3e5-403b-9626-e0384fba94b9'),\n",
       " Delayed('getQTrajectory-01a5701a-89ff-4412-89ff-adc11231a480'),\n",
       " Delayed('getQTrajectory-15c6a65e-3d97-43fb-b31e-cbe855ab759f'),\n",
       " Delayed('getQTrajectory-f4fa0c0d-e605-49b4-ac13-11ece9cbec43'),\n",
       " Delayed('getQTrajectory-221fbb54-507d-4f56-bba7-c374fa1eb701'),\n",
       " Delayed('getQTrajectory-9dfdc600-212d-4d90-9242-f37162111571'),\n",
       " Delayed('getQTrajectory-45bb4837-65d9-4114-a7a4-731123225eb7'),\n",
       " Delayed('getQTrajectory-1427784b-c005-451e-b06c-c8c21458f34f'),\n",
       " Delayed('getQTrajectory-c2a102a0-e6db-4d4c-b5a4-2cbbd1cf9f32'),\n",
       " Delayed('getQTrajectory-094011ee-9dde-48f1-8d79-7c3c39a2a5da'),\n",
       " Delayed('getQTrajectory-e6838606-0e4b-4769-9638-71ca2118696a'),\n",
       " Delayed('getQTrajectory-a98f421b-583d-4379-b646-bb051d84e404'),\n",
       " Delayed('getQTrajectory-b9823c1d-5d55-413b-ae41-6bfddee03901'),\n",
       " Delayed('getQTrajectory-2c33cd3d-1b94-441c-b52e-02eea7718c14'),\n",
       " Delayed('getQTrajectory-b681f48c-91f5-490e-82e3-a64cd48fc925'),\n",
       " Delayed('getQTrajectory-4cdd0cec-2879-43c1-8853-4cc4983deba3'),\n",
       " Delayed('getQTrajectory-43451639-a6bc-44f6-b14c-da4587871803'),\n",
       " Delayed('getQTrajectory-6f50d662-a6a7-46ff-a3cd-31dae6577ee4'),\n",
       " Delayed('getQTrajectory-4aa1215d-f064-4bc8-81cc-6d7ddcf89491'),\n",
       " Delayed('getQTrajectory-cde40a00-c07f-4ac4-8c7f-82266e961891'),\n",
       " Delayed('getQTrajectory-c6c85127-7b96-4ecc-aa6e-2a60e6143288'),\n",
       " Delayed('getQTrajectory-c0937970-0c69-40fc-a20a-40fdbabd6fec'),\n",
       " Delayed('getQTrajectory-1ac88f57-83e7-40fe-a6bc-6e9643c7aae0'),\n",
       " Delayed('getQTrajectory-f679c091-980a-40a5-8fc4-8c53f1cba416'),\n",
       " Delayed('getQTrajectory-a8f7ec0b-87f5-4241-b542-4add8eb8d6e2'),\n",
       " Delayed('getQTrajectory-63ce3111-5305-4c55-a926-fae89136b8c3'),\n",
       " Delayed('getQTrajectory-14e9a2a5-d884-4681-912b-1e1dc017988d'),\n",
       " Delayed('getQTrajectory-219e577d-481b-4ee2-b554-5163d8739ae6'),\n",
       " Delayed('getQTrajectory-8e0dcb7e-58af-4d92-b121-902badf42f2b'),\n",
       " Delayed('getQTrajectory-f5c31e72-bab7-427e-b500-bacf496930fe'),\n",
       " Delayed('getQTrajectory-39f17bf3-1697-45eb-aae9-0d4a7907d3f3'),\n",
       " Delayed('getQTrajectory-87d953d0-c630-417f-ad01-dc58c53556ac'),\n",
       " Delayed('getQTrajectory-e96e978b-3fc7-4f5e-8ea7-6b9d906e46d3'),\n",
       " Delayed('getQTrajectory-675517d3-e5cb-4598-a594-640d5a4f141e'),\n",
       " Delayed('getQTrajectory-4bd2d55a-61d4-44c5-8c4c-d346d7c3daa0'),\n",
       " Delayed('getQTrajectory-508b3a01-0870-494e-a1bf-45e26003a5f9'),\n",
       " Delayed('getQTrajectory-c6cd0da8-fd21-4083-8efd-db3c808c8803'),\n",
       " Delayed('getQTrajectory-7dff9d39-b805-4b5a-b872-1ba002c78d25'),\n",
       " Delayed('getQTrajectory-0fb6f11d-7119-467a-8328-24bf7fee4c4e'),\n",
       " Delayed('getQTrajectory-802d9c08-fcbd-49c8-8b37-dfff2c9792cd'),\n",
       " Delayed('getQTrajectory-c520a9fb-4bbb-4830-a34c-126406443ae1'),\n",
       " Delayed('getQTrajectory-2a2e48db-e966-44ca-aa93-66f5d296a7cc'),\n",
       " Delayed('getQTrajectory-00f55681-f721-474b-aeb9-d2efa8008e93'),\n",
       " Delayed('getQTrajectory-827eb303-907f-4f7c-bdc0-d313b6f28ffd'),\n",
       " Delayed('getQTrajectory-d66fa8ef-66b0-4bbe-83d6-f593cd4e4519'),\n",
       " Delayed('getQTrajectory-47879d0e-3878-43e8-89af-03afd94b6d3f'),\n",
       " Delayed('getQTrajectory-cc6ddf05-ee2f-4680-baad-4ebb9307d556'),\n",
       " Delayed('getQTrajectory-523d104a-9882-4465-92ed-2a5bb0b84852'),\n",
       " Delayed('getQTrajectory-f8cbdbef-3d96-442e-b718-bb9aadfb0d30'),\n",
       " Delayed('getQTrajectory-227959c7-bb4b-41f4-9493-65ef88369fe6'),\n",
       " Delayed('getQTrajectory-e968bd0b-3c00-415b-8da4-dfe07fcd3511'),\n",
       " Delayed('getQTrajectory-d8bcc828-0c47-4b1a-99e6-5ec049f7640b'),\n",
       " Delayed('getQTrajectory-c984ca35-4535-4ee0-a119-bda02f449783'),\n",
       " Delayed('getQTrajectory-dcab5049-97e2-4bf1-b2c7-39acde9a49db'),\n",
       " Delayed('getQTrajectory-949ab4f4-dcf4-4474-ac01-160944c8b5f8'),\n",
       " Delayed('getQTrajectory-958d5f4d-d884-4a03-92c6-5d34ef43c919'),\n",
       " Delayed('getQTrajectory-b25ca95d-51d1-427e-9251-515c812f5110'),\n",
       " Delayed('getQTrajectory-a5903eb0-8a29-4c48-80f8-292622767296'),\n",
       " Delayed('getQTrajectory-495ff877-2ffd-49b0-bcfb-ad591547d7ad'),\n",
       " Delayed('getQTrajectory-d080aa1a-538d-4697-a0f3-55feb8f56311'),\n",
       " Delayed('getQTrajectory-a37c4bb1-e442-4bf0-81ff-6552b634f36a'),\n",
       " Delayed('getQTrajectory-14d9494b-2e4e-44f3-90dd-2870420f8e33'),\n",
       " Delayed('getQTrajectory-051312b4-3f4f-47a6-9a26-6f4df63f93ef'),\n",
       " Delayed('getQTrajectory-f20968a0-5595-44a4-9705-26ff084a725f'),\n",
       " Delayed('getQTrajectory-eac81fa5-1028-4e9b-8a96-17419f6ca631'),\n",
       " Delayed('getQTrajectory-3aed8b63-a929-47ed-9ece-d64d2c313416'),\n",
       " Delayed('getQTrajectory-06378ba5-262e-4ae3-9927-879e119e17a6'),\n",
       " Delayed('getQTrajectory-ca1c85d1-e00b-47f6-88c1-87dacec3c981'),\n",
       " Delayed('getQTrajectory-fe0eaa3a-dd03-41ca-b96c-d391f5c8e1d2'),\n",
       " Delayed('getQTrajectory-023d2782-eac1-42c8-a178-518ed44c022c'),\n",
       " Delayed('getQTrajectory-14e2e4d2-8209-461e-8fa7-e7d3d6aed799'),\n",
       " Delayed('getQTrajectory-4260ebd0-fce0-4cf7-bea6-4da381577cd1'),\n",
       " Delayed('getQTrajectory-651ca3ce-46f4-43bf-bac9-fe6906ae0d9e'),\n",
       " Delayed('getQTrajectory-e9b2892e-5078-47b0-8b25-61a1948d50e9'),\n",
       " Delayed('getQTrajectory-0d9d3554-4808-4275-8df8-8c4d256bb545'),\n",
       " Delayed('getQTrajectory-06b9ecb7-6bde-4c8a-905b-ecd54fd699ea'),\n",
       " Delayed('getQTrajectory-d7694a6c-010b-44f4-be5c-09b105456843'),\n",
       " Delayed('getQTrajectory-90321527-aec8-4100-9e6d-e7da87fd0295'),\n",
       " Delayed('getQTrajectory-523b923d-5b42-495b-a827-6d51168d96b5'),\n",
       " Delayed('getQTrajectory-d8b7e390-e4b5-42b8-b9c4-738928b7eba8'),\n",
       " Delayed('getQTrajectory-87def4c6-94f1-48bf-90c3-378010dbd845'),\n",
       " Delayed('getQTrajectory-427f9485-4ebd-47dd-b0ce-c2c3a4cd5851'),\n",
       " Delayed('getQTrajectory-f3031d1e-7281-475f-9d5c-84ed803ae0b2'),\n",
       " Delayed('getQTrajectory-1ec1919e-9297-48db-9533-ec56e066ed27'),\n",
       " Delayed('getQTrajectory-4500b842-c41b-4e60-afc5-e892c2954799'),\n",
       " Delayed('getQTrajectory-eb09ba44-6b36-4702-b558-17b9cde79f3a'),\n",
       " Delayed('getQTrajectory-0f7f8efd-4e7d-4865-afa9-43e5069d2f93'),\n",
       " Delayed('getQTrajectory-2fff0b89-75f8-480a-a975-78e1dd7ed0fb'),\n",
       " Delayed('getQTrajectory-d46ed2d6-0e03-438c-af46-3b1852f3b326'),\n",
       " Delayed('getQTrajectory-41439c74-5005-438c-891b-8cd618add8b2'),\n",
       " Delayed('getQTrajectory-5cc96db9-5d10-40d4-9606-5d071a4871a8'),\n",
       " Delayed('getQTrajectory-000953aa-7ac1-45f5-82a6-0569aecaa246'),\n",
       " Delayed('getQTrajectory-97ee4d0b-cc44-4c99-b843-b2060c09ff1c'),\n",
       " Delayed('getQTrajectory-a951448d-c6f9-4a58-9532-dc7617d2aff4'),\n",
       " Delayed('getQTrajectory-e86f5058-c268-4e8f-9c1d-a22edf3a2d9a'),\n",
       " Delayed('getQTrajectory-f362f736-c002-43f1-9622-4ba2fdb5ae0a'),\n",
       " Delayed('getQTrajectory-b9f367fe-ad4c-4b65-ae7b-4dff776b29de'),\n",
       " Delayed('getQTrajectory-7eaa4ffb-0b85-41a1-bbae-28787980795e'),\n",
       " Delayed('getQTrajectory-83833f15-6ddd-4dc5-b82d-86965f4a28dc'),\n",
       " Delayed('getQTrajectory-1b587106-3063-4757-9354-236fc00db3bf'),\n",
       " Delayed('getQTrajectory-fb4ab9da-6391-454a-90fa-e5d47df86f7e'),\n",
       " Delayed('getQTrajectory-0f5257a1-bec4-4c9e-a55b-f0ec75ece88a'),\n",
       " Delayed('getQTrajectory-c475c71a-4a01-48c6-a7db-711c9c5bb50e'),\n",
       " Delayed('getQTrajectory-dc188154-5f0f-48ce-a323-87cec9543995'),\n",
       " Delayed('getQTrajectory-0513f44c-6ea7-4b00-879f-05ade8372199'),\n",
       " Delayed('getQTrajectory-0542b2ca-827a-4358-ad16-eded2fd96645'),\n",
       " Delayed('getQTrajectory-ccdb2ced-53c5-4f17-ac2d-12db4c9acbbc'),\n",
       " Delayed('getQTrajectory-24c28296-f846-4578-a45d-2cb29b02d4cb'),\n",
       " Delayed('getQTrajectory-db5c8f4f-4778-4b89-a0aa-c4119fb8805a'),\n",
       " Delayed('getQTrajectory-313f030c-6df8-40af-8e24-1913149bece0'),\n",
       " Delayed('getQTrajectory-fc74ed45-94e7-4a1e-8568-782a39899094'),\n",
       " Delayed('getQTrajectory-5ae7c63b-2fee-49aa-b931-94ca3a621aa2'),\n",
       " Delayed('getQTrajectory-a8571461-5b54-4f88-9aeb-e35fb05fa64f'),\n",
       " Delayed('getQTrajectory-b13e111e-1d44-4929-9965-0dbbc1f5cfad'),\n",
       " Delayed('getQTrajectory-98778a32-8eea-4af5-94a1-b0271a60530b'),\n",
       " Delayed('getQTrajectory-e339a1b3-99fe-4c82-878c-bcf9eff07801'),\n",
       " Delayed('getQTrajectory-bae09c32-7c3c-4df2-a0c9-e9f2ea93e48f'),\n",
       " Delayed('getQTrajectory-630a12c4-62b9-4da5-8841-464100f0c8f0'),\n",
       " Delayed('getQTrajectory-887758b8-98fd-497e-bd7c-c80b74dca032'),\n",
       " Delayed('getQTrajectory-ad390e8b-73c9-4cf2-8ffa-6ccb995f9e0b'),\n",
       " Delayed('getQTrajectory-26e772da-77ac-4eaf-856e-e3ebd69ccb34'),\n",
       " Delayed('getQTrajectory-cf2dbb20-4e40-4292-8bc9-e40abfd7c5a9'),\n",
       " Delayed('getQTrajectory-9ffa9030-40b4-4334-94e9-da6712a7a81b'),\n",
       " Delayed('getQTrajectory-c7201bd1-454f-4345-b271-872b281cc339'),\n",
       " Delayed('getQTrajectory-1273e67d-2ba5-4642-ab13-e8a5626142aa'),\n",
       " Delayed('getQTrajectory-ba199add-6cf7-4ef5-aa9c-dc8b4b4881e7'),\n",
       " Delayed('getQTrajectory-5cdf4d11-b278-4e7d-be7f-cbd56e34b12b'),\n",
       " Delayed('getQTrajectory-3ace3923-b154-48f0-9881-dc86e940c8cb'),\n",
       " Delayed('getQTrajectory-d0d353d6-636b-4555-8e78-2252ec6a900b'),\n",
       " Delayed('getQTrajectory-23bc3577-ae2b-4253-bd71-d9c82e14f0bb'),\n",
       " Delayed('getQTrajectory-bdefc209-fd01-4d70-9143-dbcb735b176b'),\n",
       " Delayed('getQTrajectory-2b0940cc-0f0c-4a23-aa44-117f69a3bdac'),\n",
       " Delayed('getQTrajectory-d2c6426e-f75d-4cea-9b46-f9c7ea58f8cf'),\n",
       " Delayed('getQTrajectory-43f27915-0b19-41eb-bbfd-615c5a6ee47d'),\n",
       " Delayed('getQTrajectory-8f6e67cb-f778-4d76-88c0-da4d1aa54e2e'),\n",
       " Delayed('getQTrajectory-afa9ed1c-71e4-4c90-8e85-a26bc21d5fbf'),\n",
       " Delayed('getQTrajectory-a58e3e6d-bb8a-4c46-8ed2-68da127c0418'),\n",
       " Delayed('getQTrajectory-4c06c0c3-1420-4546-ad68-494782c35e57'),\n",
       " Delayed('getQTrajectory-b82c7ee5-a9b5-4f2c-a434-d0716789e53c'),\n",
       " Delayed('getQTrajectory-04c7e9c9-f3c2-4f5e-90f3-4d0390090b16'),\n",
       " Delayed('getQTrajectory-96746440-1dbc-41a4-ba36-55f812e0828e'),\n",
       " Delayed('getQTrajectory-223a8916-544b-4e8c-b7f3-d57629e19372'),\n",
       " Delayed('getQTrajectory-0c8437bc-4099-4a75-abff-d5ebe1c8ec54'),\n",
       " Delayed('getQTrajectory-44a04d43-2c5d-483b-954b-fe2ee1ddbb12'),\n",
       " Delayed('getQTrajectory-e8609151-eca6-4a64-b920-456223c3bccc'),\n",
       " Delayed('getQTrajectory-031aa7e9-54ed-4bce-9873-3d8ea531a222'),\n",
       " Delayed('getQTrajectory-53d1837a-d8d4-4677-a134-02eec604dbd9'),\n",
       " Delayed('getQTrajectory-42556bd7-c6e8-4672-8bf6-6fc600f8aac4'),\n",
       " Delayed('getQTrajectory-7d4f67e2-c169-4a1d-b7fe-24603cf9af85'),\n",
       " Delayed('getQTrajectory-2cadf60a-a1fa-4387-b1d1-026ceb2e069d'),\n",
       " Delayed('getQTrajectory-7d301230-d2a1-4e7d-806e-0223f646cd81'),\n",
       " Delayed('getQTrajectory-9a26e718-8a02-4099-844c-9ca85a557e53'),\n",
       " Delayed('getQTrajectory-6ac2c9db-306f-488b-9029-d10e725b3615'),\n",
       " Delayed('getQTrajectory-ec20b1fe-481c-40c1-932d-0e1d50e5d400'),\n",
       " Delayed('getQTrajectory-b704d890-cb9b-488a-83ec-de840cf2bcb2'),\n",
       " Delayed('getQTrajectory-70893110-f9e9-46bb-a772-975b11789de9'),\n",
       " Delayed('getQTrajectory-ef9f875a-c06e-4a9c-b1ed-a179621021f9'),\n",
       " Delayed('getQTrajectory-754228ce-858f-42fe-b41e-db0398aa0223'),\n",
       " Delayed('getQTrajectory-eb78711e-1750-4a3a-a1f5-e7bad3527ef1'),\n",
       " Delayed('getQTrajectory-a99555bb-e953-41e3-b164-b36c6aa70139'),\n",
       " Delayed('getQTrajectory-bc625b1f-062f-4ae0-b985-c4b39d827c42'),\n",
       " Delayed('getQTrajectory-95045619-edf2-45c4-a07b-59f5c4c3fd8a'),\n",
       " Delayed('getQTrajectory-e00e2c5a-18bb-4c58-a555-73c073c4c444'),\n",
       " Delayed('getQTrajectory-e12ad141-9ab5-4385-8712-865d5b432a0c'),\n",
       " Delayed('getQTrajectory-541c59dc-b352-401e-9245-aa668487c372'),\n",
       " Delayed('getQTrajectory-3815931e-fa61-481a-aaf9-099d6b243960'),\n",
       " Delayed('getQTrajectory-80110be1-1e59-429f-82d9-4db6cccc302c'),\n",
       " Delayed('getQTrajectory-4a1d4b1e-cc5d-4de4-bcb5-1d64f99ad192'),\n",
       " Delayed('getQTrajectory-96d86c87-ad26-46fa-8af3-7a4209911909'),\n",
       " Delayed('getQTrajectory-1db337e7-a0fe-493a-a4d7-f836f9416ce6'),\n",
       " Delayed('getQTrajectory-55f596d1-e8e9-483a-b47a-65d12d631ef9'),\n",
       " Delayed('getQTrajectory-3a8540eb-37d9-40a8-9776-802ec161f169'),\n",
       " Delayed('getQTrajectory-9f741287-7331-4d66-a3c8-37f8ca746b38'),\n",
       " Delayed('getQTrajectory-7c0b84bb-00d5-4393-a1fa-41945960592e'),\n",
       " Delayed('getQTrajectory-2880d2c0-b221-45bb-805f-29708687784e'),\n",
       " Delayed('getQTrajectory-54944737-ede5-4947-bed3-de69c59481d0'),\n",
       " Delayed('getQTrajectory-1e268cf3-f1a5-4ec2-b4d7-69c7676fa167'),\n",
       " Delayed('getQTrajectory-93e23b04-c315-436c-b627-ba9db5ab3752'),\n",
       " Delayed('getQTrajectory-ef24fd29-8b30-4e4c-acdc-617165b30ce8'),\n",
       " Delayed('getQTrajectory-5ada2d84-4540-416d-941a-e1cef475a9c4'),\n",
       " Delayed('getQTrajectory-1bdd1fc5-0ccb-44c9-b6e1-61c9e880fee0'),\n",
       " Delayed('getQTrajectory-b340fd1c-723c-4520-ab26-2f4bf955b520'),\n",
       " Delayed('getQTrajectory-1dd8ff5b-13e4-4f4d-ac0f-260c344af364'),\n",
       " Delayed('getQTrajectory-b34766b7-bd9f-42e5-a838-426558728881'),\n",
       " Delayed('getQTrajectory-b3a6869e-fcfd-46c0-825a-0dfb4a3969fa'),\n",
       " Delayed('getQTrajectory-d587c7ed-0d10-4ce7-a263-d9d380020ff7'),\n",
       " Delayed('getQTrajectory-254e7fe3-4b51-4941-96aa-05f15f78a55b'),\n",
       " Delayed('getQTrajectory-68bbab6b-7e07-4b25-8e24-ce4a7014d26a'),\n",
       " Delayed('getQTrajectory-d24dbabf-36ff-461a-8d4a-2af2190ccc62'),\n",
       " Delayed('getQTrajectory-afc6d991-de25-4b54-ab82-5c0d02cefe90'),\n",
       " Delayed('getQTrajectory-5e717b9c-574d-47f7-8d20-b7d81cca0a09'),\n",
       " Delayed('getQTrajectory-f4fd127f-f867-466d-8200-aa78fa8e64d1'),\n",
       " Delayed('getQTrajectory-a734a0cc-3a5a-45fa-9508-05979714cfb3'),\n",
       " Delayed('getQTrajectory-c371aebf-395f-49f0-93a4-a2808ddaec6e'),\n",
       " Delayed('getQTrajectory-635bd7e6-6b12-4010-9bd8-59ec3d58be9a'),\n",
       " Delayed('getQTrajectory-7c32195c-ed93-4066-90ab-c59eb1ef52cf'),\n",
       " Delayed('getQTrajectory-717d7981-2722-4540-98f0-0f9df1d9cc9f'),\n",
       " Delayed('getQTrajectory-4ed6ae1d-1d32-42b4-9980-cf1a02d84e27'),\n",
       " Delayed('getQTrajectory-3860575b-867f-4b8d-bfcc-32b8d5d2acd0'),\n",
       " Delayed('getQTrajectory-6a529008-8b6c-4877-9436-878db1f4b8fa'),\n",
       " Delayed('getQTrajectory-6a665edd-e2ac-45a3-8c29-3b21c899ccc3'),\n",
       " Delayed('getQTrajectory-600a860c-cab7-4ddf-9b36-e962f7dd36a6'),\n",
       " Delayed('getQTrajectory-e3caa00f-de7e-401b-95d7-7ad36d1aecf2'),\n",
       " Delayed('getQTrajectory-9aa1cda2-dbb9-48fc-82ba-f1f435f46bdb'),\n",
       " Delayed('getQTrajectory-fd70184f-eed6-4a21-b1ef-4ab43f518589'),\n",
       " Delayed('getQTrajectory-0fc9f8a6-7913-4829-afb8-eed70b821156'),\n",
       " Delayed('getQTrajectory-0a6bc74f-059d-4b81-99ef-aa0993fd09de'),\n",
       " Delayed('getQTrajectory-aa1b4ca8-b237-4108-94c9-20f83c8e49c0'),\n",
       " Delayed('getQTrajectory-11ae7bf8-d0f1-40ef-a696-9ea8ee8a239e'),\n",
       " Delayed('getQTrajectory-8ebb1187-5acc-45fd-9fb0-9f56d365990d'),\n",
       " Delayed('getQTrajectory-8b1bd133-5c67-4a6b-a0fe-b42d2e4a6f30'),\n",
       " Delayed('getQTrajectory-3d0ff934-5ba8-44bf-af41-4ca24e7f1bb1'),\n",
       " Delayed('getQTrajectory-0feda6c2-e1ae-454a-a045-4ef0a251f37a'),\n",
       " Delayed('getQTrajectory-5d6ef91f-3ea4-4b11-a96f-3bf0cc05fb0a'),\n",
       " Delayed('getQTrajectory-c89a2648-51b8-46bf-b036-9a4d0a15d879'),\n",
       " Delayed('getQTrajectory-58824f0e-43f7-42c9-bbea-2529d4b76f0c'),\n",
       " Delayed('getQTrajectory-fddd6553-8289-4ea8-ba94-e388ecf3de49'),\n",
       " Delayed('getQTrajectory-8cd0d43f-fec3-4fd0-a754-acd588972d53'),\n",
       " Delayed('getQTrajectory-f730d439-e40b-4344-914c-159cb62b5512'),\n",
       " Delayed('getQTrajectory-a7b2bb89-99c5-40c2-ae21-fb732ba1df9d'),\n",
       " Delayed('getQTrajectory-a64f5744-c31b-4912-8464-7f0703b851cc'),\n",
       " Delayed('getQTrajectory-67fe0c4a-6a27-4df8-abbb-deae2fc43789'),\n",
       " Delayed('getQTrajectory-4ee92a08-0c94-42d6-a584-3b36958f2710'),\n",
       " Delayed('getQTrajectory-3a415afa-358b-4414-9eaa-c4b78351da69'),\n",
       " Delayed('getQTrajectory-6b4eda0d-123a-4dad-88c9-21179b1959b6'),\n",
       " Delayed('getQTrajectory-b9b6c4e5-1288-4a50-a43f-2b2748d91154'),\n",
       " Delayed('getQTrajectory-76ca28bf-1605-4519-84d4-7141fd09992f'),\n",
       " Delayed('getQTrajectory-7cd51b06-b808-4f77-b7d0-40e8558cd33d'),\n",
       " Delayed('getQTrajectory-0e1f148c-de03-4b17-923e-b73cdc7e748a'),\n",
       " Delayed('getQTrajectory-cbd83f5c-3672-40cd-be32-36a54948b71d'),\n",
       " Delayed('getQTrajectory-5f0b4048-368c-47ab-a018-3d96bbf44bd8'),\n",
       " Delayed('getQTrajectory-a8bb44a9-b6e1-4cd8-8293-e4b2b0b288e6'),\n",
       " Delayed('getQTrajectory-4a653950-fa6a-459c-abef-db7867eca938'),\n",
       " Delayed('getQTrajectory-05aadcc1-fbe2-4cae-b667-bc066b6f388a'),\n",
       " Delayed('getQTrajectory-229a8c92-1e87-4106-8e6a-5f50fe7c39c2'),\n",
       " Delayed('getQTrajectory-dba6af55-b434-469b-8085-078e4b3055ee'),\n",
       " Delayed('getQTrajectory-fb5e5c43-7ce8-45f7-b703-9d1756d9c130'),\n",
       " Delayed('getQTrajectory-f8fdf672-b36e-40dc-9883-3553a4d0b090'),\n",
       " Delayed('getQTrajectory-3e5b8c5f-53e9-4482-a919-9e4b3c8cde4f'),\n",
       " Delayed('getQTrajectory-c9609528-b046-4290-91a5-05d1109326a5'),\n",
       " Delayed('getQTrajectory-e15b5b4c-a6db-46e0-948e-616342e24054'),\n",
       " Delayed('getQTrajectory-f49907f9-5ab9-4da1-8213-38f2e4e76e86'),\n",
       " Delayed('getQTrajectory-ad761e1b-56a1-4c8d-aa20-7518acae145a'),\n",
       " Delayed('getQTrajectory-813011bb-79e0-4ab7-a954-de28c6bc48a1'),\n",
       " Delayed('getQTrajectory-b46def23-7c2c-4dce-8e0e-8dbef0c31d79'),\n",
       " Delayed('getQTrajectory-d188d994-8865-4179-ae51-1a1b5e148def'),\n",
       " Delayed('getQTrajectory-f88a609c-9a3f-412e-ab5b-555e55d04978'),\n",
       " Delayed('getQTrajectory-d520bbf4-8d2d-4972-bf23-f9bd36c5a0df'),\n",
       " Delayed('getQTrajectory-d952fc9a-32e4-4520-9b6e-2bfe4b1a5766'),\n",
       " Delayed('getQTrajectory-069e6cb6-4060-46fd-8222-43cd89cd5b7b'),\n",
       " Delayed('getQTrajectory-54ff703b-0f18-431d-9b5e-0ce3584c0348'),\n",
       " Delayed('getQTrajectory-7f158dbb-85dd-4ae9-a190-452b8a770049'),\n",
       " Delayed('getQTrajectory-5cd4ebf7-d2cd-47cd-b803-d4d5942f3c45'),\n",
       " Delayed('getQTrajectory-bcb2cf08-4458-4b4b-b85d-e66dd5ec380f'),\n",
       " Delayed('getQTrajectory-77d24a01-cb59-4cea-a855-8a6d5f54b5e5'),\n",
       " Delayed('getQTrajectory-abefd4d0-0eb3-41c2-b4a5-a121ab2f393a'),\n",
       " Delayed('getQTrajectory-7a77c945-6f2d-4169-ac93-42bfb981caee'),\n",
       " Delayed('getQTrajectory-d47405eb-8c62-4623-8206-d36fe4a81450'),\n",
       " Delayed('getQTrajectory-3e90e72c-25e4-42e2-bc17-a5285d5f1078'),\n",
       " Delayed('getQTrajectory-ffd14172-90be-4ff0-8c65-720fdea8b0a0'),\n",
       " Delayed('getQTrajectory-019e27f7-d063-49f3-9e2e-92cc3ab3010e'),\n",
       " Delayed('getQTrajectory-3fd461fa-a37f-4356-ac92-0d771ec9bcf9'),\n",
       " Delayed('getQTrajectory-94d0e92b-d5d6-4d8d-937f-4c708be05f81'),\n",
       " Delayed('getQTrajectory-0a93ddfc-b249-43a7-8b25-2f79fec72f06'),\n",
       " Delayed('getQTrajectory-0f09df65-c243-43f9-9090-70aec27781c5'),\n",
       " Delayed('getQTrajectory-c3d41ef4-4bf7-4dde-8092-f5f98666122c'),\n",
       " Delayed('getQTrajectory-4975dcfe-352f-411b-bc9c-2f09d5aeedef'),\n",
       " Delayed('getQTrajectory-15b9cec0-b969-4c18-b9b9-434172f669fb'),\n",
       " Delayed('getQTrajectory-0e257e2b-ec5c-4be4-9baf-a3c2dc5ecff3'),\n",
       " Delayed('getQTrajectory-6480da8d-3cdd-4304-952f-c0187b1fd342'),\n",
       " Delayed('getQTrajectory-0837ec22-ed73-49c0-b4c4-1ceb202d96c9'),\n",
       " Delayed('getQTrajectory-ca55b664-6358-4843-a772-b2684988bd3d'),\n",
       " Delayed('getQTrajectory-35e04641-9f3d-4e97-b4e4-6d5ce69bdb2a'),\n",
       " Delayed('getQTrajectory-20fde8bd-89a3-4457-80a1-1dc2fe0df22d'),\n",
       " Delayed('getQTrajectory-a682d978-0bfb-4d67-ac97-4ed3a6545d6a'),\n",
       " Delayed('getQTrajectory-677afb74-3672-4fa9-8a29-65e00609e629'),\n",
       " Delayed('getQTrajectory-b680d75a-20f8-4d7c-9673-8593ea8dd289'),\n",
       " Delayed('getQTrajectory-8a750b93-8cd5-434c-8969-23bd34e1dc43'),\n",
       " Delayed('getQTrajectory-bea53864-ecb1-427f-bc0c-28a482f5fc48'),\n",
       " Delayed('getQTrajectory-e8f0da5a-4511-4635-9a0d-9c472a7a1e07'),\n",
       " Delayed('getQTrajectory-539aba45-c7ab-4c0c-9fb0-7117807544e6'),\n",
       " Delayed('getQTrajectory-14039349-4b3d-42da-98f4-15d2ed2f49c3'),\n",
       " Delayed('getQTrajectory-666d3e76-e3bc-4897-9a4c-611e6d3f4346'),\n",
       " Delayed('getQTrajectory-0eec556f-b60f-49c5-9ac3-5cb45dbd0810'),\n",
       " Delayed('getQTrajectory-02ac43ce-e739-4d88-83cd-b685001b9130'),\n",
       " Delayed('getQTrajectory-609c5b0e-abd1-4cae-87d8-cdcdfa835d28'),\n",
       " Delayed('getQTrajectory-1d737296-f117-4f95-9cf0-691bec484683'),\n",
       " Delayed('getQTrajectory-d6d95e56-f7e3-4c06-b1c7-0f26e215a864'),\n",
       " Delayed('getQTrajectory-06e95766-9d29-4422-8e0b-bafe5c2b98eb'),\n",
       " Delayed('getQTrajectory-61f12aea-e7dc-418f-94c5-8676ce4447d2'),\n",
       " Delayed('getQTrajectory-69a02b8d-a50e-4925-86a6-db3143849e97'),\n",
       " Delayed('getQTrajectory-12546641-e11c-4bc9-ae4b-07634205e4aa'),\n",
       " Delayed('getQTrajectory-d55bb80f-d554-4e53-9c25-8880df8ce02f'),\n",
       " Delayed('getQTrajectory-3fe10f1c-b2c9-4cdf-8e92-aa2035db1656'),\n",
       " Delayed('getQTrajectory-a9247062-7a80-41fa-9d87-bf03846f67fd'),\n",
       " Delayed('getQTrajectory-38720ba7-6413-47ef-9ef1-f18fd5289890'),\n",
       " Delayed('getQTrajectory-e2f7b620-18b2-42c8-b7c5-af89c077d69d'),\n",
       " Delayed('getQTrajectory-b09c393e-44c6-4964-bd2c-6ed84842e819'),\n",
       " Delayed('getQTrajectory-0c7276ff-2818-4ded-b977-16bc828c2eea'),\n",
       " Delayed('getQTrajectory-d443ca72-9d48-43dc-8b6d-87fac34af7c2'),\n",
       " Delayed('getQTrajectory-1a4b0100-83b3-4d4c-9fd1-883c8bcad043'),\n",
       " Delayed('getQTrajectory-3ae50d0e-5df0-459a-bb9a-deb4535a2adf'),\n",
       " Delayed('getQTrajectory-7bd3ec04-d442-44e6-9d65-309a8971705b'),\n",
       " Delayed('getQTrajectory-59ca9b86-7e1b-4d4a-83b3-7efe5b2b099b'),\n",
       " Delayed('getQTrajectory-379fe874-9cba-4e4d-a143-9cad4ec068b1'),\n",
       " Delayed('getQTrajectory-f28baa6e-3965-4149-98c5-92b0a593d7be'),\n",
       " Delayed('getQTrajectory-a32cb06c-7ae5-411d-a31e-a1276c908df6'),\n",
       " Delayed('getQTrajectory-8fa661bd-d0d5-4d24-aa06-9016ba8ae39b'),\n",
       " Delayed('getQTrajectory-9c543ae7-7b88-4517-bd8d-9ed6acd1ce99'),\n",
       " Delayed('getQTrajectory-84edc446-1414-405f-9d8e-c482d2faa652'),\n",
       " Delayed('getQTrajectory-829c6701-962c-407a-aa23-69f76984f03f'),\n",
       " Delayed('getQTrajectory-de5e6851-5cb7-47c4-aa0f-494b0ee1deda'),\n",
       " Delayed('getQTrajectory-303a59af-3899-4f36-afef-49d1208fdb0c'),\n",
       " Delayed('getQTrajectory-1637a51a-fcad-4ad9-a96d-35e60b338e4c'),\n",
       " Delayed('getQTrajectory-282c6842-6787-4e6d-a134-936058a4b532'),\n",
       " Delayed('getQTrajectory-c09b0daa-6382-4c69-ae54-c7fa9c4ae5db'),\n",
       " Delayed('getQTrajectory-3f9de3c1-792c-494b-8e46-ac5a921c210b'),\n",
       " Delayed('getQTrajectory-3a9c5c9f-12f5-4f8a-ba1c-d2e0146b56e8'),\n",
       " Delayed('getQTrajectory-fdce807c-b638-40a9-9c39-ce2bc3fd29d0'),\n",
       " Delayed('getQTrajectory-85703813-b54c-4dc4-8f7b-eb5dfe3dc713'),\n",
       " Delayed('getQTrajectory-2254d0e3-eb51-4a81-98da-af18de7f49d0'),\n",
       " Delayed('getQTrajectory-5ec92854-7888-4772-adc5-fd7aa1d6ad58'),\n",
       " Delayed('getQTrajectory-ca36ec5d-b699-4d8e-9260-6a9d902c173d'),\n",
       " Delayed('getQTrajectory-619c46a9-4926-4c80-b143-aafc073055bf'),\n",
       " Delayed('getQTrajectory-dfb155b3-9af1-454b-9e1c-edc397c6859d'),\n",
       " Delayed('getQTrajectory-c39cb1c6-7b6c-40a4-911c-cccd1469e89b'),\n",
       " Delayed('getQTrajectory-84680c08-073e-4412-9265-f31d30efce3c'),\n",
       " Delayed('getQTrajectory-cd2ca43e-0773-46b0-94f6-ee9712fc9447'),\n",
       " Delayed('getQTrajectory-78694f90-eb4c-49ee-adf9-b98d7443ff15'),\n",
       " Delayed('getQTrajectory-a3268866-610e-4572-8ff0-92341638ad68'),\n",
       " Delayed('getQTrajectory-bd9b8306-9b23-41eb-9b2e-abd75ad00449'),\n",
       " Delayed('getQTrajectory-c5140850-ca57-48e5-9003-06197d573d54'),\n",
       " Delayed('getQTrajectory-ed542575-d163-4476-84a9-88602d9b1aa1'),\n",
       " Delayed('getQTrajectory-27f37fb0-dca2-4afd-8083-c125125871c5'),\n",
       " Delayed('getQTrajectory-6e06e7bc-b840-4312-a588-5b5a487e1da9'),\n",
       " Delayed('getQTrajectory-7b5d693d-f017-4ad1-8731-23d7880116cb'),\n",
       " Delayed('getQTrajectory-8b181810-7cea-4eb0-92ad-7d1e45b98c06'),\n",
       " Delayed('getQTrajectory-6a415cc6-84f3-4133-bf8d-ff9651a8f0e7'),\n",
       " Delayed('getQTrajectory-2c01b811-0ee8-4551-8957-8774b710c294'),\n",
       " Delayed('getQTrajectory-0326636c-4f5f-4368-8bf6-ee1ce4623328'),\n",
       " Delayed('getQTrajectory-626ea04d-07f6-45ec-916b-35b7e785fd1d'),\n",
       " Delayed('getQTrajectory-13c84dc8-9678-4111-8472-94693c4cff7e'),\n",
       " Delayed('getQTrajectory-c081b065-db11-4124-8e79-f7ad7c8d70dd'),\n",
       " Delayed('getQTrajectory-dba26fba-5607-4a2e-abba-2cbc340506d8'),\n",
       " Delayed('getQTrajectory-75495dcf-9772-4138-ae58-7dde91df7d75'),\n",
       " Delayed('getQTrajectory-6ef3f728-6f83-4050-916a-a6428c49f7ba'),\n",
       " Delayed('getQTrajectory-a97982ae-f649-48b6-a7ba-fce918cf4a3d'),\n",
       " Delayed('getQTrajectory-55075e67-a2ce-4e13-9a6d-b3d6510e705c'),\n",
       " Delayed('getQTrajectory-ec167cd9-8c19-482d-96b8-2aa2659569d6'),\n",
       " Delayed('getQTrajectory-458c0483-1d50-4a7b-a23f-392e38508f24'),\n",
       " Delayed('getQTrajectory-b06f5179-9a97-4295-8fe8-4b0bc534ca88'),\n",
       " Delayed('getQTrajectory-18addc21-0f21-4610-96f6-961c10de2472'),\n",
       " Delayed('getQTrajectory-24271516-d6ad-4f42-8841-4870f3b219ac'),\n",
       " Delayed('getQTrajectory-7841458f-7e0e-48b2-9164-9c7416ef1a69'),\n",
       " Delayed('getQTrajectory-0b80cfb5-5cee-4323-a764-80596f81766e'),\n",
       " Delayed('getQTrajectory-01e3a6ac-4a81-4a90-9657-4dd4353488b8'),\n",
       " Delayed('getQTrajectory-7fb9582d-82e4-4c96-b192-9e8aff07c805'),\n",
       " Delayed('getQTrajectory-175b809c-00d3-46a3-9e1c-64b25b2a09fd'),\n",
       " Delayed('getQTrajectory-21084fa8-fa0e-4353-877b-fc6d5f77f304'),\n",
       " Delayed('getQTrajectory-dd1a25fa-237e-4a0d-b4b0-0fa9a402fdea'),\n",
       " Delayed('getQTrajectory-6a216a66-e73e-48ea-b400-5cafca4c16db'),\n",
       " Delayed('getQTrajectory-34d011bf-002d-470c-8019-5885fcf3eb2b'),\n",
       " Delayed('getQTrajectory-03e26918-5a41-4d46-96dd-cc5e94749c4d'),\n",
       " Delayed('getQTrajectory-04639b11-4dd1-45e7-a1fc-41abe473e726'),\n",
       " Delayed('getQTrajectory-3bae0696-a4df-49b8-9cd4-36e995dac6ad'),\n",
       " Delayed('getQTrajectory-f231d9a7-bd5d-418c-b256-dde3bc495bc7'),\n",
       " Delayed('getQTrajectory-37a6677f-558e-4417-9ee6-aef663152dfa'),\n",
       " Delayed('getQTrajectory-1c06db79-1f84-46fe-bfa5-a27d67fccf15'),\n",
       " Delayed('getQTrajectory-e920fa6c-88c3-4c06-a3be-1c8966e30902'),\n",
       " Delayed('getQTrajectory-2f0383d2-dabc-4449-abcf-8d0713969f01'),\n",
       " Delayed('getQTrajectory-8085b1c8-580b-42fa-8306-a760d2c14dcb'),\n",
       " Delayed('getQTrajectory-cadca18f-6608-4c6d-80ff-cbeeb8ba84cb'),\n",
       " Delayed('getQTrajectory-08642071-6f93-4a00-a1b8-230ef18df468'),\n",
       " Delayed('getQTrajectory-8b566b64-919c-4853-8a75-2d1dd3788644'),\n",
       " Delayed('getQTrajectory-5638385c-3901-4534-96ba-8fadccc4be75'),\n",
       " Delayed('getQTrajectory-221cdfc6-bf0d-4265-a67b-6bffa51f717e'),\n",
       " Delayed('getQTrajectory-f877964a-f6a6-46b0-b1b2-0142c5cf6b1f'),\n",
       " Delayed('getQTrajectory-f14c11a9-6759-4e43-954c-8edf998b5113'),\n",
       " Delayed('getQTrajectory-06af85e7-084d-4f9f-9a56-28c467977bbb'),\n",
       " Delayed('getQTrajectory-c4bb7dd8-d95c-45ce-8b69-6c526fa9b4cc'),\n",
       " Delayed('getQTrajectory-1107790a-505d-4203-a3de-9e420fed4134'),\n",
       " Delayed('getQTrajectory-df6033e7-97b4-4f27-9c49-4439cd7a391b'),\n",
       " Delayed('getQTrajectory-7c6c693a-3f41-414a-b261-1fa150c18119'),\n",
       " Delayed('getQTrajectory-eb5bfbf1-681a-4240-bcee-cf6bca4c4a25'),\n",
       " Delayed('getQTrajectory-ac38b2f5-6d7e-4596-82f5-ae274ea36fdd'),\n",
       " Delayed('getQTrajectory-28b4223e-a3a2-442f-bdce-7d73ac7914bc'),\n",
       " Delayed('getQTrajectory-41c8fba0-cc1c-41fe-b4c7-f3bc6e6141d4'),\n",
       " Delayed('getQTrajectory-5d40f3a3-e859-47e4-b794-9c97aaf56aa5'),\n",
       " Delayed('getQTrajectory-27760dd5-2fb8-47a3-8458-7923b0e3631e'),\n",
       " Delayed('getQTrajectory-7fbe441a-5665-46cf-b765-78eae0fb5856'),\n",
       " Delayed('getQTrajectory-32bf5a92-df92-497a-aa4d-b7c9ac1e2f6b'),\n",
       " Delayed('getQTrajectory-e693fde3-3a6a-4b28-a899-f990716eb10a'),\n",
       " Delayed('getQTrajectory-fced4481-b07b-47f0-aa76-e0e2dca74f95'),\n",
       " Delayed('getQTrajectory-d797d6f8-8a5b-4d6e-80d2-5c8e2bc1300d'),\n",
       " Delayed('getQTrajectory-3fcca5b6-0147-48bc-8ffb-ce450c3485e8'),\n",
       " Delayed('getQTrajectory-ccc74833-d637-46e3-8cb4-5c340cf938a7'),\n",
       " Delayed('getQTrajectory-52c56519-b0cc-4e30-b8e5-f5c7945ec8d8'),\n",
       " Delayed('getQTrajectory-9f50d203-9835-42db-bccf-d24e9e1e85f7'),\n",
       " Delayed('getQTrajectory-226fcfdc-5c0f-4f63-af9a-299241207f40'),\n",
       " Delayed('getQTrajectory-08903581-7f0f-4323-a0b5-6cfec20a335e'),\n",
       " Delayed('getQTrajectory-a1ee5d03-c219-47e0-9a48-17044ee4509b'),\n",
       " Delayed('getQTrajectory-38fee554-3b9a-4c3e-ba0f-6a4f8f1f713e'),\n",
       " Delayed('getQTrajectory-cf50a3e6-0f1a-4d99-b659-c83fb9d13d1c'),\n",
       " Delayed('getQTrajectory-3fe22416-1a7e-4aed-9d6e-914f231c96ad'),\n",
       " Delayed('getQTrajectory-c53a9575-0df4-49f0-98be-7e0c55014a21'),\n",
       " Delayed('getQTrajectory-6ea7f496-8dfd-4e6d-ae99-40fd0142ca09'),\n",
       " Delayed('getQTrajectory-5ee5e535-236a-4cc6-a78f-0da7e494c41a'),\n",
       " Delayed('getQTrajectory-3d05c81a-6291-4404-9a16-2788407edc52'),\n",
       " Delayed('getQTrajectory-fa911312-5d18-4f7c-933c-f7cba7e32b06'),\n",
       " Delayed('getQTrajectory-da993ee3-cf72-4d52-b62c-83962ceda095'),\n",
       " Delayed('getQTrajectory-de3f8d15-b668-45ab-9dd8-90d3d99e49d0'),\n",
       " Delayed('getQTrajectory-327ac8c1-2cfd-4d51-a388-ddfe46c2e95e'),\n",
       " Delayed('getQTrajectory-201b741d-4166-43cf-9288-12815353f6a9'),\n",
       " Delayed('getQTrajectory-c3f49df8-bac3-42d7-95e7-5b0c39a1f72d'),\n",
       " Delayed('getQTrajectory-990a3aec-101f-4aa3-be1c-643e89ef59dd'),\n",
       " Delayed('getQTrajectory-5cbb30b7-414e-4700-b71c-00a52b49e068'),\n",
       " Delayed('getQTrajectory-fb842bd1-75b0-475b-925d-2de5a6381203'),\n",
       " Delayed('getQTrajectory-fcdccd08-4196-47de-83f8-751db298984a'),\n",
       " Delayed('getQTrajectory-6bab97c1-d43a-40be-8f48-77937453c0a6'),\n",
       " Delayed('getQTrajectory-2a137bbc-5fd5-42ab-a7ef-b1aecdd0614c'),\n",
       " Delayed('getQTrajectory-19d7b125-1b99-41eb-a6d8-355180dad324'),\n",
       " Delayed('getQTrajectory-3abc458a-4c6b-489f-9bc0-fda4299cb0d6'),\n",
       " Delayed('getQTrajectory-dedc835a-ef47-4ecb-9b20-7f88d1628e83'),\n",
       " Delayed('getQTrajectory-824ede6c-e99f-440a-b517-18f53aee9404'),\n",
       " Delayed('getQTrajectory-1aa2bad3-8e0c-45ec-bd68-58f7b12943c4'),\n",
       " Delayed('getQTrajectory-655439d4-a087-4865-a72e-beb184d96802'),\n",
       " Delayed('getQTrajectory-a6219472-2ecf-4d46-b25b-014a7da59cdf'),\n",
       " Delayed('getQTrajectory-c20ee104-8e74-4337-9568-2e7a4711e5b7'),\n",
       " Delayed('getQTrajectory-a60fb417-430e-485f-871c-ba801d6dfac3'),\n",
       " Delayed('getQTrajectory-860dc09a-ee1c-418d-80cf-24695fb1ad8e'),\n",
       " Delayed('getQTrajectory-8140255c-de91-49ad-a4ef-8a127a9f8d83'),\n",
       " Delayed('getQTrajectory-922424e8-3535-45b5-b635-287fbd039e57'),\n",
       " Delayed('getQTrajectory-0a0351df-0a87-409f-a845-0986beda6488'),\n",
       " Delayed('getQTrajectory-3179d9cf-c6a9-4deb-a2cd-20de7b27adaa'),\n",
       " Delayed('getQTrajectory-fb70fc19-57b1-4111-8488-6adeebfbe427'),\n",
       " Delayed('getQTrajectory-0568f5ba-9d96-41e0-a4ec-c2e3b5f661dd'),\n",
       " Delayed('getQTrajectory-0ce79c6a-1f8a-4b13-8747-46a0f0b120ef'),\n",
       " Delayed('getQTrajectory-9dab1805-dcfe-48d4-a192-a6dc90085264'),\n",
       " Delayed('getQTrajectory-7e1a915d-b0e5-4738-9ddb-a8784587e96d'),\n",
       " Delayed('getQTrajectory-e5c256f8-03d7-41ee-a7f7-a684ca6f56c3'),\n",
       " Delayed('getQTrajectory-9c898628-b5da-4878-957f-20167ded0392'),\n",
       " Delayed('getQTrajectory-ed581311-09e9-427b-8d96-aa131d115f50'),\n",
       " Delayed('getQTrajectory-e2d0b524-6ee4-4e57-8e62-749b96623c8f'),\n",
       " Delayed('getQTrajectory-b4093c63-a819-4b0e-9617-2c481fffffab'),\n",
       " Delayed('getQTrajectory-f1e297cc-69fc-454b-8eba-a324c34f0373'),\n",
       " Delayed('getQTrajectory-89519379-8325-47cb-b637-11742c74c7b8'),\n",
       " Delayed('getQTrajectory-b305354c-8b3c-4ff1-b799-73be00bc414b'),\n",
       " Delayed('getQTrajectory-7ef27280-27fb-4c63-9cd3-ab0aee919755'),\n",
       " Delayed('getQTrajectory-4915bc8b-2c2d-451b-a62e-25e508098a10'),\n",
       " Delayed('getQTrajectory-c034b302-b524-40d5-8f31-c127f5579515'),\n",
       " Delayed('getQTrajectory-fd45a0eb-f355-4182-9d1b-62e2672b0fd4'),\n",
       " Delayed('getQTrajectory-85937964-4809-4368-b456-b5a9dff209e0'),\n",
       " Delayed('getQTrajectory-74062a87-9513-41c6-9b7d-2a3b5f54285a'),\n",
       " Delayed('getQTrajectory-d050b6e1-80be-4a41-90e1-cb3f3c11d425'),\n",
       " Delayed('getQTrajectory-e6a2424b-edb4-48cf-a2b9-dce2c0703d8e'),\n",
       " Delayed('getQTrajectory-d31259a8-096a-47a1-9b7b-ba8a65dc3574'),\n",
       " Delayed('getQTrajectory-caa753e7-2527-4bdf-9134-4ba8cbf3f2e8'),\n",
       " Delayed('getQTrajectory-1c17ac72-0aa7-457a-b973-1c50a39fdeef'),\n",
       " Delayed('getQTrajectory-deea4161-76ba-4c7b-9dff-4e8302b4bd23'),\n",
       " Delayed('getQTrajectory-ff754259-0113-4fd4-804b-8e3e3cec33ce'),\n",
       " Delayed('getQTrajectory-0256a654-dd2a-4dd0-bd79-6b96aacfb52f'),\n",
       " Delayed('getQTrajectory-8642e102-7275-4584-82cc-b5c52f54200c'),\n",
       " Delayed('getQTrajectory-131b46b8-9434-49ea-863b-bd57ca4887e2'),\n",
       " Delayed('getQTrajectory-636dc823-ccee-4b78-9be9-49320539f9e5'),\n",
       " Delayed('getQTrajectory-76005da9-053b-4abc-8cab-0a9e1abac117'),\n",
       " Delayed('getQTrajectory-520bca0f-28cb-4725-9ac0-62059f2ed290'),\n",
       " Delayed('getQTrajectory-ba860c22-8916-4692-bac8-7b023a79cf87'),\n",
       " Delayed('getQTrajectory-fec8e1ae-48b8-4488-9ef5-6fa7c76284ef'),\n",
       " Delayed('getQTrajectory-89d4a2c8-6a7c-4e41-a5df-054e2969908e'),\n",
       " Delayed('getQTrajectory-c397494f-9d37-4fe0-beb0-63761c1e70f7'),\n",
       " Delayed('getQTrajectory-f3e95bb3-0914-483e-8ab7-e02c7faedc97'),\n",
       " Delayed('getQTrajectory-7bee19a8-8876-4826-8c22-f7d5ec1c8ce7'),\n",
       " Delayed('getQTrajectory-ce7ecdc2-c0f2-4c45-bcf0-6fd67ee9ec66'),\n",
       " Delayed('getQTrajectory-f9220a55-a094-4031-8e78-2fa78d8ef2f1'),\n",
       " Delayed('getQTrajectory-2579c884-0cf8-4eb4-b947-c43091e72bb6'),\n",
       " Delayed('getQTrajectory-a62cfa87-4d07-43b9-924e-f2052d2ee32c'),\n",
       " Delayed('getQTrajectory-ca31d865-e513-45bb-ae0a-3eefdb156e06'),\n",
       " Delayed('getQTrajectory-d39b22ef-c8f2-41bf-aacc-1ce6035405f6'),\n",
       " Delayed('getQTrajectory-58e921a6-9fed-46a8-8e24-056a77fe8b3e'),\n",
       " Delayed('getQTrajectory-a744b01f-b937-4c98-ba29-e7b55f92a123'),\n",
       " Delayed('getQTrajectory-b1aa7f36-b761-4341-b472-a866c1e83282'),\n",
       " Delayed('getQTrajectory-747c7df9-c522-443a-87a5-cc73b5843140'),\n",
       " Delayed('getQTrajectory-4cb9b0e4-b670-4995-9540-fea305f9e85d'),\n",
       " Delayed('getQTrajectory-bb6b8415-7b3e-4cd8-8d5f-94119e604641'),\n",
       " Delayed('getQTrajectory-39726255-e4a1-4067-8e94-27309a7455a4'),\n",
       " Delayed('getQTrajectory-c825b506-6cac-48cb-b205-ac73640c4685'),\n",
       " Delayed('getQTrajectory-96c4a161-170d-4ece-9b71-955ea482718f'),\n",
       " Delayed('getQTrajectory-a9669ae8-544a-44f2-af69-c7f781a66962'),\n",
       " Delayed('getQTrajectory-65de20c4-25df-4999-a887-178a0d7b3a7a'),\n",
       " Delayed('getQTrajectory-d368e49c-0f33-426f-b9ba-27e3a96b0e12'),\n",
       " Delayed('getQTrajectory-9a57185a-20fb-49dd-a995-fc669e1a6c8f'),\n",
       " Delayed('getQTrajectory-a93e6c65-31a6-4ffa-b62a-c3ef91112ed3'),\n",
       " Delayed('getQTrajectory-100dd934-7fce-4b1b-bceb-2716567e81cb'),\n",
       " Delayed('getQTrajectory-4f664b43-7c71-4df4-abd2-c155acfa63b9'),\n",
       " Delayed('getQTrajectory-54df21c7-b61c-4cfd-9bb2-68211cc54674'),\n",
       " Delayed('getQTrajectory-aa1b53f1-b76f-452b-b6b8-e9907c4f8cd4'),\n",
       " Delayed('getQTrajectory-642b226e-9bcb-477b-beaf-37eda9e76581'),\n",
       " Delayed('getQTrajectory-425f9c63-eabd-470d-a330-e6f54ff2af44'),\n",
       " Delayed('getQTrajectory-fb93e360-9269-46f2-b051-c67ea795be83'),\n",
       " Delayed('getQTrajectory-b915447e-4ced-4459-ad4c-f4eb2b88a3b6'),\n",
       " Delayed('getQTrajectory-a2de93b8-5d30-4eb3-bcef-396f6c00adf8'),\n",
       " Delayed('getQTrajectory-28995176-3f2a-47d4-afd7-f01d7f7ba839'),\n",
       " Delayed('getQTrajectory-fe56e77c-d1ef-44c7-b24d-058c3edbf393'),\n",
       " Delayed('getQTrajectory-6f479510-2f2d-4b08-a0e0-9beb5606969d'),\n",
       " Delayed('getQTrajectory-11548043-e8df-4ccb-891a-537b5045a972'),\n",
       " Delayed('getQTrajectory-3fb063ef-0966-4a77-a5ab-bdf6b5942ac4'),\n",
       " Delayed('getQTrajectory-7f11f2ed-5b2f-4004-922b-80eaae9e864a'),\n",
       " Delayed('getQTrajectory-cc41477a-ec38-428c-9d3b-e78569cb07ba'),\n",
       " Delayed('getQTrajectory-3c4093b5-7966-4431-8e3c-27c6ad68ccff'),\n",
       " Delayed('getQTrajectory-b7af0c62-4f67-4c7e-ac75-c338c94d50a8'),\n",
       " Delayed('getQTrajectory-5842b673-bb9c-484a-9869-a4389a378c10'),\n",
       " Delayed('getQTrajectory-b5433b59-d35e-44b7-82d9-db8789898407'),\n",
       " Delayed('getQTrajectory-54ae91a3-6b44-4d77-8aeb-173e01091fd8'),\n",
       " Delayed('getQTrajectory-671cd9bd-bf14-4f66-bbb1-e5159744aa49'),\n",
       " Delayed('getQTrajectory-51bbeb24-7009-4523-93e8-e0fad758616f'),\n",
       " Delayed('getQTrajectory-b5aee230-d5b0-41ad-b9be-33560c36106b'),\n",
       " Delayed('getQTrajectory-9f82201e-3276-447f-bb48-988c9c33ae48'),\n",
       " Delayed('getQTrajectory-f6608f77-958b-4c4d-be9a-b89237c977ee'),\n",
       " Delayed('getQTrajectory-9f98b8c6-6993-4f18-9510-462e4dc10e3c'),\n",
       " Delayed('getQTrajectory-81a1e6f8-f7ec-495c-b67f-96a7b42f55e4'),\n",
       " Delayed('getQTrajectory-48583113-1572-4594-a4b4-1b95eca593c3'),\n",
       " Delayed('getQTrajectory-c7c6dc19-937b-42e1-8847-c0b9ea812ca6'),\n",
       " Delayed('getQTrajectory-849f3f64-5a90-40c0-bb91-a1ab7b5ddce9'),\n",
       " Delayed('getQTrajectory-694b141e-c3f7-4417-8caa-075786bd54f5'),\n",
       " Delayed('getQTrajectory-19aa54d5-8bf6-457b-a98b-8ce8d546e314'),\n",
       " Delayed('getQTrajectory-bfaf9bb8-b72f-4db4-85e1-3ed82313b177'),\n",
       " Delayed('getQTrajectory-182f763a-335b-4d58-bca5-04045d5cb3fa'),\n",
       " Delayed('getQTrajectory-a061b494-4be1-4d04-a398-7293e5fdf588'),\n",
       " Delayed('getQTrajectory-d98e3247-4086-4e75-b926-c6fd95bd6bea'),\n",
       " Delayed('getQTrajectory-e74b5257-3532-4e5c-a898-9e9c757035f5'),\n",
       " Delayed('getQTrajectory-223f7958-2b38-4dd7-9f49-98a728e61a4f'),\n",
       " Delayed('getQTrajectory-db43cb99-12ef-4c7a-b07f-c237a4902041'),\n",
       " Delayed('getQTrajectory-79ab46b7-d556-4870-86c4-0171c3ab6f5e'),\n",
       " Delayed('getQTrajectory-2c745bd7-554f-4eeb-a9ec-74aa46b8f8ed'),\n",
       " Delayed('getQTrajectory-8e41a0f4-5e5b-464d-a042-c56a6bc0e84c'),\n",
       " Delayed('getQTrajectory-4ba7981a-a322-4838-81f4-e01743c6a611'),\n",
       " Delayed('getQTrajectory-2ce67032-c637-4db5-8f1a-e755cab3801a'),\n",
       " Delayed('getQTrajectory-c7a7b965-6804-4bb9-8291-30e678bba0aa'),\n",
       " Delayed('getQTrajectory-bcf8a76b-b7cb-4e0f-9104-30d047fc90ef'),\n",
       " Delayed('getQTrajectory-9bf799aa-16d3-451e-9646-466d0948f21b'),\n",
       " Delayed('getQTrajectory-ebb7f586-db27-4803-9f67-ee24b5d5fdc2'),\n",
       " Delayed('getQTrajectory-d299efab-0cba-426f-a406-7bf9399bd44d'),\n",
       " Delayed('getQTrajectory-95d47440-b348-445d-9d2f-b1db553017af'),\n",
       " Delayed('getQTrajectory-6f0ca4dc-ccb3-421e-b711-887362970dec'),\n",
       " Delayed('getQTrajectory-2d40c439-0e37-4afd-b4a8-9c8bd3ba27b0'),\n",
       " Delayed('getQTrajectory-2e50068b-e7f9-4e2e-a902-12e25ec8ae1b'),\n",
       " Delayed('getQTrajectory-c847ad05-f230-4c68-aee7-a29189f6813c'),\n",
       " Delayed('getQTrajectory-6633c248-1515-492f-90f9-c0318e512689'),\n",
       " Delayed('getQTrajectory-5b2c3039-8512-4403-ae4a-0dd54358e560'),\n",
       " Delayed('getQTrajectory-9c4c9ffb-7f30-4f04-9976-90207c5e0d46'),\n",
       " Delayed('getQTrajectory-093fecd9-12e8-4d59-9611-df90cd18f91b'),\n",
       " Delayed('getQTrajectory-00c74c61-3541-4f42-a697-3e088379373c'),\n",
       " Delayed('getQTrajectory-68c359d5-9666-47b6-b91d-b1485d7b7563'),\n",
       " Delayed('getQTrajectory-a53b99df-eeb4-4e6e-a81a-034a27af4cb4'),\n",
       " Delayed('getQTrajectory-811956e3-d618-4011-ad91-4b78c9e60f39'),\n",
       " Delayed('getQTrajectory-d27606fd-13a2-463a-a3d5-44c8952e5aaf'),\n",
       " Delayed('getQTrajectory-a24da49b-3561-449c-9a28-a38010046038'),\n",
       " Delayed('getQTrajectory-027d3d18-6bf7-44af-9c7d-5e87289745b8'),\n",
       " Delayed('getQTrajectory-0050c8f3-3adc-4b3c-84c7-2b2b88bea0ce'),\n",
       " Delayed('getQTrajectory-ae1e1d94-dc27-4506-95d0-3facf32b6d68'),\n",
       " Delayed('getQTrajectory-02679ab3-73f4-4e90-82e0-4afec01f1222'),\n",
       " Delayed('getQTrajectory-714ac7bf-58c3-43e9-8142-0d96fd6f2b4e'),\n",
       " Delayed('getQTrajectory-5809c560-8843-461b-900c-88283e63bc1a'),\n",
       " Delayed('getQTrajectory-543ff7a3-2112-4f4e-ac83-571671b3f90a'),\n",
       " Delayed('getQTrajectory-13145c2a-e148-4985-8f05-fa3f63ecf108'),\n",
       " Delayed('getQTrajectory-3477adae-2766-4ab4-bbfb-f508acf9b3cb'),\n",
       " Delayed('getQTrajectory-34cb7e8f-3296-4ecd-9970-b07837fcfca2'),\n",
       " Delayed('getQTrajectory-52412cac-7b62-424a-9e4d-dda4a7ff70d0'),\n",
       " Delayed('getQTrajectory-e9af996e-9aec-4eb2-b493-f691c153a0a4'),\n",
       " Delayed('getQTrajectory-5ddd3662-6820-4480-935a-bc64d738a2d1'),\n",
       " Delayed('getQTrajectory-b56f4b49-0942-4313-8161-a6ffbb7eff86'),\n",
       " Delayed('getQTrajectory-1a8a06b8-d1aa-4f68-832f-43c1c9528896'),\n",
       " Delayed('getQTrajectory-72f32766-1f57-4361-8e2c-7570810f5c62'),\n",
       " Delayed('getQTrajectory-4b3c32de-52cc-497a-823f-4e15bc90fafa'),\n",
       " Delayed('getQTrajectory-0ca61696-c945-49cd-be86-bf2c4f9a4310'),\n",
       " Delayed('getQTrajectory-da16e64b-3114-4af8-ad7e-8fe79ad5bda3'),\n",
       " Delayed('getQTrajectory-cad2677c-1786-4e73-a118-c183e407c195'),\n",
       " Delayed('getQTrajectory-b97ba076-db53-4bc9-ac7e-6c2fc90879a9'),\n",
       " Delayed('getQTrajectory-952b8729-33c8-4ecb-b898-e220a6052a75'),\n",
       " Delayed('getQTrajectory-baf5807d-0697-41d6-ab15-4a93d78c4e11'),\n",
       " Delayed('getQTrajectory-17aa9438-8d10-4d17-bc39-237e70d2e909'),\n",
       " Delayed('getQTrajectory-141ec8c6-6e87-4461-ae01-e390c3b18002'),\n",
       " Delayed('getQTrajectory-09fbff65-43cc-4334-b886-6ca2020260c9'),\n",
       " Delayed('getQTrajectory-3b2de8aa-37ce-4a22-bcad-492a83195aa0'),\n",
       " Delayed('getQTrajectory-55ed0adf-84f2-49b3-931b-ae43e9f501cc'),\n",
       " Delayed('getQTrajectory-8fd48ab1-3e09-4c45-9466-3cece12062eb'),\n",
       " Delayed('getQTrajectory-6a572722-4d5e-413f-9166-07f9e51fbb28'),\n",
       " Delayed('getQTrajectory-eb7cd3e9-1b1b-485c-a172-c557597a7d43'),\n",
       " Delayed('getQTrajectory-c4e515b5-1a4a-45a4-9d55-d714a6910478'),\n",
       " Delayed('getQTrajectory-61d6e7db-87c6-4ec1-a1a9-b18e553259af'),\n",
       " Delayed('getQTrajectory-3e062381-44ab-459a-ac09-7271f23c042e'),\n",
       " Delayed('getQTrajectory-37b38ff6-de74-44ec-8baa-0585d4116abd'),\n",
       " Delayed('getQTrajectory-87a1448e-d910-436d-801e-70d9c345561b'),\n",
       " Delayed('getQTrajectory-6969758d-5213-4529-8082-90eca55998a4'),\n",
       " Delayed('getQTrajectory-95f00023-4986-4876-bb67-930b77ea534c'),\n",
       " Delayed('getQTrajectory-72131627-54cb-40f0-a546-f05a315ce494'),\n",
       " Delayed('getQTrajectory-6af9a064-b922-4e68-9436-977e9c2925e1'),\n",
       " Delayed('getQTrajectory-810c216f-7948-404e-a7a5-71be83d188de'),\n",
       " Delayed('getQTrajectory-a1116bca-9331-4303-8faa-9524a6a0b794'),\n",
       " Delayed('getQTrajectory-2fb20822-c5a4-414e-bbee-e5667d649d44'),\n",
       " Delayed('getQTrajectory-19e78837-d62a-4a97-a8df-359d31409a01'),\n",
       " Delayed('getQTrajectory-1369fae8-499c-4ad2-ac52-a4eec8b9ddb4'),\n",
       " Delayed('getQTrajectory-a0177f27-8bc9-45ba-ba5f-e9c289041226'),\n",
       " Delayed('getQTrajectory-35d69a03-d95c-4e58-8155-de5bd7a617be'),\n",
       " Delayed('getQTrajectory-504f95e8-fd01-4279-8505-bb0ee75d4f92'),\n",
       " Delayed('getQTrajectory-683b265b-67b7-4993-b98d-9e4f6a3222e6'),\n",
       " Delayed('getQTrajectory-e5c4d7f8-1da7-4756-b947-88a6119ea644'),\n",
       " Delayed('getQTrajectory-bba8aac8-32e2-44f8-8ab5-26191ce66325'),\n",
       " Delayed('getQTrajectory-2a451809-243d-4bab-b24a-5ff82afbdb9b'),\n",
       " Delayed('getQTrajectory-04ffd9c9-e545-4abb-ad15-cbf5f098f4c5'),\n",
       " Delayed('getQTrajectory-5172b4ca-e1ce-4691-abcc-ce6dcb344db2'),\n",
       " Delayed('getQTrajectory-dc42a9c2-9701-443e-8c4b-82f797636c48'),\n",
       " Delayed('getQTrajectory-7b6dc027-018b-4fbb-a0d9-c59373bb3868'),\n",
       " Delayed('getQTrajectory-5e9820cc-bca1-4233-a450-5cdb868eb42f'),\n",
       " Delayed('getQTrajectory-8a637b99-199d-40c7-8250-a7377002826a'),\n",
       " Delayed('getQTrajectory-04b61798-5c59-4886-955b-007df8ef22b8'),\n",
       " Delayed('getQTrajectory-3076d47c-52c7-4665-879a-fb3b629b6f14'),\n",
       " Delayed('getQTrajectory-2825319e-7de0-4660-90c4-3dfe0c93f46c'),\n",
       " Delayed('getQTrajectory-eea8006f-f608-4d24-86c8-03507f0fec64'),\n",
       " Delayed('getQTrajectory-2e1ef92f-9839-436d-ac26-d7c2ef0fe4f0'),\n",
       " Delayed('getQTrajectory-c8367488-d371-42d1-9bf0-e150b607978e'),\n",
       " Delayed('getQTrajectory-02030348-4749-426a-9725-61021aec225e'),\n",
       " Delayed('getQTrajectory-eb60401f-a86e-4681-80f4-9a89f5c75c58'),\n",
       " Delayed('getQTrajectory-0532b3de-720a-485a-8d77-e768399803e7'),\n",
       " Delayed('getQTrajectory-1d3dbc82-e28b-4972-b07b-0ffbf9a240d7'),\n",
       " Delayed('getQTrajectory-b42d0ff2-c78d-48ba-b1fb-3dae041973a8'),\n",
       " Delayed('getQTrajectory-f3bc080f-6510-410a-a309-8ccc7746a5bf'),\n",
       " Delayed('getQTrajectory-3cdef6d5-3835-4d64-a82c-b093d5c66c37'),\n",
       " Delayed('getQTrajectory-63d0922c-0f9c-4d5a-bcbf-1e88c142bb1e'),\n",
       " Delayed('getQTrajectory-f47dd87f-0670-46d7-9b80-3c1fe002d0a3'),\n",
       " Delayed('getQTrajectory-09830435-ae97-4243-8be6-f652fc445398'),\n",
       " Delayed('getQTrajectory-f0e3da2a-aa66-4567-9bd4-28339932f44f'),\n",
       " Delayed('getQTrajectory-dc673f1b-ed65-4993-a049-16154b755e5a'),\n",
       " Delayed('getQTrajectory-cee04b91-8ac3-4dd6-9e81-f0fa299c40d7'),\n",
       " Delayed('getQTrajectory-cd0b7fef-520c-498b-afaf-dbe0fd02a14b'),\n",
       " Delayed('getQTrajectory-6e069348-0f9c-49dc-a98a-5f8fdb2f369a'),\n",
       " Delayed('getQTrajectory-8e766120-0b17-4c80-950d-1bbeba98b5e4'),\n",
       " Delayed('getQTrajectory-8a89051f-32f8-4b40-a15e-254b933a0fe9'),\n",
       " Delayed('getQTrajectory-d7929e60-6206-4e74-8427-38c6f7b247bb'),\n",
       " Delayed('getQTrajectory-bd24484a-01e2-4d56-baad-a5c28a3ef0f0'),\n",
       " Delayed('getQTrajectory-8e3e5960-2615-49ba-81da-a1b7fd1ba3fa'),\n",
       " Delayed('getQTrajectory-bfa1f6d6-3389-4548-8729-e6bf49088f17'),\n",
       " Delayed('getQTrajectory-378f09e9-5e1f-474e-a384-29c2d3788ded'),\n",
       " Delayed('getQTrajectory-ef96c050-0ba3-46d5-96fd-166f385b5489'),\n",
       " Delayed('getQTrajectory-cf55793c-44b0-4313-882f-7311027484d6'),\n",
       " Delayed('getQTrajectory-246a5c88-b6b1-4711-b27e-33dee0188a86'),\n",
       " Delayed('getQTrajectory-50cb1ee3-b152-470e-939f-6fff160949d8'),\n",
       " Delayed('getQTrajectory-a58aa88d-9b5a-45d9-85d5-7169f5348e8c'),\n",
       " Delayed('getQTrajectory-0e408e75-696b-4cbd-85f0-b221499433e2'),\n",
       " Delayed('getQTrajectory-5d2eb908-247a-495d-84ec-84854a0101b6'),\n",
       " Delayed('getQTrajectory-72697d93-d2e7-4ec0-9fac-c6d337fb3a05'),\n",
       " Delayed('getQTrajectory-6b5e2f22-2e59-4fd6-b08d-6e07f13e1efe'),\n",
       " Delayed('getQTrajectory-bd5370f0-486c-435d-b778-328da2f86869'),\n",
       " Delayed('getQTrajectory-82a8b625-b717-422b-9bf1-b3737d89a890'),\n",
       " Delayed('getQTrajectory-1490bf76-5c9d-4fc2-bec0-6653bb17ae84'),\n",
       " Delayed('getQTrajectory-fdc76573-141b-43a0-a8ac-2639790ba3d8'),\n",
       " Delayed('getQTrajectory-c6016a18-29fc-4612-b3b5-329352b3ea97'),\n",
       " Delayed('getQTrajectory-6aabb93b-7624-49cc-8a3c-3273b976a72c'),\n",
       " Delayed('getQTrajectory-87b3e0d4-69b8-49dd-a270-787739da3241'),\n",
       " Delayed('getQTrajectory-27659871-6119-4f5f-b8fe-bdb5108837e8'),\n",
       " Delayed('getQTrajectory-5cd092e8-4651-45e0-8930-0cce88d67590'),\n",
       " Delayed('getQTrajectory-34bea1fa-5c35-47da-b687-2a306d11abc9'),\n",
       " Delayed('getQTrajectory-3e57e90c-20b7-4451-a58c-0f4ea24a2b90'),\n",
       " Delayed('getQTrajectory-d31618de-01a7-4c25-931b-ff5f8ebd5b4a'),\n",
       " Delayed('getQTrajectory-527fdccb-8814-45a1-877e-eec350d3986b'),\n",
       " Delayed('getQTrajectory-12caae17-4849-4e71-8f44-8657d1a2534a'),\n",
       " Delayed('getQTrajectory-3ea6b23c-58ff-41b5-bdb8-ed7cfe09c634'),\n",
       " Delayed('getQTrajectory-96aacd8e-d31b-489c-bc91-1dacf2f59175'),\n",
       " Delayed('getQTrajectory-da3d6db4-c95b-4473-a22d-6f51e75d11d9'),\n",
       " Delayed('getQTrajectory-7329fe8d-7abb-4e0f-904c-5da8ac84063a'),\n",
       " Delayed('getQTrajectory-971c5cbd-18ca-4d5c-b931-8c0c85cf80d7'),\n",
       " Delayed('getQTrajectory-ab776553-b43c-4934-8c4b-b76a4e0e6c10'),\n",
       " Delayed('getQTrajectory-a2fec906-06af-48e6-b11f-4faf53c46547'),\n",
       " Delayed('getQTrajectory-f6fbf505-fa99-48ee-bfef-4d9545d046ee'),\n",
       " Delayed('getQTrajectory-9ad0fb25-5dc5-44c9-9bf2-afcd0700ca2f'),\n",
       " Delayed('getQTrajectory-b7aa7ce1-d423-4888-8ace-d1bdf3167380'),\n",
       " Delayed('getQTrajectory-f65b4729-09c7-475f-a7a1-37d127ad9953'),\n",
       " Delayed('getQTrajectory-f9237d91-224a-4ba8-a6d7-71ceac7760f3'),\n",
       " Delayed('getQTrajectory-40d297e5-ba63-4ade-9bba-a1f2d0dfd54a'),\n",
       " Delayed('getQTrajectory-4dbfe0a5-c3d2-4d6a-b92c-363178f83431'),\n",
       " Delayed('getQTrajectory-be894296-b6f8-4660-9f6b-674d4561418a'),\n",
       " Delayed('getQTrajectory-7a906543-0412-4577-a99f-53ccffc51eed'),\n",
       " Delayed('getQTrajectory-50813849-94a8-4a04-ace4-df4be8974505'),\n",
       " Delayed('getQTrajectory-1c47c675-d20a-4f90-9c13-c18345f923af'),\n",
       " Delayed('getQTrajectory-4ebcdbf1-938a-4055-99f5-dba91aa1d65f'),\n",
       " Delayed('getQTrajectory-8ce653be-7a9b-46e4-b642-1f733375b8c1'),\n",
       " Delayed('getQTrajectory-6d028d5d-fba3-42b7-a51d-f886ae915715'),\n",
       " Delayed('getQTrajectory-86e6f6de-2b6a-48fd-93e8-7ba65389af7f'),\n",
       " Delayed('getQTrajectory-8e0eb34d-c547-473f-938d-0a8f2c63d2a8'),\n",
       " Delayed('getQTrajectory-b680c62c-ec15-4497-933f-54dd4d01654d'),\n",
       " Delayed('getQTrajectory-499f5fd8-4bb3-4b9b-85c4-1184ac9b4644'),\n",
       " Delayed('getQTrajectory-21e7dc73-7a71-4ac6-a956-317fced8ca5b'),\n",
       " Delayed('getQTrajectory-5dbbff91-7f22-4a4e-80c1-2d74874c9ed4'),\n",
       " Delayed('getQTrajectory-cb57d81a-3443-4640-b308-f90d840b4cc5'),\n",
       " Delayed('getQTrajectory-972c7777-f229-4315-a8f5-896bff17b155'),\n",
       " Delayed('getQTrajectory-d9d271a4-ceac-458c-af8d-02525ac0ffe0'),\n",
       " Delayed('getQTrajectory-30acb2f4-0e9d-47e8-a7ad-f686b125cb5d'),\n",
       " Delayed('getQTrajectory-b31d96dc-2cf1-4f19-936c-09acae768ad3'),\n",
       " Delayed('getQTrajectory-55ab8f97-877a-4046-8797-ebea1f64b922'),\n",
       " Delayed('getQTrajectory-6d24c45e-5567-4c0c-9573-28b2eb8db578'),\n",
       " Delayed('getQTrajectory-47b06a6d-2f5d-46f6-bfe3-65a354c026ff'),\n",
       " Delayed('getQTrajectory-af6ad2dc-f056-4daa-8ade-a538121241e5'),\n",
       " Delayed('getQTrajectory-2d3115d5-4b53-473d-86f3-33961aeef6a7'),\n",
       " Delayed('getQTrajectory-f3249faf-87ac-4e99-859a-b78778e69faa'),\n",
       " Delayed('getQTrajectory-842aaa20-673d-4f8d-933e-c897eb31f136'),\n",
       " Delayed('getQTrajectory-35b77ff1-b807-48ef-8ecf-f6615dad8224'),\n",
       " Delayed('getQTrajectory-17f3b79f-0b0d-498c-affa-9eecce3fe83e'),\n",
       " Delayed('getQTrajectory-89a2a954-0734-44b2-ba42-e8d3c1db6522'),\n",
       " Delayed('getQTrajectory-5fe84094-e4a8-4458-a629-f5dbf77098f3'),\n",
       " Delayed('getQTrajectory-7bb9d16c-2758-4ab2-a620-4e63ba5fcd71'),\n",
       " Delayed('getQTrajectory-6adce57a-0854-45f8-a686-1ae503c627e8'),\n",
       " Delayed('getQTrajectory-bfc06d0f-a646-469b-ae75-27a93cc2d8ba'),\n",
       " Delayed('getQTrajectory-6ae98be5-605f-4d7d-80f2-14cb4e8c2f21'),\n",
       " Delayed('getQTrajectory-236604a9-febf-4e12-a242-e3e4d2a55caa'),\n",
       " Delayed('getQTrajectory-c117bda7-2265-4b9e-971a-be6074474054'),\n",
       " Delayed('getQTrajectory-c8eaf5e8-a0fc-4085-b5a8-d2e663edacab'),\n",
       " Delayed('getQTrajectory-02a19132-8330-44c7-b46e-d76c70f8f7ce'),\n",
       " Delayed('getQTrajectory-8118e119-9a3f-483a-8a6f-66b356df733f'),\n",
       " Delayed('getQTrajectory-652db9e5-bbb2-4c5f-9b33-1a257f7ddd91'),\n",
       " Delayed('getQTrajectory-18445a6c-4e59-4f2d-aee9-bd6dfaf6b92f'),\n",
       " Delayed('getQTrajectory-aa6893ea-4afd-4a12-8ef9-0d0341c90346'),\n",
       " Delayed('getQTrajectory-d88ccec6-3d59-481c-86b4-4e94cad24bd2'),\n",
       " Delayed('getQTrajectory-2db6f436-43c0-44bc-b4e1-c5f4e19f84ae'),\n",
       " Delayed('getQTrajectory-adb2c0c3-da2c-4144-a830-d1379fa47186'),\n",
       " Delayed('getQTrajectory-524d9aa9-520c-4a6b-a21c-aee7f7c59529'),\n",
       " Delayed('getQTrajectory-34dce933-59ca-422b-89e2-d880f0f9af96'),\n",
       " Delayed('getQTrajectory-5851159c-1a22-4bc9-ae3d-457096546022'),\n",
       " Delayed('getQTrajectory-cd780f69-6a7a-4205-8238-eadafff0311f'),\n",
       " Delayed('getQTrajectory-1f8b21fe-9831-4d3b-9730-b13d28e191d1'),\n",
       " Delayed('getQTrajectory-40524974-38e0-4f89-abd9-cdce847819aa'),\n",
       " Delayed('getQTrajectory-a59e8a43-35b3-460f-b344-692483bfe44b'),\n",
       " Delayed('getQTrajectory-1e30f220-c4f1-466b-8f01-e8d32dbbc802'),\n",
       " Delayed('getQTrajectory-4ee44fac-0adb-48f8-a8ce-9617ca3011e4'),\n",
       " Delayed('getQTrajectory-f1b08e5b-3879-4dd3-9430-64cf0b80f434'),\n",
       " Delayed('getQTrajectory-94fa925d-c602-41a8-8f2f-4426be10a280'),\n",
       " Delayed('getQTrajectory-6d20484d-8456-473b-9dae-8b9ef9bc3a2d'),\n",
       " Delayed('getQTrajectory-c4e0fd78-003c-46f1-9751-8eac48c31b26'),\n",
       " Delayed('getQTrajectory-e11be23d-7621-4938-8ab9-29464a0805a7'),\n",
       " Delayed('getQTrajectory-06e40555-e143-4e96-9153-00b4d875737a'),\n",
       " Delayed('getQTrajectory-36ea5413-44dd-4f13-9993-33a39c8cb023'),\n",
       " Delayed('getQTrajectory-01d03c91-9dcf-491f-a779-b40dae5f1070'),\n",
       " Delayed('getQTrajectory-3928af8c-edef-438b-ad07-5fd7f31afaeb'),\n",
       " Delayed('getQTrajectory-c43b1ff4-a269-4338-bb1f-11bf26fc1ace'),\n",
       " Delayed('getQTrajectory-0351d3b0-5966-4908-9933-330825613180'),\n",
       " Delayed('getQTrajectory-89ec8388-8a95-446e-ad24-726a8da99634'),\n",
       " Delayed('getQTrajectory-4e3572df-c2bd-4cb1-a162-55d2ce19c5b3'),\n",
       " Delayed('getQTrajectory-b9ec6a56-6dd0-40b1-8667-1f1631ac5db6'),\n",
       " Delayed('getQTrajectory-e35b572e-1e0e-4f3f-86b0-79a1027d2366'),\n",
       " Delayed('getQTrajectory-049c1ef3-eca9-4d73-a805-c5b0aec4f136'),\n",
       " Delayed('getQTrajectory-98d9b19b-97d1-42b7-bf7e-9bbaa8822620'),\n",
       " Delayed('getQTrajectory-5350232e-d5ed-432a-abbd-d44d31c245aa'),\n",
       " Delayed('getQTrajectory-14909f8a-c42a-4c28-995c-de23ffdd67a6'),\n",
       " Delayed('getQTrajectory-409ef10b-24cc-4e0b-a7b4-229053c4c045'),\n",
       " Delayed('getQTrajectory-219ab14e-3fa8-4cf7-96d3-6977e647d18b'),\n",
       " Delayed('getQTrajectory-17cdba46-b45e-4c0a-b340-95c7f22c71ff'),\n",
       " Delayed('getQTrajectory-f860b3f0-cb89-405e-bbef-0fa2e30f0389'),\n",
       " Delayed('getQTrajectory-55075e4d-abfc-4b09-ba0e-4392bdafc7d9'),\n",
       " Delayed('getQTrajectory-de041e4d-9d40-43ba-8324-2934e558964b'),\n",
       " Delayed('getQTrajectory-22699cc8-8853-4faa-8e3b-7d5fb136c5ce'),\n",
       " Delayed('getQTrajectory-dff7a782-e852-4b72-a9d0-8b9d0cd5b33f'),\n",
       " Delayed('getQTrajectory-57097054-6ef9-475b-9d81-4eeb0ab109b3'),\n",
       " Delayed('getQTrajectory-9fc4335f-8cdf-4b4c-a5c8-75425acaf22e'),\n",
       " Delayed('getQTrajectory-6fa4bbd1-3067-42ef-8fff-0d2b77f0334f'),\n",
       " Delayed('getQTrajectory-0239607b-ab03-4f3b-8f5d-14682aab98ce'),\n",
       " Delayed('getQTrajectory-f67e0dc8-ce4c-4a55-8550-408061f9d88d'),\n",
       " Delayed('getQTrajectory-3b7a554a-2554-4f2b-ab16-f4a8237af45a'),\n",
       " Delayed('getQTrajectory-67e6db77-2f1b-472c-ba45-ab039a214f83'),\n",
       " Delayed('getQTrajectory-56c14abd-a042-47b0-a193-93072a4762e2'),\n",
       " Delayed('getQTrajectory-bc272e52-513f-43f9-8d82-807e1ee423fe'),\n",
       " Delayed('getQTrajectory-6fbaf569-ce0c-4207-a557-ebf2e118dbd8'),\n",
       " Delayed('getQTrajectory-4032b9eb-664b-4393-b75e-cae14915e050'),\n",
       " Delayed('getQTrajectory-4402b817-b1ef-43fa-9c0b-9fe9c58ee3e4'),\n",
       " Delayed('getQTrajectory-a9d8e406-0257-401c-b49b-54560f6bbdbc'),\n",
       " Delayed('getQTrajectory-ea551ae7-5926-4b2a-93b3-dd2a82efed31'),\n",
       " Delayed('getQTrajectory-059020ce-d5fc-419d-8b1f-0d4f44994b72'),\n",
       " Delayed('getQTrajectory-f7b3b963-9ceb-4ea6-8622-5d3ab5cd328e'),\n",
       " Delayed('getQTrajectory-58174b03-2763-4235-928e-c4a5eb1c73d4'),\n",
       " Delayed('getQTrajectory-64e82455-db4f-4b8b-a273-775444476950'),\n",
       " Delayed('getQTrajectory-c2512142-1ffa-4e10-bd32-7c5a546e63fb'),\n",
       " Delayed('getQTrajectory-5c52f72a-4063-4c18-b8fd-30e9d57b5cf3'),\n",
       " Delayed('getQTrajectory-41f3d6e2-daec-4ab8-8102-f35d71dbcfce'),\n",
       " Delayed('getQTrajectory-2941eaa3-c8aa-4d3a-9ae2-d1d4de469f5d'),\n",
       " Delayed('getQTrajectory-c8e8a095-6573-4a7c-854e-49f6a226f8f2'),\n",
       " Delayed('getQTrajectory-fe7a6c07-8f44-47f1-acf7-146ec596f072'),\n",
       " Delayed('getQTrajectory-5d5dcc1a-5b61-4cfa-bd2c-db4783431bb7'),\n",
       " Delayed('getQTrajectory-08c26d56-ade7-4219-bff1-f87caa0468e3'),\n",
       " Delayed('getQTrajectory-b50ad3de-7fb3-47fa-83b4-7887d19148fc'),\n",
       " Delayed('getQTrajectory-66e147b0-9272-4034-ab46-7fb819923204'),\n",
       " Delayed('getQTrajectory-448beed8-6171-4a02-873c-5b3a81174e9e'),\n",
       " Delayed('getQTrajectory-fb0ac18e-c71c-44a1-88fe-925fbea968ce'),\n",
       " Delayed('getQTrajectory-ba1f0b64-5f24-4e62-8c43-02ab983ad8b1'),\n",
       " Delayed('getQTrajectory-42db9b8f-f4ab-439c-8b46-b4b46594a9f9'),\n",
       " Delayed('getQTrajectory-0cb45ed2-6157-49eb-b2f9-6ec482e85a4e'),\n",
       " Delayed('getQTrajectory-b50cebec-7151-4523-b00e-ca3e7a1dd3bd'),\n",
       " Delayed('getQTrajectory-f6a1cb81-373f-42e9-923c-e0b5934fdf54'),\n",
       " Delayed('getQTrajectory-d6b8d41c-e517-457a-a0ce-f7b75d975565'),\n",
       " Delayed('getQTrajectory-ff9d9e39-4c4c-4441-8a3a-c2798087d0ae'),\n",
       " Delayed('getQTrajectory-f957639a-53a1-4838-bf3e-b02776982138'),\n",
       " Delayed('getQTrajectory-5e827126-25a9-4ca2-a88e-7c7ba415df89'),\n",
       " Delayed('getQTrajectory-e7889796-f7e0-4dcc-a789-74b0ed8eb4a7'),\n",
       " Delayed('getQTrajectory-cc66a6ff-5471-4ff1-8edc-3e48fad6a80e'),\n",
       " Delayed('getQTrajectory-5be736a3-5356-4b35-b14b-06f1ab055ff0'),\n",
       " Delayed('getQTrajectory-d19c55eb-49a1-4cae-af76-a82b1141c5c8'),\n",
       " Delayed('getQTrajectory-1e2a0d6d-db67-4053-bf4c-e9d22bacd394'),\n",
       " Delayed('getQTrajectory-95e6726e-015d-4aa0-9155-cffec44cb56c'),\n",
       " Delayed('getQTrajectory-9e939ffd-5c9f-4eba-8818-be5f8fd1f109'),\n",
       " Delayed('getQTrajectory-8b3c5950-ad8e-4812-801e-4aab38ce28f4'),\n",
       " Delayed('getQTrajectory-5058c9a7-8c25-49a2-8db2-356ea37b87e6'),\n",
       " Delayed('getQTrajectory-1b5e8ee7-027e-4b5f-8df6-b092eb543eea'),\n",
       " Delayed('getQTrajectory-7b727865-621d-4193-b327-af237f57f14a'),\n",
       " Delayed('getQTrajectory-5fd93029-14ba-43b5-9be7-8a95bbc94c55'),\n",
       " Delayed('getQTrajectory-b064e763-c4a2-4eba-a48c-3fc4fc42ee0d'),\n",
       " Delayed('getQTrajectory-c3deaf17-14d5-464f-92af-0ecef2f30476'),\n",
       " Delayed('getQTrajectory-721bfb48-4b6b-4ea0-8cf9-d8b3a6e33b02'),\n",
       " Delayed('getQTrajectory-226edc52-c9e5-46d9-868e-9e4405f4000c'),\n",
       " Delayed('getQTrajectory-5ef57481-e34e-4d33-9a28-d9acb676b044'),\n",
       " Delayed('getQTrajectory-76c759c2-c670-497b-b09c-ebc7a7616511'),\n",
       " Delayed('getQTrajectory-c6fbe987-5117-4ae4-ba7b-017fec219c80'),\n",
       " Delayed('getQTrajectory-43031891-706a-4d27-8e4a-c34446a7c876'),\n",
       " Delayed('getQTrajectory-4c45ca77-c014-428f-8d7d-137d1488f4ec'),\n",
       " Delayed('getQTrajectory-29b476e9-4d6f-4065-b37c-280b7809395d'),\n",
       " Delayed('getQTrajectory-4bb08af3-5f56-4882-b0c4-3a73653a59b8'),\n",
       " Delayed('getQTrajectory-08757e56-4959-4472-9409-777c7a9cf212'),\n",
       " Delayed('getQTrajectory-24105128-861c-4818-8f18-c48bb3fdaa7a'),\n",
       " Delayed('getQTrajectory-5468b97e-d46d-4c33-a93b-3adbf9557bd2'),\n",
       " Delayed('getQTrajectory-44830fc1-f90b-4027-a135-d5a7cd30eb67'),\n",
       " Delayed('getQTrajectory-6a50effa-95bb-4862-b25c-a33b99a27471'),\n",
       " Delayed('getQTrajectory-fdc1820d-26d0-4a87-bffe-8a91254f2ce1'),\n",
       " Delayed('getQTrajectory-43f044e7-d4f8-4691-a145-c34a4a88d243'),\n",
       " Delayed('getQTrajectory-b42e60b9-070a-44b1-ad7f-6b865bb79bb0'),\n",
       " Delayed('getQTrajectory-4c6ac345-0a4e-4dbd-b8d7-83244fa17f42'),\n",
       " Delayed('getQTrajectory-e5c629da-6681-4535-91c5-a0ad2ddccd3b'),\n",
       " Delayed('getQTrajectory-86b7c957-6891-4381-876e-cc36ecdc585a'),\n",
       " Delayed('getQTrajectory-71e7e219-f06a-45ee-a66e-ddb688f7ec3c'),\n",
       " Delayed('getQTrajectory-9840c937-f28a-46d0-bd82-911fb56ea547'),\n",
       " Delayed('getQTrajectory-e66ec17b-ce28-418d-9fc1-279bb1c66838'),\n",
       " Delayed('getQTrajectory-f1db4c12-3b5b-46f8-b7d3-747ba2f7fe7b'),\n",
       " Delayed('getQTrajectory-6a46caa8-ee74-491b-a968-de900717609f'),\n",
       " Delayed('getQTrajectory-90b1e695-8df6-4318-93f7-93598489571f'),\n",
       " Delayed('getQTrajectory-6ec00d13-bdbb-46b4-86f8-64c618802b22'),\n",
       " Delayed('getQTrajectory-8f6332d6-408c-40c8-b00b-a2cf73f2998e'),\n",
       " Delayed('getQTrajectory-d8a3f6de-d8a2-45aa-9f9a-2600c47f0c0d'),\n",
       " Delayed('getQTrajectory-a51ac282-5251-411b-b63b-2aa8e6b22256'),\n",
       " Delayed('getQTrajectory-dd6b396a-7259-4b09-9ce0-49cd0b00f547'),\n",
       " Delayed('getQTrajectory-e74ebe0a-efcc-472e-8b8d-203f24b327be'),\n",
       " Delayed('getQTrajectory-f2b73976-abae-43f1-bb95-bc2603969703'),\n",
       " Delayed('getQTrajectory-b64db5d3-45b6-4c31-8c4d-7ee6f7d7221f'),\n",
       " Delayed('getQTrajectory-7d908fba-7718-4c6d-8848-51faca9b3bac'),\n",
       " Delayed('getQTrajectory-de3c682f-e1bf-4a99-b8ab-a04ba0c6705a'),\n",
       " Delayed('getQTrajectory-c81b133f-5a57-4d22-aa36-16097b33a5c6'),\n",
       " Delayed('getQTrajectory-ed741cc9-cb8a-4239-b3b5-4c9bbc7197d5'),\n",
       " Delayed('getQTrajectory-21cdd19f-8ed7-4c2f-b912-a86563b980d8'),\n",
       " Delayed('getQTrajectory-0b68b6d4-3568-4605-8202-4740aef531e9'),\n",
       " Delayed('getQTrajectory-3c34c92e-a6ba-42c3-be51-961fca864bf6'),\n",
       " Delayed('getQTrajectory-b988b692-07ee-48f4-9820-f92a91b1b7f3'),\n",
       " Delayed('getQTrajectory-768861a6-263c-4f3d-a1c6-99a350dc3a04'),\n",
       " Delayed('getQTrajectory-6d0c8277-64ef-4870-8e4b-ea87a6842f28'),\n",
       " Delayed('getQTrajectory-50b51883-5210-4f14-9652-d7cce8f34620'),\n",
       " Delayed('getQTrajectory-856afe95-1e4e-4918-8e43-b1bfdf7b95ea'),\n",
       " Delayed('getQTrajectory-def73739-8396-45ce-83ab-fe41108d70cd'),\n",
       " Delayed('getQTrajectory-c8027bc8-7ab9-4914-9b79-9f82646b09a9'),\n",
       " Delayed('getQTrajectory-6e3dc93a-fd81-4640-aac6-77b234f8e7d8'),\n",
       " Delayed('getQTrajectory-72b74fca-1824-4155-8242-7572cd0e1ce8'),\n",
       " Delayed('getQTrajectory-2f10a668-6de4-44b0-a254-d7f662decd7d'),\n",
       " Delayed('getQTrajectory-db178733-6369-48f4-83f6-d87e9150e675'),\n",
       " Delayed('getQTrajectory-a049db6b-a961-4f30-8397-960ef0d4c695'),\n",
       " Delayed('getQTrajectory-b175432c-1b84-42bf-9baf-3e068d935c1a'),\n",
       " Delayed('getQTrajectory-eb14fbf6-127c-458c-b96c-3cf29d8e327d'),\n",
       " Delayed('getQTrajectory-43018326-934c-4d48-bf4a-5ebcdd54537c'),\n",
       " Delayed('getQTrajectory-36b40887-2240-4f42-a4c0-e12b01635f2a'),\n",
       " Delayed('getQTrajectory-47ce5622-9820-4319-9d61-94a059eb9feb'),\n",
       " Delayed('getQTrajectory-e0cbc00c-bfec-4cd6-af58-ebaa3d8606d1'),\n",
       " Delayed('getQTrajectory-5eed2f63-ec39-4ce6-9e5a-b8f49d36bfc4'),\n",
       " Delayed('getQTrajectory-2d1d14a0-45ec-4f27-8544-27d8750b10e4'),\n",
       " Delayed('getQTrajectory-4eb9f71c-d2b7-4d21-a783-57d217d7ce1e'),\n",
       " Delayed('getQTrajectory-d2055002-4777-4a52-9217-247b90a0902f'),\n",
       " Delayed('getQTrajectory-d98e8edc-fd58-4463-8db4-2be738e4734a'),\n",
       " Delayed('getQTrajectory-edc11e1d-dac1-4967-bc24-de06f9bf59d5'),\n",
       " Delayed('getQTrajectory-e724088d-1f65-4f15-bdf0-ba482c509f2d'),\n",
       " Delayed('getQTrajectory-04830d1e-426f-48ab-be5f-eb2a5e8d8a08'),\n",
       " Delayed('getQTrajectory-062b9915-8201-4ae6-89ac-35cb6f5541ba'),\n",
       " Delayed('getQTrajectory-6a180a43-5ed7-4d73-a7cb-98a5b7f6dc20'),\n",
       " Delayed('getQTrajectory-b81c7fdb-42a8-41eb-9d24-31fe80b66ddb'),\n",
       " Delayed('getQTrajectory-8d0638eb-9063-4482-8530-924d4bf7de68'),\n",
       " Delayed('getQTrajectory-d774598d-8193-4057-9ffb-7c9d52ea148f'),\n",
       " Delayed('getQTrajectory-b1db851a-d8f2-4c68-b843-9fa34b3595da'),\n",
       " Delayed('getQTrajectory-dbaa2da4-db58-4a24-aad6-2eed9df80f19'),\n",
       " Delayed('getQTrajectory-e78c2fbf-40ae-4b24-aca0-f268f2bca78d'),\n",
       " Delayed('getQTrajectory-9e65c016-3b6b-4598-b68f-5d4219964407'),\n",
       " Delayed('getQTrajectory-fdcca6ed-e832-41a6-834e-1ba9b7dfca57'),\n",
       " Delayed('getQTrajectory-f7979e36-b260-4417-9e09-12d2f25d65ba'),\n",
       " Delayed('getQTrajectory-9acc8d7e-bf9d-4556-8829-c939fce3b842'),\n",
       " Delayed('getQTrajectory-5192f6bc-15a7-4544-8e32-0ebe3836613d'),\n",
       " Delayed('getQTrajectory-111a216b-8f12-4df9-8913-6c3711fb003b'),\n",
       " Delayed('getQTrajectory-c800d861-80f4-4115-8328-8c46e142f3de'),\n",
       " Delayed('getQTrajectory-a9364910-c5fc-4053-a5b7-80b769ffecba'),\n",
       " Delayed('getQTrajectory-8abfe120-7cba-49d9-a621-7d975e49c2e1'),\n",
       " Delayed('getQTrajectory-37f5d618-953e-479d-9847-1ac47b9844e1'),\n",
       " Delayed('getQTrajectory-bcd130c1-f39f-4de9-a740-f952154cc71e'),\n",
       " Delayed('getQTrajectory-3ad3f071-149c-4e7b-b23f-ae0fc50b2981'),\n",
       " Delayed('getQTrajectory-c47c75c5-84e3-4570-b8e7-432b8830ac23'),\n",
       " Delayed('getQTrajectory-038ab235-785a-4cd8-a206-0cc0baf569eb'),\n",
       " Delayed('getQTrajectory-0e0b7484-406e-4905-948c-00479e318fdc'),\n",
       " Delayed('getQTrajectory-a24055b8-b882-4a3e-a4dd-6eb634182668'),\n",
       " Delayed('getQTrajectory-b1899d2d-c1a9-4f98-86a6-56298f0b19ff'),\n",
       " Delayed('getQTrajectory-d74b728e-2931-46dd-832e-2d0348968364'),\n",
       " Delayed('getQTrajectory-d46aa9c3-c41d-4d47-8b2d-6e179afff4ad'),\n",
       " Delayed('getQTrajectory-cb0d6ca0-9ee8-4169-9a13-f36de2f4c791'),\n",
       " Delayed('getQTrajectory-d1a4396e-13c7-4ad5-9599-30f6477d463b'),\n",
       " Delayed('getQTrajectory-7ad3a4f7-803c-4ccd-a78f-9a0263f48e16'),\n",
       " Delayed('getQTrajectory-5756276b-a429-4958-be14-82e99b44feb7'),\n",
       " Delayed('getQTrajectory-d8560e82-1546-44e1-95fd-9d59f31eccb3'),\n",
       " Delayed('getQTrajectory-0c779eb6-22bf-4dc2-9f6f-2fb8744bbb5c'),\n",
       " Delayed('getQTrajectory-48081905-53b9-4d72-9227-43116f0cb094'),\n",
       " Delayed('getQTrajectory-4c1669fa-455f-40b8-839a-d5bfa54e8271'),\n",
       " Delayed('getQTrajectory-ec2b06a8-c307-453c-a994-ea0b5c8370c1'),\n",
       " Delayed('getQTrajectory-0d973002-e0d2-480b-8c75-9b206427e809'),\n",
       " Delayed('getQTrajectory-691a98db-3fd8-4630-876d-381ec91c58e7'),\n",
       " Delayed('getQTrajectory-63e2ccbc-4f36-4833-8206-067fab80bc48'),\n",
       " Delayed('getQTrajectory-b8a15f1c-211b-4916-a12b-cdedc73a1fe5'),\n",
       " Delayed('getQTrajectory-9808f108-60f7-4aae-b1cc-1c5179beb667'),\n",
       " Delayed('getQTrajectory-e6cdf827-9e11-4397-901f-c5c0defe77b5'),\n",
       " Delayed('getQTrajectory-7b50ecf5-350a-43b2-a7bb-60ea455459b6'),\n",
       " Delayed('getQTrajectory-13fa5780-3d9b-44c8-90fe-d8dee5d8ddb9'),\n",
       " Delayed('getQTrajectory-5bed4f0c-227f-4770-bd42-320cff03f3d4'),\n",
       " Delayed('getQTrajectory-46ba6676-8833-41f3-a5ee-8c0f20000f64'),\n",
       " Delayed('getQTrajectory-5488e262-0d79-4b98-b0a6-768f649df759'),\n",
       " Delayed('getQTrajectory-4267520d-2d6f-48fa-a7ed-46c18c2815dd'),\n",
       " Delayed('getQTrajectory-b59c5128-f40e-425c-ae85-3f038bc9976f'),\n",
       " Delayed('getQTrajectory-7f825c39-a3a1-45bb-a067-a9c46ff90e04'),\n",
       " Delayed('getQTrajectory-19258d1d-9195-4be8-b6f3-df207a0085c8'),\n",
       " Delayed('getQTrajectory-692bd23c-7a3f-4d24-981b-d0b5df09d6ad'),\n",
       " Delayed('getQTrajectory-63362cd6-1f04-486c-8f1b-996ba1ac2f4f'),\n",
       " Delayed('getQTrajectory-dcbd9492-a782-4b0e-9801-735a0e2b9f49'),\n",
       " Delayed('getQTrajectory-30eff344-341c-4ce2-9e2d-20b082c5c051'),\n",
       " Delayed('getQTrajectory-3300623c-4536-42ae-9c94-e3b4abccfc7f'),\n",
       " Delayed('getQTrajectory-43301cea-6740-481e-8917-ddf72c5ec380'),\n",
       " Delayed('getQTrajectory-521c4feb-3351-4e8c-bbcc-95bef64d6e5d'),\n",
       " Delayed('getQTrajectory-69c64db2-1043-481a-8c8c-107f41e71daf'),\n",
       " Delayed('getQTrajectory-b2d518e8-fd45-4e54-be42-78f74d8cec3e'),\n",
       " Delayed('getQTrajectory-bce9cf34-7dec-4d5c-b427-7872941e696a'),\n",
       " Delayed('getQTrajectory-7dafeb50-4b60-4cbe-b970-b41548178d7c'),\n",
       " Delayed('getQTrajectory-f6fa5f68-43f3-4c07-bf96-551055d2f448'),\n",
       " Delayed('getQTrajectory-659164aa-69a7-4e8c-8a01-ecec6b7af548'),\n",
       " Delayed('getQTrajectory-49c4ffd0-8c7a-47e9-9f27-bbfbc417da0c'),\n",
       " Delayed('getQTrajectory-85ed5a1a-6fdd-4597-8ea2-96e6078bfda9'),\n",
       " Delayed('getQTrajectory-f95d3a53-e388-40e6-afa5-bd75b499491a'),\n",
       " Delayed('getQTrajectory-30db1c1b-30fe-4a13-b166-cdf434b6ddf7'),\n",
       " Delayed('getQTrajectory-087f83d0-0053-4177-8f2b-95589f8d4634'),\n",
       " Delayed('getQTrajectory-6ed4a151-87f0-41c6-99ab-f0aaca0faae8'),\n",
       " Delayed('getQTrajectory-7000b4b2-2f01-4614-83b3-942cee766eb2'),\n",
       " Delayed('getQTrajectory-caf90636-dad8-4928-9ddd-f6530e508ae8'),\n",
       " Delayed('getQTrajectory-c56a3aea-b19c-4cf5-8110-22d84f1aa699'),\n",
       " Delayed('getQTrajectory-969d1b35-6e64-41f5-9287-80df8a4c09a2'),\n",
       " Delayed('getQTrajectory-800b834b-6dc2-443f-b574-ac1eecb3b764'),\n",
       " Delayed('getQTrajectory-5e0bdee5-cef2-4c60-b3a7-df03e7d2c0c6'),\n",
       " Delayed('getQTrajectory-5db56202-059a-48c0-bf41-96d97685f702'),\n",
       " Delayed('getQTrajectory-29aab753-5bbe-487f-88ca-bb070d9d8a26'),\n",
       " Delayed('getQTrajectory-4817b206-518d-4560-8918-f6896346255c'),\n",
       " Delayed('getQTrajectory-49d1324a-6298-46e0-a604-573a0dfdc174'),\n",
       " Delayed('getQTrajectory-5a3b4f51-6db2-4a1c-bd2f-d313b93e0e82'),\n",
       " Delayed('getQTrajectory-de1a4374-a40c-41ef-9ce3-cd181cb762d8'),\n",
       " Delayed('getQTrajectory-87856bea-4f6f-4937-b1dc-d5f38c4d41ba'),\n",
       " Delayed('getQTrajectory-6c5e1c4a-cc3e-4d37-bd52-2dadeb9614d0'),\n",
       " Delayed('getQTrajectory-c29e65ac-a5a3-478e-83ee-0ec118ad523b'),\n",
       " Delayed('getQTrajectory-18d4ef21-9325-4793-8f78-b094cec643a1'),\n",
       " Delayed('getQTrajectory-9ce3cf78-f137-4f9c-bbfd-11d9f1311166'),\n",
       " Delayed('getQTrajectory-97081b2f-cb4a-469e-bd0f-57ad8ebe425c'),\n",
       " Delayed('getQTrajectory-deba6af9-d1ee-40c1-9ea1-2e582628cc5f'),\n",
       " Delayed('getQTrajectory-454fc940-00a2-4b2a-9d80-3282dd7dd556'),\n",
       " Delayed('getQTrajectory-54c8cc94-5cb9-4aaa-b200-13913aeb9833'),\n",
       " Delayed('getQTrajectory-128abace-ba09-4a8e-a1a2-937dd6345d49'),\n",
       " Delayed('getQTrajectory-86ac150d-1cf9-4143-9e37-f87b20e3f749'),\n",
       " Delayed('getQTrajectory-d6d848b1-c6ac-4e0a-8d94-a1166c6c0735'),\n",
       " Delayed('getQTrajectory-0f6ef11b-402e-41eb-82e7-abed1626fc3e'),\n",
       " Delayed('getQTrajectory-d7169f78-5322-476d-807b-21f96a2832b8'),\n",
       " Delayed('getQTrajectory-6ac8450d-3cc9-40a7-8653-71b423c3ad6f'),\n",
       " Delayed('getQTrajectory-181b7c88-7f3a-4469-94f9-c8e18807e232'),\n",
       " Delayed('getQTrajectory-8898f0f7-2e52-4336-b618-5d319eb70b17'),\n",
       " Delayed('getQTrajectory-e32bb0d2-3c86-40b8-931c-22b1741e0d81'),\n",
       " Delayed('getQTrajectory-020d1a60-7a03-43e1-ae4e-bfb37612d3c2'),\n",
       " Delayed('getQTrajectory-db4fa48a-a547-4a74-adfb-3c3fb83e6875'),\n",
       " Delayed('getQTrajectory-0a8b4cac-e4b2-4d5b-8699-e20eabafd8cc'),\n",
       " Delayed('getQTrajectory-c53b95fa-7774-4f23-a100-3caee9db9603'),\n",
       " Delayed('getQTrajectory-838db025-5ecd-4b0e-be00-c44b7e5db75d'),\n",
       " Delayed('getQTrajectory-84dbf8a0-ec52-4008-a210-ff7572542fa8'),\n",
       " Delayed('getQTrajectory-222aabc0-aafd-4290-a007-0ab84d80c4be'),\n",
       " Delayed('getQTrajectory-8e86f1c6-8043-41e1-a97a-6f19e7189644'),\n",
       " Delayed('getQTrajectory-b176214b-4465-4e2e-993c-6725298b128c'),\n",
       " Delayed('getQTrajectory-fdc48fcb-e6ca-43fa-82fd-583348fd6bc0'),\n",
       " Delayed('getQTrajectory-12c3b30a-e739-47d5-98cd-4bd03305f58d'),\n",
       " Delayed('getQTrajectory-dea54a82-5436-48e2-a52f-2faff836fbc4'),\n",
       " Delayed('getQTrajectory-63c2a476-7258-4563-8d30-a07b414a2d05'),\n",
       " Delayed('getQTrajectory-3aaa658d-1adc-4889-a4ee-de76bd886aeb'),\n",
       " Delayed('getQTrajectory-9e248ffe-8c41-40e0-8776-2019c6d0df90'),\n",
       " Delayed('getQTrajectory-3504efb2-b198-4be1-b9ed-8ba51d16b12d'),\n",
       " Delayed('getQTrajectory-33c62ffe-ba71-4041-9e2b-43079ecc0ec3'),\n",
       " Delayed('getQTrajectory-0e0080f8-a9da-4cd0-8dfd-25842c3789ab'),\n",
       " Delayed('getQTrajectory-3b17cbe3-5eed-40da-9cfb-bcf6454d16e2'),\n",
       " ...]"
      ]
     },
     "execution_count": 49,
     "metadata": {},
     "output_type": "execute_result"
    }
   ],
   "source": [
    "delayed_traj = calculate_nuctraj('traj.long',500)\n",
    "delayed_traj"
   ]
  },
  {
   "cell_type": "code",
   "execution_count": 50,
   "metadata": {},
   "outputs": [
    {
     "ename": "KeyboardInterrupt",
     "evalue": "",
     "output_type": "error",
     "traceback": [
      "\u001b[0;31m---------------------------------------------------------------------------\u001b[0m",
      "\u001b[0;31mKeyboardInterrupt\u001b[0m                         Traceback (most recent call last)",
      "\u001b[0;32m<ipython-input-50-ebabf56f3a6e>\u001b[0m in \u001b[0;36m<module>\u001b[0;34m()\u001b[0m\n\u001b[0;32m----> 1\u001b[0;31m \u001b[0mget_ipython\u001b[0m\u001b[0;34m(\u001b[0m\u001b[0;34m)\u001b[0m\u001b[0;34m.\u001b[0m\u001b[0mrun_cell_magic\u001b[0m\u001b[0;34m(\u001b[0m\u001b[0;34mu'timeit'\u001b[0m\u001b[0;34m,\u001b[0m \u001b[0;34mu''\u001b[0m\u001b[0;34m,\u001b[0m \u001b[0;34mu'nucs = []\\nfor i in range(len(delayed_traj)):\\n    nucs.append(delayed_traj[i].compute())'\u001b[0m\u001b[0;34m)\u001b[0m\u001b[0;34m\u001b[0m\u001b[0m\n\u001b[0m",
      "\u001b[0;32m/home/users/menonsqr/anaconda2/lib/python2.7/site-packages/IPython/core/interactiveshell.pyc\u001b[0m in \u001b[0;36mrun_cell_magic\u001b[0;34m(self, magic_name, line, cell)\u001b[0m\n\u001b[1;32m   2115\u001b[0m             \u001b[0mmagic_arg_s\u001b[0m \u001b[0;34m=\u001b[0m \u001b[0mself\u001b[0m\u001b[0;34m.\u001b[0m\u001b[0mvar_expand\u001b[0m\u001b[0;34m(\u001b[0m\u001b[0mline\u001b[0m\u001b[0;34m,\u001b[0m \u001b[0mstack_depth\u001b[0m\u001b[0;34m)\u001b[0m\u001b[0;34m\u001b[0m\u001b[0m\n\u001b[1;32m   2116\u001b[0m             \u001b[0;32mwith\u001b[0m \u001b[0mself\u001b[0m\u001b[0;34m.\u001b[0m\u001b[0mbuiltin_trap\u001b[0m\u001b[0;34m:\u001b[0m\u001b[0;34m\u001b[0m\u001b[0m\n\u001b[0;32m-> 2117\u001b[0;31m                 \u001b[0mresult\u001b[0m \u001b[0;34m=\u001b[0m \u001b[0mfn\u001b[0m\u001b[0;34m(\u001b[0m\u001b[0mmagic_arg_s\u001b[0m\u001b[0;34m,\u001b[0m \u001b[0mcell\u001b[0m\u001b[0;34m)\u001b[0m\u001b[0;34m\u001b[0m\u001b[0m\n\u001b[0m\u001b[1;32m   2118\u001b[0m             \u001b[0;32mreturn\u001b[0m \u001b[0mresult\u001b[0m\u001b[0;34m\u001b[0m\u001b[0m\n\u001b[1;32m   2119\u001b[0m \u001b[0;34m\u001b[0m\u001b[0m\n",
      "\u001b[0;32m<decorator-gen-59>\u001b[0m in \u001b[0;36mtimeit\u001b[0;34m(self, line, cell)\u001b[0m\n",
      "\u001b[0;32m/home/users/menonsqr/anaconda2/lib/python2.7/site-packages/IPython/core/magic.pyc\u001b[0m in \u001b[0;36m<lambda>\u001b[0;34m(f, *a, **k)\u001b[0m\n\u001b[1;32m    186\u001b[0m     \u001b[0;31m# but it's overkill for just that one bit of state.\u001b[0m\u001b[0;34m\u001b[0m\u001b[0;34m\u001b[0m\u001b[0m\n\u001b[1;32m    187\u001b[0m     \u001b[0;32mdef\u001b[0m \u001b[0mmagic_deco\u001b[0m\u001b[0;34m(\u001b[0m\u001b[0marg\u001b[0m\u001b[0;34m)\u001b[0m\u001b[0;34m:\u001b[0m\u001b[0;34m\u001b[0m\u001b[0m\n\u001b[0;32m--> 188\u001b[0;31m         \u001b[0mcall\u001b[0m \u001b[0;34m=\u001b[0m \u001b[0;32mlambda\u001b[0m \u001b[0mf\u001b[0m\u001b[0;34m,\u001b[0m \u001b[0;34m*\u001b[0m\u001b[0ma\u001b[0m\u001b[0;34m,\u001b[0m \u001b[0;34m**\u001b[0m\u001b[0mk\u001b[0m\u001b[0;34m:\u001b[0m \u001b[0mf\u001b[0m\u001b[0;34m(\u001b[0m\u001b[0;34m*\u001b[0m\u001b[0ma\u001b[0m\u001b[0;34m,\u001b[0m \u001b[0;34m**\u001b[0m\u001b[0mk\u001b[0m\u001b[0;34m)\u001b[0m\u001b[0;34m\u001b[0m\u001b[0m\n\u001b[0m\u001b[1;32m    189\u001b[0m \u001b[0;34m\u001b[0m\u001b[0m\n\u001b[1;32m    190\u001b[0m         \u001b[0;32mif\u001b[0m \u001b[0mcallable\u001b[0m\u001b[0;34m(\u001b[0m\u001b[0marg\u001b[0m\u001b[0;34m)\u001b[0m\u001b[0;34m:\u001b[0m\u001b[0;34m\u001b[0m\u001b[0m\n",
      "\u001b[0;32m/home/users/menonsqr/anaconda2/lib/python2.7/site-packages/IPython/core/magics/execution.pyc\u001b[0m in \u001b[0;36mtimeit\u001b[0;34m(self, line, cell)\u001b[0m\n\u001b[1;32m   1055\u001b[0m             \u001b[0mnumber\u001b[0m \u001b[0;34m=\u001b[0m \u001b[0;36m1\u001b[0m\u001b[0;34m\u001b[0m\u001b[0m\n\u001b[1;32m   1056\u001b[0m             \u001b[0;32mfor\u001b[0m \u001b[0m_\u001b[0m \u001b[0;32min\u001b[0m \u001b[0mrange\u001b[0m\u001b[0;34m(\u001b[0m\u001b[0;36m1\u001b[0m\u001b[0;34m,\u001b[0m \u001b[0;36m10\u001b[0m\u001b[0;34m)\u001b[0m\u001b[0;34m:\u001b[0m\u001b[0;34m\u001b[0m\u001b[0m\n\u001b[0;32m-> 1057\u001b[0;31m                 \u001b[0mtime_number\u001b[0m \u001b[0;34m=\u001b[0m \u001b[0mtimer\u001b[0m\u001b[0;34m.\u001b[0m\u001b[0mtimeit\u001b[0m\u001b[0;34m(\u001b[0m\u001b[0mnumber\u001b[0m\u001b[0;34m)\u001b[0m\u001b[0;34m\u001b[0m\u001b[0m\n\u001b[0m\u001b[1;32m   1058\u001b[0m                 \u001b[0mworst_tuning\u001b[0m \u001b[0;34m=\u001b[0m \u001b[0mmax\u001b[0m\u001b[0;34m(\u001b[0m\u001b[0mworst_tuning\u001b[0m\u001b[0;34m,\u001b[0m \u001b[0mtime_number\u001b[0m \u001b[0;34m/\u001b[0m \u001b[0mnumber\u001b[0m\u001b[0;34m)\u001b[0m\u001b[0;34m\u001b[0m\u001b[0m\n\u001b[1;32m   1059\u001b[0m                 \u001b[0;32mif\u001b[0m \u001b[0mtime_number\u001b[0m \u001b[0;34m>=\u001b[0m \u001b[0;36m0.2\u001b[0m\u001b[0;34m:\u001b[0m\u001b[0;34m\u001b[0m\u001b[0m\n",
      "\u001b[0;32m/home/users/menonsqr/anaconda2/lib/python2.7/site-packages/IPython/core/magics/execution.pyc\u001b[0m in \u001b[0;36mtimeit\u001b[0;34m(self, number)\u001b[0m\n\u001b[1;32m    137\u001b[0m         \u001b[0mgc\u001b[0m\u001b[0;34m.\u001b[0m\u001b[0mdisable\u001b[0m\u001b[0;34m(\u001b[0m\u001b[0;34m)\u001b[0m\u001b[0;34m\u001b[0m\u001b[0m\n\u001b[1;32m    138\u001b[0m         \u001b[0;32mtry\u001b[0m\u001b[0;34m:\u001b[0m\u001b[0;34m\u001b[0m\u001b[0m\n\u001b[0;32m--> 139\u001b[0;31m             \u001b[0mtiming\u001b[0m \u001b[0;34m=\u001b[0m \u001b[0mself\u001b[0m\u001b[0;34m.\u001b[0m\u001b[0minner\u001b[0m\u001b[0;34m(\u001b[0m\u001b[0mit\u001b[0m\u001b[0;34m,\u001b[0m \u001b[0mself\u001b[0m\u001b[0;34m.\u001b[0m\u001b[0mtimer\u001b[0m\u001b[0;34m)\u001b[0m\u001b[0;34m\u001b[0m\u001b[0m\n\u001b[0m\u001b[1;32m    140\u001b[0m         \u001b[0;32mfinally\u001b[0m\u001b[0;34m:\u001b[0m\u001b[0;34m\u001b[0m\u001b[0m\n\u001b[1;32m    141\u001b[0m             \u001b[0;32mif\u001b[0m \u001b[0mgcold\u001b[0m\u001b[0;34m:\u001b[0m\u001b[0;34m\u001b[0m\u001b[0m\n",
      "\u001b[0;32m<magic-timeit>\u001b[0m in \u001b[0;36minner\u001b[0;34m(_it, _timer)\u001b[0m\n",
      "\u001b[0;32m/home/users/menonsqr/anaconda2/lib/python2.7/site-packages/dask/base.pyc\u001b[0m in \u001b[0;36mcompute\u001b[0;34m(self, **kwargs)\u001b[0m\n\u001b[1;32m    154\u001b[0m         \u001b[0mdask\u001b[0m\u001b[0;34m.\u001b[0m\u001b[0mbase\u001b[0m\u001b[0;34m.\u001b[0m\u001b[0mcompute\u001b[0m\u001b[0;34m\u001b[0m\u001b[0m\n\u001b[1;32m    155\u001b[0m         \"\"\"\n\u001b[0;32m--> 156\u001b[0;31m         \u001b[0;34m(\u001b[0m\u001b[0mresult\u001b[0m\u001b[0;34m,\u001b[0m\u001b[0;34m)\u001b[0m \u001b[0;34m=\u001b[0m \u001b[0mcompute\u001b[0m\u001b[0;34m(\u001b[0m\u001b[0mself\u001b[0m\u001b[0;34m,\u001b[0m \u001b[0mtraverse\u001b[0m\u001b[0;34m=\u001b[0m\u001b[0mFalse\u001b[0m\u001b[0;34m,\u001b[0m \u001b[0;34m**\u001b[0m\u001b[0mkwargs\u001b[0m\u001b[0;34m)\u001b[0m\u001b[0;34m\u001b[0m\u001b[0m\n\u001b[0m\u001b[1;32m    157\u001b[0m         \u001b[0;32mreturn\u001b[0m \u001b[0mresult\u001b[0m\u001b[0;34m\u001b[0m\u001b[0m\n\u001b[1;32m    158\u001b[0m \u001b[0;34m\u001b[0m\u001b[0m\n",
      "\u001b[0;32m/home/users/menonsqr/anaconda2/lib/python2.7/site-packages/dask/base.pyc\u001b[0m in \u001b[0;36mcompute\u001b[0;34m(*args, **kwargs)\u001b[0m\n\u001b[1;32m    400\u001b[0m     \u001b[0mkeys\u001b[0m \u001b[0;34m=\u001b[0m \u001b[0;34m[\u001b[0m\u001b[0mx\u001b[0m\u001b[0;34m.\u001b[0m\u001b[0m__dask_keys__\u001b[0m\u001b[0;34m(\u001b[0m\u001b[0;34m)\u001b[0m \u001b[0;32mfor\u001b[0m \u001b[0mx\u001b[0m \u001b[0;32min\u001b[0m \u001b[0mcollections\u001b[0m\u001b[0;34m]\u001b[0m\u001b[0;34m\u001b[0m\u001b[0m\n\u001b[1;32m    401\u001b[0m     \u001b[0mpostcomputes\u001b[0m \u001b[0;34m=\u001b[0m \u001b[0;34m[\u001b[0m\u001b[0mx\u001b[0m\u001b[0;34m.\u001b[0m\u001b[0m__dask_postcompute__\u001b[0m\u001b[0;34m(\u001b[0m\u001b[0;34m)\u001b[0m \u001b[0;32mfor\u001b[0m \u001b[0mx\u001b[0m \u001b[0;32min\u001b[0m \u001b[0mcollections\u001b[0m\u001b[0;34m]\u001b[0m\u001b[0;34m\u001b[0m\u001b[0m\n\u001b[0;32m--> 402\u001b[0;31m     \u001b[0mresults\u001b[0m \u001b[0;34m=\u001b[0m \u001b[0mschedule\u001b[0m\u001b[0;34m(\u001b[0m\u001b[0mdsk\u001b[0m\u001b[0;34m,\u001b[0m \u001b[0mkeys\u001b[0m\u001b[0;34m,\u001b[0m \u001b[0;34m**\u001b[0m\u001b[0mkwargs\u001b[0m\u001b[0;34m)\u001b[0m\u001b[0;34m\u001b[0m\u001b[0m\n\u001b[0m\u001b[1;32m    403\u001b[0m     \u001b[0;32mreturn\u001b[0m \u001b[0mrepack\u001b[0m\u001b[0;34m(\u001b[0m\u001b[0;34m[\u001b[0m\u001b[0mf\u001b[0m\u001b[0;34m(\u001b[0m\u001b[0mr\u001b[0m\u001b[0;34m,\u001b[0m \u001b[0;34m*\u001b[0m\u001b[0ma\u001b[0m\u001b[0;34m)\u001b[0m \u001b[0;32mfor\u001b[0m \u001b[0mr\u001b[0m\u001b[0;34m,\u001b[0m \u001b[0;34m(\u001b[0m\u001b[0mf\u001b[0m\u001b[0;34m,\u001b[0m \u001b[0ma\u001b[0m\u001b[0;34m)\u001b[0m \u001b[0;32min\u001b[0m \u001b[0mzip\u001b[0m\u001b[0;34m(\u001b[0m\u001b[0mresults\u001b[0m\u001b[0;34m,\u001b[0m \u001b[0mpostcomputes\u001b[0m\u001b[0;34m)\u001b[0m\u001b[0;34m]\u001b[0m\u001b[0;34m)\u001b[0m\u001b[0;34m\u001b[0m\u001b[0m\n\u001b[1;32m    404\u001b[0m \u001b[0;34m\u001b[0m\u001b[0m\n",
      "\u001b[0;32m/home/users/menonsqr/anaconda2/lib/python2.7/site-packages/distributed/client.pyc\u001b[0m in \u001b[0;36mget\u001b[0;34m(self, dsk, keys, restrictions, loose_restrictions, resources, sync, asynchronous, direct, retries, priority, fifo_timeout, **kwargs)\u001b[0m\n\u001b[1;32m   2191\u001b[0m             \u001b[0;32mtry\u001b[0m\u001b[0;34m:\u001b[0m\u001b[0;34m\u001b[0m\u001b[0m\n\u001b[1;32m   2192\u001b[0m                 results = self.gather(packed, asynchronous=asynchronous,\n\u001b[0;32m-> 2193\u001b[0;31m                                       direct=direct)\n\u001b[0m\u001b[1;32m   2194\u001b[0m             \u001b[0;32mfinally\u001b[0m\u001b[0;34m:\u001b[0m\u001b[0;34m\u001b[0m\u001b[0m\n\u001b[1;32m   2195\u001b[0m                 \u001b[0;32mfor\u001b[0m \u001b[0mf\u001b[0m \u001b[0;32min\u001b[0m \u001b[0mfutures\u001b[0m\u001b[0;34m.\u001b[0m\u001b[0mvalues\u001b[0m\u001b[0;34m(\u001b[0m\u001b[0;34m)\u001b[0m\u001b[0;34m:\u001b[0m\u001b[0;34m\u001b[0m\u001b[0m\n",
      "\u001b[0;32m/home/users/menonsqr/anaconda2/lib/python2.7/site-packages/distributed/client.pyc\u001b[0m in \u001b[0;36mgather\u001b[0;34m(self, futures, errors, maxsize, direct, asynchronous)\u001b[0m\n\u001b[1;32m   1566\u001b[0m             return self.sync(self._gather, futures, errors=errors,\n\u001b[1;32m   1567\u001b[0m                              \u001b[0mdirect\u001b[0m\u001b[0;34m=\u001b[0m\u001b[0mdirect\u001b[0m\u001b[0;34m,\u001b[0m \u001b[0mlocal_worker\u001b[0m\u001b[0;34m=\u001b[0m\u001b[0mlocal_worker\u001b[0m\u001b[0;34m,\u001b[0m\u001b[0;34m\u001b[0m\u001b[0m\n\u001b[0;32m-> 1568\u001b[0;31m                              asynchronous=asynchronous)\n\u001b[0m\u001b[1;32m   1569\u001b[0m \u001b[0;34m\u001b[0m\u001b[0m\n\u001b[1;32m   1570\u001b[0m     \u001b[0;34m@\u001b[0m\u001b[0mgen\u001b[0m\u001b[0;34m.\u001b[0m\u001b[0mcoroutine\u001b[0m\u001b[0;34m\u001b[0m\u001b[0m\n",
      "\u001b[0;32m/home/users/menonsqr/anaconda2/lib/python2.7/site-packages/distributed/client.pyc\u001b[0m in \u001b[0;36msync\u001b[0;34m(self, func, *args, **kwargs)\u001b[0m\n\u001b[1;32m    651\u001b[0m             \u001b[0;32mreturn\u001b[0m \u001b[0mfuture\u001b[0m\u001b[0;34m\u001b[0m\u001b[0m\n\u001b[1;32m    652\u001b[0m         \u001b[0;32melse\u001b[0m\u001b[0;34m:\u001b[0m\u001b[0;34m\u001b[0m\u001b[0m\n\u001b[0;32m--> 653\u001b[0;31m             \u001b[0;32mreturn\u001b[0m \u001b[0msync\u001b[0m\u001b[0;34m(\u001b[0m\u001b[0mself\u001b[0m\u001b[0;34m.\u001b[0m\u001b[0mloop\u001b[0m\u001b[0;34m,\u001b[0m \u001b[0mfunc\u001b[0m\u001b[0;34m,\u001b[0m \u001b[0;34m*\u001b[0m\u001b[0margs\u001b[0m\u001b[0;34m,\u001b[0m \u001b[0;34m**\u001b[0m\u001b[0mkwargs\u001b[0m\u001b[0;34m)\u001b[0m\u001b[0;34m\u001b[0m\u001b[0m\n\u001b[0m\u001b[1;32m    654\u001b[0m \u001b[0;34m\u001b[0m\u001b[0m\n\u001b[1;32m    655\u001b[0m     \u001b[0;32mdef\u001b[0m \u001b[0m__repr__\u001b[0m\u001b[0;34m(\u001b[0m\u001b[0mself\u001b[0m\u001b[0;34m)\u001b[0m\u001b[0;34m:\u001b[0m\u001b[0;34m\u001b[0m\u001b[0m\n",
      "\u001b[0;32m/home/users/menonsqr/anaconda2/lib/python2.7/site-packages/distributed/utils.pyc\u001b[0m in \u001b[0;36msync\u001b[0;34m(loop, func, *args, **kwargs)\u001b[0m\n\u001b[1;32m    273\u001b[0m     \u001b[0;32melse\u001b[0m\u001b[0;34m:\u001b[0m\u001b[0;34m\u001b[0m\u001b[0m\n\u001b[1;32m    274\u001b[0m         \u001b[0;32mwhile\u001b[0m \u001b[0;32mnot\u001b[0m \u001b[0me\u001b[0m\u001b[0;34m.\u001b[0m\u001b[0mis_set\u001b[0m\u001b[0;34m(\u001b[0m\u001b[0;34m)\u001b[0m\u001b[0;34m:\u001b[0m\u001b[0;34m\u001b[0m\u001b[0m\n\u001b[0;32m--> 275\u001b[0;31m             \u001b[0me\u001b[0m\u001b[0;34m.\u001b[0m\u001b[0mwait\u001b[0m\u001b[0;34m(\u001b[0m\u001b[0;36m10\u001b[0m\u001b[0;34m)\u001b[0m\u001b[0;34m\u001b[0m\u001b[0m\n\u001b[0m\u001b[1;32m    276\u001b[0m     \u001b[0;32mif\u001b[0m \u001b[0merror\u001b[0m\u001b[0;34m[\u001b[0m\u001b[0;36m0\u001b[0m\u001b[0;34m]\u001b[0m\u001b[0;34m:\u001b[0m\u001b[0;34m\u001b[0m\u001b[0m\n\u001b[1;32m    277\u001b[0m         \u001b[0msix\u001b[0m\u001b[0;34m.\u001b[0m\u001b[0mreraise\u001b[0m\u001b[0;34m(\u001b[0m\u001b[0;34m*\u001b[0m\u001b[0merror\u001b[0m\u001b[0;34m[\u001b[0m\u001b[0;36m0\u001b[0m\u001b[0;34m]\u001b[0m\u001b[0;34m)\u001b[0m\u001b[0;34m\u001b[0m\u001b[0m\n",
      "\u001b[0;32m/home/users/menonsqr/anaconda2/lib/python2.7/threading.pyc\u001b[0m in \u001b[0;36mwait\u001b[0;34m(self, timeout)\u001b[0m\n\u001b[1;32m    612\u001b[0m         \u001b[0;32mwith\u001b[0m \u001b[0mself\u001b[0m\u001b[0;34m.\u001b[0m\u001b[0m__cond\u001b[0m\u001b[0;34m:\u001b[0m\u001b[0;34m\u001b[0m\u001b[0m\n\u001b[1;32m    613\u001b[0m             \u001b[0;32mif\u001b[0m \u001b[0;32mnot\u001b[0m \u001b[0mself\u001b[0m\u001b[0;34m.\u001b[0m\u001b[0m__flag\u001b[0m\u001b[0;34m:\u001b[0m\u001b[0;34m\u001b[0m\u001b[0m\n\u001b[0;32m--> 614\u001b[0;31m                 \u001b[0mself\u001b[0m\u001b[0;34m.\u001b[0m\u001b[0m__cond\u001b[0m\u001b[0;34m.\u001b[0m\u001b[0mwait\u001b[0m\u001b[0;34m(\u001b[0m\u001b[0mtimeout\u001b[0m\u001b[0;34m)\u001b[0m\u001b[0;34m\u001b[0m\u001b[0m\n\u001b[0m\u001b[1;32m    615\u001b[0m             \u001b[0;32mreturn\u001b[0m \u001b[0mself\u001b[0m\u001b[0;34m.\u001b[0m\u001b[0m__flag\u001b[0m\u001b[0;34m\u001b[0m\u001b[0m\n\u001b[1;32m    616\u001b[0m \u001b[0;34m\u001b[0m\u001b[0m\n",
      "\u001b[0;32m/home/users/menonsqr/anaconda2/lib/python2.7/threading.pyc\u001b[0m in \u001b[0;36mwait\u001b[0;34m(self, timeout)\u001b[0m\n\u001b[1;32m    357\u001b[0m                         \u001b[0;32mbreak\u001b[0m\u001b[0;34m\u001b[0m\u001b[0m\n\u001b[1;32m    358\u001b[0m                     \u001b[0mdelay\u001b[0m \u001b[0;34m=\u001b[0m \u001b[0mmin\u001b[0m\u001b[0;34m(\u001b[0m\u001b[0mdelay\u001b[0m \u001b[0;34m*\u001b[0m \u001b[0;36m2\u001b[0m\u001b[0;34m,\u001b[0m \u001b[0mremaining\u001b[0m\u001b[0;34m,\u001b[0m \u001b[0;36m.05\u001b[0m\u001b[0;34m)\u001b[0m\u001b[0;34m\u001b[0m\u001b[0m\n\u001b[0;32m--> 359\u001b[0;31m                     \u001b[0m_sleep\u001b[0m\u001b[0;34m(\u001b[0m\u001b[0mdelay\u001b[0m\u001b[0;34m)\u001b[0m\u001b[0;34m\u001b[0m\u001b[0m\n\u001b[0m\u001b[1;32m    360\u001b[0m                 \u001b[0;32mif\u001b[0m \u001b[0;32mnot\u001b[0m \u001b[0mgotit\u001b[0m\u001b[0;34m:\u001b[0m\u001b[0;34m\u001b[0m\u001b[0m\n\u001b[1;32m    361\u001b[0m                     \u001b[0;32mif\u001b[0m \u001b[0m__debug__\u001b[0m\u001b[0;34m:\u001b[0m\u001b[0;34m\u001b[0m\u001b[0m\n",
      "\u001b[0;31mKeyboardInterrupt\u001b[0m: "
     ]
    },
    {
     "name": "stderr",
     "output_type": "stream",
     "text": [
      "distributed.nanny - WARNING - Restarting worker\n",
      "distributed.nanny - WARNING - Restarting worker\n",
      "distributed.nanny - WARNING - Restarting worker\n",
      "distributed.nanny - WARNING - Restarting worker\n",
      "distributed.nanny - WARNING - Restarting worker\n",
      "distributed.nanny - WARNING - Restarting worker\n",
      "distributed.nanny - WARNING - Restarting worker\n",
      "distributed.nanny - WARNING - Restarting worker\n"
     ]
    }
   ],
   "source": [
    "%%timeit\n",
    "nucs = []\n",
    "for i in range(len(delayed_traj)):\n",
    "    nucs.append(delayed_traj[i].compute())"
   ]
  },
  {
   "cell_type": "markdown",
   "metadata": {},
   "source": [
    "Now comparing agaon for traj 1 with the dask implementation-"
   ]
  },
  {
   "cell_type": "code",
   "execution_count": 21,
   "metadata": {},
   "outputs": [
    {
     "data": {
      "text/plain": [
       "<matplotlib.text.Text at 0x7f4ae0661050>"
      ]
     },
     "execution_count": 21,
     "metadata": {},
     "output_type": "execute_result"
    },
    {
     "data": {
      "image/png": "[encoded data removed]",
      "text/plain": [
       "<matplotlib.figure.Figure at 0x7f4ae5cf4a50>"
      ]
     },
     "metadata": {},
     "output_type": "display_data"
    }
   ],
   "source": [
    "objects = ('code 1', 'code 2', 'code 3', 'code 4', 'code 5', 'Dask-serial')\n",
    "y_pos = np.arange(len(objects))\n",
    "performance = [629,548,575,559,600,253]\n",
    " \n",
    "plt.bar(y_pos, performance, align='center', alpha=0.5,color='#880E4F')\n",
    "plt.xticks(y_pos, objects)\n",
    "plt.ylabel('Time (ms)')\n",
    "plt.title('Performance for traj 1')"
   ]
  },
  {
   "cell_type": "markdown",
   "metadata": {},
   "source": [
    "### Dask clusters"
   ]
  },
  {
   "cell_type": "markdown",
   "metadata": {},
   "source": [
    "Dask can set up clusters for easy parallel calculations. There can be local clusters or clusters for various queuing systems like SUNGRID, SLURRM etc."
   ]
  },
  {
   "cell_type": "code",
   "execution_count": 51,
   "metadata": {},
   "outputs": [
    {
     "name": "stderr",
     "output_type": "stream",
     "text": [
      "distributed.nanny - WARNING - Worker process still alive after 47 seconds, killing\n",
      "distributed.nanny - WARNING - Worker process 8003 was killed by signal 15\n"
     ]
    },
    {
     "ename": "TimeoutError",
     "evalue": "Worker failed to start",
     "output_type": "error",
     "traceback": [
      "\u001b[0;31m---------------------------------------------------------------------------\u001b[0m",
      "\u001b[0;31mTimeoutError\u001b[0m                              Traceback (most recent call last)",
      "\u001b[0;32m<ipython-input-51-326562389c37>\u001b[0m in \u001b[0;36m<module>\u001b[0;34m()\u001b[0m\n\u001b[1;32m      1\u001b[0m \u001b[0;32mfrom\u001b[0m \u001b[0mdistributed\u001b[0m \u001b[0;32mimport\u001b[0m \u001b[0mClient\u001b[0m\u001b[0;34m,\u001b[0m \u001b[0mLocalCluster\u001b[0m\u001b[0;34m\u001b[0m\u001b[0m\n\u001b[1;32m      2\u001b[0m \u001b[0;34m\u001b[0m\u001b[0m\n\u001b[0;32m----> 3\u001b[0;31m \u001b[0mcluster\u001b[0m \u001b[0;34m=\u001b[0m \u001b[0mLocalCluster\u001b[0m\u001b[0;34m(\u001b[0m\u001b[0;34m)\u001b[0m\u001b[0;34m\u001b[0m\u001b[0m\n\u001b[0m\u001b[1;32m      4\u001b[0m \u001b[0mclient\u001b[0m \u001b[0;34m=\u001b[0m \u001b[0mClient\u001b[0m\u001b[0;34m(\u001b[0m\u001b[0mcluster\u001b[0m\u001b[0;34m)\u001b[0m\u001b[0;34m\u001b[0m\u001b[0m\n\u001b[1;32m      5\u001b[0m \u001b[0mclient\u001b[0m\u001b[0;34m\u001b[0m\u001b[0m\n",
      "\u001b[0;32m/home/users/menonsqr/anaconda2/lib/python2.7/site-packages/distributed/deploy/local.pyc\u001b[0m in \u001b[0;36m__init__\u001b[0;34m(self, n_workers, threads_per_worker, processes, loop, start, ip, scheduler_port, silence_logs, diagnostics_port, services, worker_services, service_kwargs, asynchronous, security, **worker_kwargs)\u001b[0m\n\u001b[1;32m    137\u001b[0m             \u001b[0mself\u001b[0m\u001b[0;34m.\u001b[0m\u001b[0mworker_kwargs\u001b[0m\u001b[0;34m[\u001b[0m\u001b[0;34m'security'\u001b[0m\u001b[0;34m]\u001b[0m \u001b[0;34m=\u001b[0m \u001b[0msecurity\u001b[0m\u001b[0;34m\u001b[0m\u001b[0m\n\u001b[1;32m    138\u001b[0m \u001b[0;34m\u001b[0m\u001b[0m\n\u001b[0;32m--> 139\u001b[0;31m         \u001b[0mself\u001b[0m\u001b[0;34m.\u001b[0m\u001b[0mstart\u001b[0m\u001b[0;34m(\u001b[0m\u001b[0mip\u001b[0m\u001b[0;34m=\u001b[0m\u001b[0mip\u001b[0m\u001b[0;34m,\u001b[0m \u001b[0mn_workers\u001b[0m\u001b[0;34m=\u001b[0m\u001b[0mn_workers\u001b[0m\u001b[0;34m)\u001b[0m\u001b[0;34m\u001b[0m\u001b[0m\n\u001b[0m\u001b[1;32m    140\u001b[0m \u001b[0;34m\u001b[0m\u001b[0m\n\u001b[1;32m    141\u001b[0m         \u001b[0mclusters_to_close\u001b[0m\u001b[0;34m.\u001b[0m\u001b[0madd\u001b[0m\u001b[0;34m(\u001b[0m\u001b[0mself\u001b[0m\u001b[0;34m)\u001b[0m\u001b[0;34m\u001b[0m\u001b[0m\n",
      "\u001b[0;32m/home/users/menonsqr/anaconda2/lib/python2.7/site-packages/distributed/deploy/local.pyc\u001b[0m in \u001b[0;36mstart\u001b[0;34m(self, **kwargs)\u001b[0m\n\u001b[1;32m    167\u001b[0m             \u001b[0mself\u001b[0m\u001b[0;34m.\u001b[0m\u001b[0m_started\u001b[0m \u001b[0;34m=\u001b[0m \u001b[0mself\u001b[0m\u001b[0;34m.\u001b[0m\u001b[0m_start\u001b[0m\u001b[0;34m(\u001b[0m\u001b[0;34m**\u001b[0m\u001b[0mkwargs\u001b[0m\u001b[0;34m)\u001b[0m\u001b[0;34m\u001b[0m\u001b[0m\n\u001b[1;32m    168\u001b[0m         \u001b[0;32melse\u001b[0m\u001b[0;34m:\u001b[0m\u001b[0;34m\u001b[0m\u001b[0m\n\u001b[0;32m--> 169\u001b[0;31m             \u001b[0mself\u001b[0m\u001b[0;34m.\u001b[0m\u001b[0msync\u001b[0m\u001b[0;34m(\u001b[0m\u001b[0mself\u001b[0m\u001b[0;34m.\u001b[0m\u001b[0m_start\u001b[0m\u001b[0;34m,\u001b[0m \u001b[0;34m**\u001b[0m\u001b[0mkwargs\u001b[0m\u001b[0;34m)\u001b[0m\u001b[0;34m\u001b[0m\u001b[0m\n\u001b[0m\u001b[1;32m    170\u001b[0m \u001b[0;34m\u001b[0m\u001b[0m\n\u001b[1;32m    171\u001b[0m     \u001b[0;34m@\u001b[0m\u001b[0mgen\u001b[0m\u001b[0;34m.\u001b[0m\u001b[0mcoroutine\u001b[0m\u001b[0;34m\u001b[0m\u001b[0m\n",
      "\u001b[0;32m/home/users/menonsqr/anaconda2/lib/python2.7/site-packages/distributed/deploy/local.pyc\u001b[0m in \u001b[0;36msync\u001b[0;34m(self, func, *args, **kwargs)\u001b[0m\n\u001b[1;32m    160\u001b[0m             \u001b[0;32mreturn\u001b[0m \u001b[0mfuture\u001b[0m\u001b[0;34m\u001b[0m\u001b[0m\n\u001b[1;32m    161\u001b[0m         \u001b[0;32melse\u001b[0m\u001b[0;34m:\u001b[0m\u001b[0;34m\u001b[0m\u001b[0m\n\u001b[0;32m--> 162\u001b[0;31m             \u001b[0;32mreturn\u001b[0m \u001b[0msync\u001b[0m\u001b[0;34m(\u001b[0m\u001b[0mself\u001b[0m\u001b[0;34m.\u001b[0m\u001b[0mloop\u001b[0m\u001b[0;34m,\u001b[0m \u001b[0mfunc\u001b[0m\u001b[0;34m,\u001b[0m \u001b[0;34m*\u001b[0m\u001b[0margs\u001b[0m\u001b[0;34m,\u001b[0m \u001b[0;34m**\u001b[0m\u001b[0mkwargs\u001b[0m\u001b[0;34m)\u001b[0m\u001b[0;34m\u001b[0m\u001b[0m\n\u001b[0m\u001b[1;32m    163\u001b[0m \u001b[0;34m\u001b[0m\u001b[0m\n\u001b[1;32m    164\u001b[0m     \u001b[0;32mdef\u001b[0m \u001b[0mstart\u001b[0m\u001b[0;34m(\u001b[0m\u001b[0mself\u001b[0m\u001b[0;34m,\u001b[0m \u001b[0;34m**\u001b[0m\u001b[0mkwargs\u001b[0m\u001b[0;34m)\u001b[0m\u001b[0;34m:\u001b[0m\u001b[0;34m\u001b[0m\u001b[0m\n",
      "\u001b[0;32m/home/users/menonsqr/anaconda2/lib/python2.7/site-packages/distributed/utils.pyc\u001b[0m in \u001b[0;36msync\u001b[0;34m(loop, func, *args, **kwargs)\u001b[0m\n\u001b[1;32m    275\u001b[0m             \u001b[0me\u001b[0m\u001b[0;34m.\u001b[0m\u001b[0mwait\u001b[0m\u001b[0;34m(\u001b[0m\u001b[0;36m10\u001b[0m\u001b[0;34m)\u001b[0m\u001b[0;34m\u001b[0m\u001b[0m\n\u001b[1;32m    276\u001b[0m     \u001b[0;32mif\u001b[0m \u001b[0merror\u001b[0m\u001b[0;34m[\u001b[0m\u001b[0;36m0\u001b[0m\u001b[0;34m]\u001b[0m\u001b[0;34m:\u001b[0m\u001b[0;34m\u001b[0m\u001b[0m\n\u001b[0;32m--> 277\u001b[0;31m         \u001b[0msix\u001b[0m\u001b[0;34m.\u001b[0m\u001b[0mreraise\u001b[0m\u001b[0;34m(\u001b[0m\u001b[0;34m*\u001b[0m\u001b[0merror\u001b[0m\u001b[0;34m[\u001b[0m\u001b[0;36m0\u001b[0m\u001b[0;34m]\u001b[0m\u001b[0;34m)\u001b[0m\u001b[0;34m\u001b[0m\u001b[0m\n\u001b[0m\u001b[1;32m    278\u001b[0m     \u001b[0;32melse\u001b[0m\u001b[0;34m:\u001b[0m\u001b[0;34m\u001b[0m\u001b[0m\n\u001b[1;32m    279\u001b[0m         \u001b[0;32mreturn\u001b[0m \u001b[0mresult\u001b[0m\u001b[0;34m[\u001b[0m\u001b[0;36m0\u001b[0m\u001b[0;34m]\u001b[0m\u001b[0;34m\u001b[0m\u001b[0m\n",
      "\u001b[0;32m/home/users/menonsqr/anaconda2/lib/python2.7/site-packages/distributed/utils.pyc\u001b[0m in \u001b[0;36mf\u001b[0;34m()\u001b[0m\n\u001b[1;32m    260\u001b[0m             \u001b[0;32mif\u001b[0m \u001b[0mtimeout\u001b[0m \u001b[0;32mis\u001b[0m \u001b[0;32mnot\u001b[0m \u001b[0mNone\u001b[0m\u001b[0;34m:\u001b[0m\u001b[0;34m\u001b[0m\u001b[0m\n\u001b[1;32m    261\u001b[0m                 \u001b[0mfuture\u001b[0m \u001b[0;34m=\u001b[0m \u001b[0mgen\u001b[0m\u001b[0;34m.\u001b[0m\u001b[0mwith_timeout\u001b[0m\u001b[0;34m(\u001b[0m\u001b[0mtimedelta\u001b[0m\u001b[0;34m(\u001b[0m\u001b[0mseconds\u001b[0m\u001b[0;34m=\u001b[0m\u001b[0mtimeout\u001b[0m\u001b[0;34m)\u001b[0m\u001b[0;34m,\u001b[0m \u001b[0mfuture\u001b[0m\u001b[0;34m)\u001b[0m\u001b[0;34m\u001b[0m\u001b[0m\n\u001b[0;32m--> 262\u001b[0;31m             \u001b[0mresult\u001b[0m\u001b[0;34m[\u001b[0m\u001b[0;36m0\u001b[0m\u001b[0;34m]\u001b[0m \u001b[0;34m=\u001b[0m \u001b[0;32myield\u001b[0m \u001b[0mfuture\u001b[0m\u001b[0;34m\u001b[0m\u001b[0m\n\u001b[0m\u001b[1;32m    263\u001b[0m         \u001b[0;32mexcept\u001b[0m \u001b[0mException\u001b[0m \u001b[0;32mas\u001b[0m \u001b[0mexc\u001b[0m\u001b[0;34m:\u001b[0m\u001b[0;34m\u001b[0m\u001b[0m\n\u001b[1;32m    264\u001b[0m             \u001b[0merror\u001b[0m\u001b[0;34m[\u001b[0m\u001b[0;36m0\u001b[0m\u001b[0;34m]\u001b[0m \u001b[0;34m=\u001b[0m \u001b[0msys\u001b[0m\u001b[0;34m.\u001b[0m\u001b[0mexc_info\u001b[0m\u001b[0;34m(\u001b[0m\u001b[0;34m)\u001b[0m\u001b[0;34m\u001b[0m\u001b[0m\n",
      "\u001b[0;32m/home/users/menonsqr/anaconda2/lib/python2.7/site-packages/tornado/gen.pyc\u001b[0m in \u001b[0;36mrun\u001b[0;34m(self)\u001b[0m\n\u001b[1;32m   1131\u001b[0m \u001b[0;34m\u001b[0m\u001b[0m\n\u001b[1;32m   1132\u001b[0m                     \u001b[0;32mtry\u001b[0m\u001b[0;34m:\u001b[0m\u001b[0;34m\u001b[0m\u001b[0m\n\u001b[0;32m-> 1133\u001b[0;31m                         \u001b[0mvalue\u001b[0m \u001b[0;34m=\u001b[0m \u001b[0mfuture\u001b[0m\u001b[0;34m.\u001b[0m\u001b[0mresult\u001b[0m\u001b[0;34m(\u001b[0m\u001b[0;34m)\u001b[0m\u001b[0;34m\u001b[0m\u001b[0m\n\u001b[0m\u001b[1;32m   1134\u001b[0m                     \u001b[0;32mexcept\u001b[0m \u001b[0mException\u001b[0m\u001b[0;34m:\u001b[0m\u001b[0;34m\u001b[0m\u001b[0m\n\u001b[1;32m   1135\u001b[0m                         \u001b[0mself\u001b[0m\u001b[0;34m.\u001b[0m\u001b[0mhad_exception\u001b[0m \u001b[0;34m=\u001b[0m \u001b[0mTrue\u001b[0m\u001b[0;34m\u001b[0m\u001b[0m\n",
      "\u001b[0;32m/home/users/menonsqr/anaconda2/lib/python2.7/site-packages/tornado/concurrent.pyc\u001b[0m in \u001b[0;36mresult\u001b[0;34m(self, timeout)\u001b[0m\n\u001b[1;32m    259\u001b[0m         \u001b[0;32mif\u001b[0m \u001b[0mself\u001b[0m\u001b[0;34m.\u001b[0m\u001b[0m_exc_info\u001b[0m \u001b[0;32mis\u001b[0m \u001b[0;32mnot\u001b[0m \u001b[0mNone\u001b[0m\u001b[0;34m:\u001b[0m\u001b[0;34m\u001b[0m\u001b[0m\n\u001b[1;32m    260\u001b[0m             \u001b[0;32mtry\u001b[0m\u001b[0;34m:\u001b[0m\u001b[0;34m\u001b[0m\u001b[0m\n\u001b[0;32m--> 261\u001b[0;31m                 \u001b[0mraise_exc_info\u001b[0m\u001b[0;34m(\u001b[0m\u001b[0mself\u001b[0m\u001b[0;34m.\u001b[0m\u001b[0m_exc_info\u001b[0m\u001b[0;34m)\u001b[0m\u001b[0;34m\u001b[0m\u001b[0m\n\u001b[0m\u001b[1;32m    262\u001b[0m             \u001b[0;32mfinally\u001b[0m\u001b[0;34m:\u001b[0m\u001b[0;34m\u001b[0m\u001b[0m\n\u001b[1;32m    263\u001b[0m                 \u001b[0mself\u001b[0m \u001b[0;34m=\u001b[0m \u001b[0mNone\u001b[0m\u001b[0;34m\u001b[0m\u001b[0m\n",
      "\u001b[0;32m/home/users/menonsqr/anaconda2/lib/python2.7/site-packages/tornado/gen.pyc\u001b[0m in \u001b[0;36mrun\u001b[0;34m(self)\u001b[0m\n\u001b[1;32m   1139\u001b[0m                     \u001b[0;32mif\u001b[0m \u001b[0mexc_info\u001b[0m \u001b[0;32mis\u001b[0m \u001b[0;32mnot\u001b[0m \u001b[0mNone\u001b[0m\u001b[0;34m:\u001b[0m\u001b[0;34m\u001b[0m\u001b[0m\n\u001b[1;32m   1140\u001b[0m                         \u001b[0;32mtry\u001b[0m\u001b[0;34m:\u001b[0m\u001b[0;34m\u001b[0m\u001b[0m\n\u001b[0;32m-> 1141\u001b[0;31m                             \u001b[0myielded\u001b[0m \u001b[0;34m=\u001b[0m \u001b[0mself\u001b[0m\u001b[0;34m.\u001b[0m\u001b[0mgen\u001b[0m\u001b[0;34m.\u001b[0m\u001b[0mthrow\u001b[0m\u001b[0;34m(\u001b[0m\u001b[0;34m*\u001b[0m\u001b[0mexc_info\u001b[0m\u001b[0;34m)\u001b[0m\u001b[0;34m\u001b[0m\u001b[0m\n\u001b[0m\u001b[1;32m   1142\u001b[0m                         \u001b[0;32mfinally\u001b[0m\u001b[0;34m:\u001b[0m\u001b[0;34m\u001b[0m\u001b[0m\n\u001b[1;32m   1143\u001b[0m                             \u001b[0;31m# Break up a reference to itself\u001b[0m\u001b[0;34m\u001b[0m\u001b[0;34m\u001b[0m\u001b[0m\n",
      "\u001b[0;32m/home/users/menonsqr/anaconda2/lib/python2.7/site-packages/distributed/deploy/local.pyc\u001b[0m in \u001b[0;36m_start\u001b[0;34m(self, ip, n_workers)\u001b[0m\n\u001b[1;32m    187\u001b[0m         \u001b[0mself\u001b[0m\u001b[0;34m.\u001b[0m\u001b[0mscheduler\u001b[0m\u001b[0;34m.\u001b[0m\u001b[0mstart\u001b[0m\u001b[0;34m(\u001b[0m\u001b[0mscheduler_address\u001b[0m\u001b[0;34m)\u001b[0m\u001b[0;34m\u001b[0m\u001b[0m\n\u001b[1;32m    188\u001b[0m \u001b[0;34m\u001b[0m\u001b[0m\n\u001b[0;32m--> 189\u001b[0;31m         \u001b[0;32myield\u001b[0m \u001b[0;34m[\u001b[0m\u001b[0mself\u001b[0m\u001b[0;34m.\u001b[0m\u001b[0m_start_worker\u001b[0m\u001b[0;34m(\u001b[0m\u001b[0;34m**\u001b[0m\u001b[0mself\u001b[0m\u001b[0;34m.\u001b[0m\u001b[0mworker_kwargs\u001b[0m\u001b[0;34m)\u001b[0m \u001b[0;32mfor\u001b[0m \u001b[0mi\u001b[0m \u001b[0;32min\u001b[0m \u001b[0mrange\u001b[0m\u001b[0;34m(\u001b[0m\u001b[0mn_workers\u001b[0m\u001b[0;34m)\u001b[0m\u001b[0;34m]\u001b[0m\u001b[0;34m\u001b[0m\u001b[0m\n\u001b[0m\u001b[1;32m    190\u001b[0m \u001b[0;34m\u001b[0m\u001b[0m\n\u001b[1;32m    191\u001b[0m         \u001b[0mself\u001b[0m\u001b[0;34m.\u001b[0m\u001b[0mstatus\u001b[0m \u001b[0;34m=\u001b[0m \u001b[0;34m'running'\u001b[0m\u001b[0;34m\u001b[0m\u001b[0m\n",
      "\u001b[0;32m/home/users/menonsqr/anaconda2/lib/python2.7/site-packages/tornado/gen.pyc\u001b[0m in \u001b[0;36mrun\u001b[0;34m(self)\u001b[0m\n\u001b[1;32m   1131\u001b[0m \u001b[0;34m\u001b[0m\u001b[0m\n\u001b[1;32m   1132\u001b[0m                     \u001b[0;32mtry\u001b[0m\u001b[0;34m:\u001b[0m\u001b[0;34m\u001b[0m\u001b[0m\n\u001b[0;32m-> 1133\u001b[0;31m                         \u001b[0mvalue\u001b[0m \u001b[0;34m=\u001b[0m \u001b[0mfuture\u001b[0m\u001b[0;34m.\u001b[0m\u001b[0mresult\u001b[0m\u001b[0;34m(\u001b[0m\u001b[0;34m)\u001b[0m\u001b[0;34m\u001b[0m\u001b[0m\n\u001b[0m\u001b[1;32m   1134\u001b[0m                     \u001b[0;32mexcept\u001b[0m \u001b[0mException\u001b[0m\u001b[0;34m:\u001b[0m\u001b[0;34m\u001b[0m\u001b[0m\n\u001b[1;32m   1135\u001b[0m                         \u001b[0mself\u001b[0m\u001b[0;34m.\u001b[0m\u001b[0mhad_exception\u001b[0m \u001b[0;34m=\u001b[0m \u001b[0mTrue\u001b[0m\u001b[0;34m\u001b[0m\u001b[0m\n",
      "\u001b[0;32m/home/users/menonsqr/anaconda2/lib/python2.7/site-packages/tornado/concurrent.pyc\u001b[0m in \u001b[0;36mresult\u001b[0;34m(self, timeout)\u001b[0m\n\u001b[1;32m    259\u001b[0m         \u001b[0;32mif\u001b[0m \u001b[0mself\u001b[0m\u001b[0;34m.\u001b[0m\u001b[0m_exc_info\u001b[0m \u001b[0;32mis\u001b[0m \u001b[0;32mnot\u001b[0m \u001b[0mNone\u001b[0m\u001b[0;34m:\u001b[0m\u001b[0;34m\u001b[0m\u001b[0m\n\u001b[1;32m    260\u001b[0m             \u001b[0;32mtry\u001b[0m\u001b[0;34m:\u001b[0m\u001b[0;34m\u001b[0m\u001b[0m\n\u001b[0;32m--> 261\u001b[0;31m                 \u001b[0mraise_exc_info\u001b[0m\u001b[0;34m(\u001b[0m\u001b[0mself\u001b[0m\u001b[0;34m.\u001b[0m\u001b[0m_exc_info\u001b[0m\u001b[0;34m)\u001b[0m\u001b[0;34m\u001b[0m\u001b[0m\n\u001b[0m\u001b[1;32m    262\u001b[0m             \u001b[0;32mfinally\u001b[0m\u001b[0;34m:\u001b[0m\u001b[0;34m\u001b[0m\u001b[0m\n\u001b[1;32m    263\u001b[0m                 \u001b[0mself\u001b[0m \u001b[0;34m=\u001b[0m \u001b[0mNone\u001b[0m\u001b[0;34m\u001b[0m\u001b[0m\n",
      "\u001b[0;32m/home/users/menonsqr/anaconda2/lib/python2.7/site-packages/tornado/gen.pyc\u001b[0m in \u001b[0;36mcallback\u001b[0;34m(f)\u001b[0m\n\u001b[1;32m    881\u001b[0m             \u001b[0;32mfor\u001b[0m \u001b[0mf\u001b[0m \u001b[0;32min\u001b[0m \u001b[0mchildren\u001b[0m\u001b[0;34m:\u001b[0m\u001b[0;34m\u001b[0m\u001b[0m\n\u001b[1;32m    882\u001b[0m                 \u001b[0;32mtry\u001b[0m\u001b[0;34m:\u001b[0m\u001b[0;34m\u001b[0m\u001b[0m\n\u001b[0;32m--> 883\u001b[0;31m                     \u001b[0mresult_list\u001b[0m\u001b[0;34m.\u001b[0m\u001b[0mappend\u001b[0m\u001b[0;34m(\u001b[0m\u001b[0mf\u001b[0m\u001b[0;34m.\u001b[0m\u001b[0mresult\u001b[0m\u001b[0;34m(\u001b[0m\u001b[0;34m)\u001b[0m\u001b[0;34m)\u001b[0m\u001b[0;34m\u001b[0m\u001b[0m\n\u001b[0m\u001b[1;32m    884\u001b[0m                 \u001b[0;32mexcept\u001b[0m \u001b[0mException\u001b[0m \u001b[0;32mas\u001b[0m \u001b[0me\u001b[0m\u001b[0;34m:\u001b[0m\u001b[0;34m\u001b[0m\u001b[0m\n\u001b[1;32m    885\u001b[0m                     \u001b[0;32mif\u001b[0m \u001b[0mfuture\u001b[0m\u001b[0;34m.\u001b[0m\u001b[0mdone\u001b[0m\u001b[0;34m(\u001b[0m\u001b[0;34m)\u001b[0m\u001b[0;34m:\u001b[0m\u001b[0;34m\u001b[0m\u001b[0m\n",
      "\u001b[0;32m/home/users/menonsqr/anaconda2/lib/python2.7/site-packages/tornado/concurrent.pyc\u001b[0m in \u001b[0;36mresult\u001b[0;34m(self, timeout)\u001b[0m\n\u001b[1;32m    259\u001b[0m         \u001b[0;32mif\u001b[0m \u001b[0mself\u001b[0m\u001b[0;34m.\u001b[0m\u001b[0m_exc_info\u001b[0m \u001b[0;32mis\u001b[0m \u001b[0;32mnot\u001b[0m \u001b[0mNone\u001b[0m\u001b[0;34m:\u001b[0m\u001b[0;34m\u001b[0m\u001b[0m\n\u001b[1;32m    260\u001b[0m             \u001b[0;32mtry\u001b[0m\u001b[0;34m:\u001b[0m\u001b[0;34m\u001b[0m\u001b[0m\n\u001b[0;32m--> 261\u001b[0;31m                 \u001b[0mraise_exc_info\u001b[0m\u001b[0;34m(\u001b[0m\u001b[0mself\u001b[0m\u001b[0;34m.\u001b[0m\u001b[0m_exc_info\u001b[0m\u001b[0;34m)\u001b[0m\u001b[0;34m\u001b[0m\u001b[0m\n\u001b[0m\u001b[1;32m    262\u001b[0m             \u001b[0;32mfinally\u001b[0m\u001b[0;34m:\u001b[0m\u001b[0;34m\u001b[0m\u001b[0m\n\u001b[1;32m    263\u001b[0m                 \u001b[0mself\u001b[0m \u001b[0;34m=\u001b[0m \u001b[0mNone\u001b[0m\u001b[0;34m\u001b[0m\u001b[0m\n",
      "\u001b[0;32m/home/users/menonsqr/anaconda2/lib/python2.7/site-packages/tornado/gen.pyc\u001b[0m in \u001b[0;36mrun\u001b[0;34m(self)\u001b[0m\n\u001b[1;32m   1145\u001b[0m                             \u001b[0mexc_info\u001b[0m \u001b[0;34m=\u001b[0m \u001b[0mNone\u001b[0m\u001b[0;34m\u001b[0m\u001b[0m\n\u001b[1;32m   1146\u001b[0m                     \u001b[0;32melse\u001b[0m\u001b[0;34m:\u001b[0m\u001b[0;34m\u001b[0m\u001b[0m\n\u001b[0;32m-> 1147\u001b[0;31m                         \u001b[0myielded\u001b[0m \u001b[0;34m=\u001b[0m \u001b[0mself\u001b[0m\u001b[0;34m.\u001b[0m\u001b[0mgen\u001b[0m\u001b[0;34m.\u001b[0m\u001b[0msend\u001b[0m\u001b[0;34m(\u001b[0m\u001b[0mvalue\u001b[0m\u001b[0;34m)\u001b[0m\u001b[0;34m\u001b[0m\u001b[0m\n\u001b[0m\u001b[1;32m   1148\u001b[0m \u001b[0;34m\u001b[0m\u001b[0m\n\u001b[1;32m   1149\u001b[0m                     \u001b[0;32mif\u001b[0m \u001b[0mstack_context\u001b[0m\u001b[0;34m.\u001b[0m\u001b[0m_state\u001b[0m\u001b[0;34m.\u001b[0m\u001b[0mcontexts\u001b[0m \u001b[0;32mis\u001b[0m \u001b[0;32mnot\u001b[0m \u001b[0morig_stack_contexts\u001b[0m\u001b[0;34m:\u001b[0m\u001b[0;34m\u001b[0m\u001b[0m\n",
      "\u001b[0;32m/home/users/menonsqr/anaconda2/lib/python2.7/site-packages/distributed/deploy/local.pyc\u001b[0m in \u001b[0;36m_start_worker\u001b[0;34m(self, death_timeout, **kwargs)\u001b[0m\n\u001b[1;32m    213\u001b[0m         \u001b[0;32mif\u001b[0m \u001b[0mw\u001b[0m\u001b[0;34m.\u001b[0m\u001b[0mstatus\u001b[0m \u001b[0;34m==\u001b[0m \u001b[0;34m'closed'\u001b[0m \u001b[0;32mand\u001b[0m \u001b[0mself\u001b[0m\u001b[0;34m.\u001b[0m\u001b[0mscheduler\u001b[0m\u001b[0;34m.\u001b[0m\u001b[0mstatus\u001b[0m \u001b[0;34m==\u001b[0m \u001b[0;34m'running'\u001b[0m\u001b[0;34m:\u001b[0m\u001b[0;34m\u001b[0m\u001b[0m\n\u001b[1;32m    214\u001b[0m             \u001b[0mself\u001b[0m\u001b[0;34m.\u001b[0m\u001b[0mworkers\u001b[0m\u001b[0;34m.\u001b[0m\u001b[0mremove\u001b[0m\u001b[0;34m(\u001b[0m\u001b[0mw\u001b[0m\u001b[0;34m)\u001b[0m\u001b[0;34m\u001b[0m\u001b[0m\n\u001b[0;32m--> 215\u001b[0;31m             \u001b[0;32mraise\u001b[0m \u001b[0mgen\u001b[0m\u001b[0;34m.\u001b[0m\u001b[0mTimeoutError\u001b[0m\u001b[0;34m(\u001b[0m\u001b[0;34m\"Worker failed to start\"\u001b[0m\u001b[0;34m)\u001b[0m\u001b[0;34m\u001b[0m\u001b[0m\n\u001b[0m\u001b[1;32m    216\u001b[0m \u001b[0;34m\u001b[0m\u001b[0m\n\u001b[1;32m    217\u001b[0m         \u001b[0;32mraise\u001b[0m \u001b[0mgen\u001b[0m\u001b[0;34m.\u001b[0m\u001b[0mReturn\u001b[0m\u001b[0;34m(\u001b[0m\u001b[0mw\u001b[0m\u001b[0;34m)\u001b[0m\u001b[0;34m\u001b[0m\u001b[0m\n",
      "\u001b[0;31mTimeoutError\u001b[0m: Worker failed to start"
     ]
    }
   ],
   "source": [
    "from distributed import Client, LocalCluster\n",
    "\n",
    "cluster = LocalCluster()\n",
    "client = Client(cluster)\n",
    "client"
   ]
  },
  {
   "cell_type": "markdown",
   "metadata": {},
   "source": [
    "Client is now a local cluster - it has 8 workers which are the individual cores of the computer"
   ]
  },
  {
   "cell_type": "code",
   "execution_count": 23,
   "metadata": {},
   "outputs": [],
   "source": [
    "def wrapper_function(delayed_traj):\n",
    "    nucs = []\n",
    "    for i in range(len(delayed_traj)):\n",
    "        nucs.append(delayed_traj[i].compute())\n",
    "    return nucs"
   ]
  },
  {
   "cell_type": "markdown",
   "metadata": {},
   "source": [
    "The above function is just used to wrap the delayed object calculation - this is required in order to submit the jobs to local cluster."
   ]
  },
  {
   "cell_type": "code",
   "execution_count": 25,
   "metadata": {},
   "outputs": [],
   "source": [
    "del_traj = calculate_nuctraj('traj.light',500)\n",
    "jobs = client.submit(wrapper_function,del_traj)"
   ]
  },
  {
   "cell_type": "code",
   "execution_count": 26,
   "metadata": {},
   "outputs": [
    {
     "data": {
      "text/html": [
       "<b>Future: wrapper_function</b> <font color=\"gray\">status: </font><font color=\"black\">finished</font>, <font color=\"gray\">type: </font>list, <font color=\"gray\">key: </font>wrapper_function-0303ade79a48f63032d26c2d36825d32"
      ],
      "text/plain": [
       "<Future: status: finished, type: list, key: wrapper_function-0303ade79a48f63032d26c2d36825d32>"
      ]
     },
     "execution_count": 26,
     "metadata": {},
     "output_type": "execute_result"
    }
   ],
   "source": [
    "jobs"
   ]
  },
  {
   "cell_type": "markdown",
   "metadata": {},
   "source": [
    "jobs is Future function - it is not run yet, but scheduled in different clusters available in the system. Nothing is run yet - but everything is planned. A delayed object on future function."
   ]
  },
  {
   "cell_type": "code",
   "execution_count": 27,
   "metadata": {
    "scrolled": true
   },
   "outputs": [
    {
     "name": "stdout",
     "output_type": "stream",
     "text": [
      "100 loops, best of 3: 10.9 ms per loop\n"
     ]
    }
   ],
   "source": [
    "%%timeit\n",
    "jj = jobs.result()"
   ]
  },
  {
   "cell_type": "markdown",
   "metadata": {},
   "source": [
    "results function calculated the results now - this ran really fast! of course, because it ran in parallel."
   ]
  },
  {
   "cell_type": "markdown",
   "metadata": {},
   "source": [
    "#### Compared to the **10.3 ms** used by the dask code, our python parallel implementation with the same cores took **450 ms**! "
   ]
  },
  {
   "cell_type": "code",
   "execution_count": 31,
   "metadata": {},
   "outputs": [],
   "source": [
    "del_traj = calculate_nuctraj('traj.long',500)\n",
    "jobs = client.submit(wrapper_function,del_traj)"
   ]
  },
  {
   "cell_type": "code",
   "execution_count": 34,
   "metadata": {},
   "outputs": [
    {
     "name": "stdout",
     "output_type": "stream",
     "text": [
      "100 loops, best of 3: 12.1 ms per loop\n"
     ]
    }
   ],
   "source": [
    "%%timeit\n",
    "jj = jobs.result()"
   ]
  },
  {
   "cell_type": "markdown",
   "metadata": {},
   "source": [
    "#### On testing with the longer trajectory, dask took 10.1ms whereas the python implementation took 12 s!"
   ]
  },
  {
   "cell_type": "code",
   "execution_count": 36,
   "metadata": {},
   "outputs": [
    {
     "data": {
      "text/plain": [
       "<matplotlib.text.Text at 0x7f4a5c418410>"
      ]
     },
     "execution_count": 36,
     "metadata": {},
     "output_type": "execute_result"
    },
    {
     "data": {
      "image/png": "[encoded data removed]",
      "text/plain": [
       "<matplotlib.figure.Figure at 0x7f4a9c2579d0>"
      ]
     },
     "metadata": {},
     "output_type": "display_data"
    }
   ],
   "source": [
    "objects = ('python mp - traj1', 'dask cluster - traj 1', 'python mp - traj2', 'dask cluster - traj 2')\n",
    "y_pos = np.arange(len(objects))\n",
    "performance = [10,450,12,1200]\n",
    " \n",
    "plt.bar(y_pos, performance, align='center', alpha=0.5,color='#880E4F')\n",
    "plt.xticks(y_pos, objects)\n",
    "plt.ylabel('Time (ms - traj1) (s- traj 2)')\n",
    "plt.title('Performance for traj 1')"
   ]
  }
 ],
 "metadata": {
  "kernelspec": {
   "display_name": "Python [Root]",
   "language": "python",
   "name": "Python [Root]"
  },
  "language_info": {
   "codemirror_mode": {
    "name": "ipython",
    "version": 2
   },
   "file_extension": ".py",
   "mimetype": "text/x-python",
   "name": "python",
   "nbconvert_exporter": "python",
   "pygments_lexer": "ipython2",
   "version": "2.7.12"
  },
  "nbpresent": {
   "slides": {
    "2895b545-a8e7-4805-87b2-d73c6764e920": {
     "id": "2895b545-a8e7-4805-87b2-d73c6764e920",
     "prev": "dbaf5877-fbcd-468e-8122-fe6b154e1f1a",
     "regions": {
      "3d209cbd-dd0a-411e-99c7-510e898196af": {
       "attrs": {
        "height": 0.8,
        "width": 0.8,
        "x": 0.1,
        "y": 0.1
       },
       "content": {
        "cell": "aa5b06c9-13d9-4898-9cb8-cc483880e309",
        "part": "whole"
       },
       "id": "3d209cbd-dd0a-411e-99c7-510e898196af"
      }
     }
    },
    "59a6bb65-d0fa-479b-a493-19e299f679c7": {
     "id": "59a6bb65-d0fa-479b-a493-19e299f679c7",
     "prev": null,
     "regions": {
      "dad17a3c-9379-4543-a457-7af7e8d85066": {
       "attrs": {
        "height": 0.8,
        "width": 0.8,
        "x": 0.1,
        "y": 0.1
       },
       "content": {
        "cell": "a1aca7c8-bd61-487a-bd0c-1766515a774d",
        "part": "whole"
       },
       "id": "dad17a3c-9379-4543-a457-7af7e8d85066"
      }
     }
    },
    "dbaf5877-fbcd-468e-8122-fe6b154e1f1a": {
     "id": "dbaf5877-fbcd-468e-8122-fe6b154e1f1a",
     "prev": "59a6bb65-d0fa-479b-a493-19e299f679c7",
     "regions": {
      "43e141d8-6937-4614-9329-9142bdc7577d": {
       "attrs": {
        "height": 0.8,
        "width": 0.8,
        "x": 0.1,
        "y": 0.1
       },
       "content": {
        "cell": "8c843e38-da91-4647-94f4-278908fe0c43",
        "part": "whole"
       },
       "id": "43e141d8-6937-4614-9329-9142bdc7577d"
      }
     }
    }
   },
   "themes": {
    "default": "95373924-e02f-43f9-b58c-77d971b996a4",
    "theme": {
     "95373924-e02f-43f9-b58c-77d971b996a4": {
      "backgrounds": {
       "dc7afa04-bf90-40b1-82a5-726e3cff5267": {
        "background-color": "31af15d2-7e15-44c5-ab5e-e04b16a89eff",
        "id": "dc7afa04-bf90-40b1-82a5-726e3cff5267"
       }
      },
      "id": "95373924-e02f-43f9-b58c-77d971b996a4",
      "palette": {
       "19cc588f-0593-49c9-9f4b-e4d7cc113b1c": {
        "id": "19cc588f-0593-49c9-9f4b-e4d7cc113b1c",
        "rgb": [
         252,
         252,
         252
        ]
       },
       "31af15d2-7e15-44c5-ab5e-e04b16a89eff": {
        "id": "31af15d2-7e15-44c5-ab5e-e04b16a89eff",
        "rgb": [
         68,
         68,
         68
        ]
       },
       "50f92c45-a630-455b-aec3-788680ec7410": {
        "id": "50f92c45-a630-455b-aec3-788680ec7410",
        "rgb": [
         197,
         226,
         245
        ]
       },
       "c5cc3653-2ee1-402a-aba2-7caae1da4f6c": {
        "id": "c5cc3653-2ee1-402a-aba2-7caae1da4f6c",
        "rgb": [
         43,
         126,
         184
        ]
       },
       "efa7f048-9acb-414c-8b04-a26811511a21": {
        "id": "efa7f048-9acb-414c-8b04-a26811511a21",
        "rgb": [
         25.118061674008803,
         73.60176211453744,
         107.4819383259912
        ]
       }
      },
      "rules": {
       "a": {
        "color": "19cc588f-0593-49c9-9f4b-e4d7cc113b1c"
       },
       "blockquote": {
        "color": "50f92c45-a630-455b-aec3-788680ec7410",
        "font-size": 3
       },
       "code": {
        "font-family": "Anonymous Pro"
       },
       "h1": {
        "color": "19cc588f-0593-49c9-9f4b-e4d7cc113b1c",
        "font-family": "Merriweather",
        "font-size": 8
       },
       "h2": {
        "color": "19cc588f-0593-49c9-9f4b-e4d7cc113b1c",
        "font-family": "Merriweather",
        "font-size": 6
       },
       "h3": {
        "color": "50f92c45-a630-455b-aec3-788680ec7410",
        "font-family": "Lato",
        "font-size": 5.5
       },
       "h4": {
        "color": "c5cc3653-2ee1-402a-aba2-7caae1da4f6c",
        "font-family": "Lato",
        "font-size": 5
       },
       "h5": {
        "font-family": "Lato"
       },
       "h6": {
        "font-family": "Lato"
       },
       "h7": {
        "font-family": "Lato"
       },
       "li": {
        "color": "50f92c45-a630-455b-aec3-788680ec7410",
        "font-size": 3.25
       },
       "pre": {
        "font-family": "Anonymous Pro",
        "font-size": 4
       }
      },
      "text-base": {
       "color": "19cc588f-0593-49c9-9f4b-e4d7cc113b1c",
       "font-family": "Lato",
       "font-size": 4
      }
     }
    }
   }
  }
 },
 "nbformat": 4,
 "nbformat_minor": 2
}
