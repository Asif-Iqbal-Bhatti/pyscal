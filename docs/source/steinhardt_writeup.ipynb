{
 "cells": [
  {
   "cell_type": "markdown",
   "metadata": {},
   "source": [
    "## Steinhardt's bond orientational order parameters"
   ]
  },
  {
   "cell_type": "markdown",
   "metadata": {},
   "source": [
    "### Steinhardt's parameters"
   ]
  },
  {
   "cell_type": "markdown",
   "metadata": {},
   "source": [
    "Steinhardt's bond orientational order parameters are a set of parameters based on the local atomic environment. These parameters have been used extensively for various uses such as distinction of crystal structures, identification of solid and liquid atoms and identification of defects.\n",
    "\n",
    "These parameters, which are rotationally and translationally invariant are defined by,\n",
    "\n",
    "\n",
    "$$ q_l (i) =  \\Big(  \\frac{4\\pi}{2l+1}  \\sum_{m=-l}^l | q_{lm}(i) |^2 \\Big )^{\\frac{1}{2}} $$ \n",
    "\n",
    "where, \n",
    "\n",
    "$$ q_{lm} (i) =  \\frac{1}{N(i)} \\sum_{j=1}^{N(i)} Y_{lm}(\\pmb{r}_{ij}) $$ \n",
    "\n",
    "in which $Y_{lm}$ are the spherical harmonics and $N(i)$ is the number of neighbours of particle $i$, $\\pmb{r}_{ij}$ is the vector connecting particles $i$ and $j$, and $l$ and $m$ are both intergers with $m \\in [-l,+l]$. Various parameters have found specific uses, such as $q_2$ and $q_6$ for identification of crystallinity, $q_6$ for identification of solidity, and $q_4$ and $q_6$ for distinction of crystal structures. The traditional method makes use of a cutoff radius which takes into account the neighbors of an atom. The cutoff can be chosen based on different methods available.  Once the cutoff is chosen and neighbors are calculated, the calculation of Steinhardt parameters are straightforward."
   ]
  },
  {
   "cell_type": "code",
   "execution_count": null,
   "metadata": {},
   "outputs": [],
   "source": [
    "sys.calculate_q([4, 6])\n",
    "q = sys.get_qvals([4, 6])"
   ]
  },
  {
   "cell_type": "markdown",
   "metadata": {},
   "source": [
    "### Averaged Steinhardt's parameters"
   ]
  },
  {
   "cell_type": "markdown",
   "metadata": {},
   "source": [
    "At high temperatures, thermal vibrations affect the atomic positions. This in turn leads to overlapping distributions of $q_l$ parameters, which in turn leads to difficulty in identification of crystal structures. In order to address this problem, the averaged version $\\bar{q}_l$ of Steinhardt's parameters was introduced by Lechner and Dellago. $\\bar{q}_l$ is given by,\n",
    "\n",
    "$$ \\bar{q}_l (i) =  \\Big(  \\frac{4\\pi}{2l+1}  \\sum_{m=-l}^l \\Big| \\frac{1}{\\tilde{N}(i)} \\sum_{k=0}^{\\tilde{N}(i)} q_{lm}(k) \\Big|^2 \\Big )^{\\frac{1}{2}} $$ \n",
    "\n",
    "where the sum from $k=0$ to $\\tilde{N}(i)$ is over all the neighbors and the particle itself. The averaged parameters takes into account the first neighbor shell and also information from the neighboring atoms and thus reduces the overlap between the distributions. Averaged versions can be calculated by setting the keyword ``averaged=True`` as follows.\n"
   ]
  },
  {
   "cell_type": "code",
   "execution_count": null,
   "metadata": {},
   "outputs": [],
   "source": [
    "sys.calculate_q([4, 6], averaged=True)\n",
    "q = sys.get_qvals([4, 6], averaged=True)"
   ]
  },
  {
   "cell_type": "markdown",
   "metadata": {},
   "source": [
    "### Voronoi weighted Steinhardt's parameters"
   ]
  },
  {
   "cell_type": "markdown",
   "metadata": {},
   "source": [
    "Finding neighbors using the Voronoi method is a parameter free method. In order to improve the resolution of crystal structures Mickel et al proposed weighting the contribution of each neighbor to Steinhardt parameters by the ratio of the area of the Voronoi facet shared between the neighbor and host atom. Thw weighted parameters are given by,  \n",
    "\n",
    "$$ q_{lm} (i) =  \\frac{1}{N(i)} \\sum_{j=1}^{N(i)} \\frac{A_{ij}}{A} Y_{lm}(\\pmb{r}_{ij}) $$ \n",
    "\n",
    "where $A_{ij}$ is the area of the Voronoi facet between atoms $i$ and $j$ and $A$ is the sum of the face areas of atom $i$. In ``pyscal``, the area weights are already assigned during the neighbor calculation phase when the Voronoi method is used to calculate neighbors.  The Voronoi weighted Steinhardt's parameters can be calculated as follows,  "
   ]
  },
  {
   "cell_type": "code",
   "execution_count": null,
   "metadata": {},
   "outputs": [],
   "source": [
    "sys.get_neighbors(method='voronoi')\n",
    "sys.calculate_q([4, 6])\n",
    "q = sys.get_qvals([4, 6])"
   ]
  },
  {
   "cell_type": "markdown",
   "metadata": {},
   "source": [
    "The weighted Steinhardt's parameters can also be averaged as described above. Once again, the keyword ``averaged=True`` can be used for this purpose."
   ]
  },
  {
   "cell_type": "code",
   "execution_count": null,
   "metadata": {},
   "outputs": [],
   "source": [
    "sys.get_neighbors(method='voronoi')\n",
    "sys.calculate_q([4, 6], averaged=True)\n",
    "q = sys.get_qvals([4, 6], averaged=True)"
   ]
  },
  {
   "cell_type": "markdown",
   "metadata": {},
   "source": [
    "It was also proposed that higher powers of the weight $\\frac{A_{ij}^{\\alpha}}{A}$ where $\\alpha = 2, 3$ can also be used. The value of this  can be set using the keyword ``voroexp`` during the neighbor calculation phase. "
   ]
  },
  {
   "cell_type": "code",
   "execution_count": null,
   "metadata": {},
   "outputs": [],
   "source": [
    "sys.get_neighbors(method='voronoi', voroexp=2)"
   ]
  },
  {
   "cell_type": "markdown",
   "metadata": {},
   "source": [
    "If the value of ``voroexp`` is set to 0, the neighbors would be found using Voronoi method, but the calculated Steinhardt's parameters will not be weighted."
   ]
  }
 ],
 "metadata": {
  "kernelspec": {
   "display_name": "Python (myenv)",
   "language": "python",
   "name": "myenv"
  },
  "language_info": {
   "codemirror_mode": {
    "name": "ipython",
    "version": 3
   },
   "file_extension": ".py",
   "mimetype": "text/x-python",
   "name": "python",
   "nbconvert_exporter": "python",
   "pygments_lexer": "ipython3",
   "version": "3.7.4"
  }
 },
 "nbformat": 4,
 "nbformat_minor": 4
}
