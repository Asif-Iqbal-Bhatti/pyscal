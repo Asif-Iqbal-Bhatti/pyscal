{
 "cells": [
  {
   "cell_type": "markdown",
   "metadata": {},
   "source": [
    "## Steinhardt's bond orientational order parameters"
   ]
  },
  {
   "cell_type": "markdown",
   "metadata": {},
   "source": [
    "### Steinhardt's parameters"
   ]
  },
  {
   "cell_type": "markdown",
   "metadata": {},
   "source": [
    "Steinhardt's bond orientational order parameters are a set of parameters based on the local atomic environment. These parameters have been used extensively for various uses such as distinction of crystal structures, identification of solid and liquid atoms and identification of defects.\n",
    "\n",
    "These parameters, which are rotationally and translationally invariant are defined by,\n",
    "\n",
    "\n",
    "$$ q_l (i) =  \\Big(  \\frac{4\\pi}{2l+1}  \\sum_{m=-l}^l | q_{lm}(i) |^2 \\Big )^{\\frac{1}{2}} $$ \n",
    "\n",
    "where, \n",
    "\n",
    "$$ q_{lm} (i) =  \\frac{1}{N(i)} \\sum_{j=1}^{N(i)} Y_{lm}(\\pmb{r}_{ij}) $$ \n",
    "\n",
    "in which $Y_{lm}$ are the spherical harmonics and $N(i)$ is the number of neighbours of particle $i$, $\\pmb{r}_{ij}$ is the vector connecting particles $i$ and $j$, and $l$ and $m$ are both intergers with $m \\in [-l,+l]$. Various parameters have found specific uses, such as $q_2$ and $q_6$ for identification of crystallinity, $q_6$ for identification of solidity, and $q_4$ and $q_6$ for distinction of crystal structures. The traditional method makes use of a cutoff radius which takes into account the neighbors of an atom. The cutoff can be chosen based on different methods available.  Once the cutoff is chosen and neighbors are calculated, the calculation of Steinhardt parameters are straightforward."
   ]
  },
  {
   "cell_type": "code",
   "execution_count": null,
   "metadata": {},
   "outputs": [],
   "source": [
    "sys.calculate_q([4, 6])\n",
    "q = sys.get_qvals([4, 6])"
   ]
  },
  {
   "cell_type": "markdown",
   "metadata": {},
   "source": [
    "### Averaged Steinhardt's parameters"
   ]
  },
  {
   "cell_type": "markdown",
   "metadata": {},
   "source": [
    "At high temperatures, thermal vibrations affect the atomic positions. This in turn leads to overlapping distributions of $q_l$ parameters, which in turn leads to difficulty in identification of crystal structures. In order to address this problem, the averaged version $\\bar{q}_l$ of Steinhardt's parameters was introduced by Lechner and Dellago. $\\bar{q}_l$ is given by,\n",
    "\n",
    "$$ \\bar{q}_l (i) =  \\Big(  \\frac{4\\pi}{2l+1}  \\sum_{m=-l}^l \\Big| \\frac{1}{\\tilde{N}(i)} \\sum_{k=0}^{\\tilde{N}(i)} q_{lm}(k) \\Big|^2 \\Big )^{\\frac{1}{2}} $$ \n",
    "\n",
    "where the sum from $k=0$ to $\\tilde{N}(i)$ is over all the neighbors and the particle itself. The averaged parameters takes into account the first neighbor shell and also information from the neighboring atoms and thus reduces the overlap between the distributions. Averaged versions can be calculated by setting the keyword ``averaged=True`` as follows.\n"
   ]
  },
  {
   "cell_type": "code",
   "execution_count": null,
   "metadata": {},
   "outputs": [],
   "source": [
    "sys.calculate_q([4, 6], averaged=True)\n",
    "q = sys.get_qvals([4, 6], averaged=True)"
   ]
  }
 ],
 "metadata": {
  "kernelspec": {
   "display_name": "ml",
   "language": "python",
   "name": "ml"
  },
  "language_info": {
   "codemirror_mode": {
    "name": "ipython",
    "version": 3
   },
   "file_extension": ".py",
   "mimetype": "text/x-python",
   "name": "python",
   "nbconvert_exporter": "python",
   "pygments_lexer": "ipython3",
   "version": "3.7.3"
  }
 },
 "nbformat": 4,
 "nbformat_minor": 4
}
